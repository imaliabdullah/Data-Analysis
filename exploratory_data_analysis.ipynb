{
 "cells": [
  {
   "attachments": {},
   "cell_type": "markdown",
   "metadata": {},
   "source": [
    "# Exploratory Data Analysis"
   ]
  },
  {
   "attachments": {},
   "cell_type": "markdown",
   "metadata": {},
   "source": [
    "Exploratory data analysis (EDA) is a Data Science concept where we analyze a dataset to discover patterns, trend, and relationship within the data. It helps and guides us in making informed decisions and formulating strategies to solve real business problems. If you want to understand Exploratory Data Analysis practically, this is for you. In this, i will take you through an implementation of Exploratory Daya Analysis using Python"
   ]
  },
  {
   "cell_type": "code",
   "execution_count": 2,
   "metadata": {},
   "outputs": [],
   "source": [
    "import pandas as pd\n",
    "import plotly.express as px\n",
    "import plotly.graph_objects as go\n",
    "import plotly.io as pio\n",
    "pio.templates.default = 'plotly_white'\n",
    "\n",
    "data = pd.read_csv('Instagram data.csv', encoding='latin-1')"
   ]
  },
  {
   "cell_type": "code",
   "execution_count": 3,
   "metadata": {},
   "outputs": [
    {
     "data": {
      "text/html": [
       "<div>\n",
       "<style scoped>\n",
       "    .dataframe tbody tr th:only-of-type {\n",
       "        vertical-align: middle;\n",
       "    }\n",
       "\n",
       "    .dataframe tbody tr th {\n",
       "        vertical-align: top;\n",
       "    }\n",
       "\n",
       "    .dataframe thead th {\n",
       "        text-align: right;\n",
       "    }\n",
       "</style>\n",
       "<table border=\"1\" class=\"dataframe\">\n",
       "  <thead>\n",
       "    <tr style=\"text-align: right;\">\n",
       "      <th></th>\n",
       "      <th>Impressions</th>\n",
       "      <th>From Home</th>\n",
       "      <th>From Hashtags</th>\n",
       "      <th>From Explore</th>\n",
       "      <th>From Other</th>\n",
       "      <th>Saves</th>\n",
       "      <th>Comments</th>\n",
       "      <th>Shares</th>\n",
       "      <th>Likes</th>\n",
       "      <th>Profile Visits</th>\n",
       "      <th>Follows</th>\n",
       "      <th>Caption</th>\n",
       "      <th>Hashtags</th>\n",
       "    </tr>\n",
       "  </thead>\n",
       "  <tbody>\n",
       "    <tr>\n",
       "      <th>0</th>\n",
       "      <td>3920</td>\n",
       "      <td>2586</td>\n",
       "      <td>1028</td>\n",
       "      <td>619</td>\n",
       "      <td>56</td>\n",
       "      <td>98</td>\n",
       "      <td>9</td>\n",
       "      <td>5</td>\n",
       "      <td>162</td>\n",
       "      <td>35</td>\n",
       "      <td>2</td>\n",
       "      <td>Here are some of the most important data visua...</td>\n",
       "      <td>#finance #money #business #investing #investme...</td>\n",
       "    </tr>\n",
       "    <tr>\n",
       "      <th>1</th>\n",
       "      <td>5394</td>\n",
       "      <td>2727</td>\n",
       "      <td>1838</td>\n",
       "      <td>1174</td>\n",
       "      <td>78</td>\n",
       "      <td>194</td>\n",
       "      <td>7</td>\n",
       "      <td>14</td>\n",
       "      <td>224</td>\n",
       "      <td>48</td>\n",
       "      <td>10</td>\n",
       "      <td>Here are some of the best data science project...</td>\n",
       "      <td>#healthcare #health #covid #data #datascience ...</td>\n",
       "    </tr>\n",
       "    <tr>\n",
       "      <th>2</th>\n",
       "      <td>4021</td>\n",
       "      <td>2085</td>\n",
       "      <td>1188</td>\n",
       "      <td>0</td>\n",
       "      <td>533</td>\n",
       "      <td>41</td>\n",
       "      <td>11</td>\n",
       "      <td>1</td>\n",
       "      <td>131</td>\n",
       "      <td>62</td>\n",
       "      <td>12</td>\n",
       "      <td>Learn how to train a machine learning model an...</td>\n",
       "      <td>#data #datascience #dataanalysis #dataanalytic...</td>\n",
       "    </tr>\n",
       "    <tr>\n",
       "      <th>3</th>\n",
       "      <td>4528</td>\n",
       "      <td>2700</td>\n",
       "      <td>621</td>\n",
       "      <td>932</td>\n",
       "      <td>73</td>\n",
       "      <td>172</td>\n",
       "      <td>10</td>\n",
       "      <td>7</td>\n",
       "      <td>213</td>\n",
       "      <td>23</td>\n",
       "      <td>8</td>\n",
       "      <td>Heres how you can write a Python program to d...</td>\n",
       "      <td>#python #pythonprogramming #pythonprojects #py...</td>\n",
       "    </tr>\n",
       "    <tr>\n",
       "      <th>4</th>\n",
       "      <td>2518</td>\n",
       "      <td>1704</td>\n",
       "      <td>255</td>\n",
       "      <td>279</td>\n",
       "      <td>37</td>\n",
       "      <td>96</td>\n",
       "      <td>5</td>\n",
       "      <td>4</td>\n",
       "      <td>123</td>\n",
       "      <td>8</td>\n",
       "      <td>0</td>\n",
       "      <td>Plotting annotations while visualizing your da...</td>\n",
       "      <td>#datavisualization #datascience #data #dataana...</td>\n",
       "    </tr>\n",
       "  </tbody>\n",
       "</table>\n",
       "</div>"
      ],
      "text/plain": [
       "   Impressions  From Home  From Hashtags  From Explore  From Other  Saves  \\\n",
       "0         3920       2586           1028           619          56     98   \n",
       "1         5394       2727           1838          1174          78    194   \n",
       "2         4021       2085           1188             0         533     41   \n",
       "3         4528       2700            621           932          73    172   \n",
       "4         2518       1704            255           279          37     96   \n",
       "\n",
       "   Comments  Shares  Likes  Profile Visits  Follows  \\\n",
       "0         9       5    162              35        2   \n",
       "1         7      14    224              48       10   \n",
       "2        11       1    131              62       12   \n",
       "3        10       7    213              23        8   \n",
       "4         5       4    123               8        0   \n",
       "\n",
       "                                             Caption  \\\n",
       "0  Here are some of the most important data visua...   \n",
       "1  Here are some of the best data science project...   \n",
       "2  Learn how to train a machine learning model an...   \n",
       "3  Heres how you can write a Python program to d...   \n",
       "4  Plotting annotations while visualizing your da...   \n",
       "\n",
       "                                            Hashtags  \n",
       "0  #finance #money #business #investing #investme...  \n",
       "1  #healthcare #health #covid #data #datascience ...  \n",
       "2  #data #datascience #dataanalysis #dataanalytic...  \n",
       "3  #python #pythonprogramming #pythonprojects #py...  \n",
       "4  #datavisualization #datascience #data #dataana...  "
      ]
     },
     "execution_count": 3,
     "metadata": {},
     "output_type": "execute_result"
    }
   ],
   "source": [
    "data.head()"
   ]
  },
  {
   "attachments": {},
   "cell_type": "markdown",
   "metadata": {},
   "source": [
    "Now let's have a look at all the columns the dataset contains:"
   ]
  },
  {
   "cell_type": "code",
   "execution_count": 5,
   "metadata": {},
   "outputs": [
    {
     "data": {
      "text/plain": [
       "Index(['Impressions', 'From Home', 'From Hashtags', 'From Explore',\n",
       "       'From Other', 'Saves', 'Comments', 'Shares', 'Likes', 'Profile Visits',\n",
       "       'Follows', 'Caption', 'Hashtags'],\n",
       "      dtype='object')"
      ]
     },
     "execution_count": 5,
     "metadata": {},
     "output_type": "execute_result"
    }
   ],
   "source": [
    "data.columns"
   ]
  },
  {
   "attachments": {},
   "cell_type": "markdown",
   "metadata": {},
   "source": [
    "Now let's have a look at the column info:"
   ]
  },
  {
   "cell_type": "code",
   "execution_count": 6,
   "metadata": {},
   "outputs": [
    {
     "name": "stdout",
     "output_type": "stream",
     "text": [
      "<class 'pandas.core.frame.DataFrame'>\n",
      "RangeIndex: 119 entries, 0 to 118\n",
      "Data columns (total 13 columns):\n",
      " #   Column          Non-Null Count  Dtype \n",
      "---  ------          --------------  ----- \n",
      " 0   Impressions     119 non-null    int64 \n",
      " 1   From Home       119 non-null    int64 \n",
      " 2   From Hashtags   119 non-null    int64 \n",
      " 3   From Explore    119 non-null    int64 \n",
      " 4   From Other      119 non-null    int64 \n",
      " 5   Saves           119 non-null    int64 \n",
      " 6   Comments        119 non-null    int64 \n",
      " 7   Shares          119 non-null    int64 \n",
      " 8   Likes           119 non-null    int64 \n",
      " 9   Profile Visits  119 non-null    int64 \n",
      " 10  Follows         119 non-null    int64 \n",
      " 11  Caption         119 non-null    object\n",
      " 12  Hashtags        119 non-null    object\n",
      "dtypes: int64(11), object(2)\n",
      "memory usage: 12.2+ KB\n"
     ]
    }
   ],
   "source": [
    "data.info()"
   ]
  },
  {
   "attachments": {},
   "cell_type": "markdown",
   "metadata": {},
   "source": [
    "Next we look at the descriptive statistics of the data:"
   ]
  },
  {
   "cell_type": "code",
   "execution_count": 7,
   "metadata": {},
   "outputs": [
    {
     "data": {
      "text/html": [
       "<div>\n",
       "<style scoped>\n",
       "    .dataframe tbody tr th:only-of-type {\n",
       "        vertical-align: middle;\n",
       "    }\n",
       "\n",
       "    .dataframe tbody tr th {\n",
       "        vertical-align: top;\n",
       "    }\n",
       "\n",
       "    .dataframe thead th {\n",
       "        text-align: right;\n",
       "    }\n",
       "</style>\n",
       "<table border=\"1\" class=\"dataframe\">\n",
       "  <thead>\n",
       "    <tr style=\"text-align: right;\">\n",
       "      <th></th>\n",
       "      <th>Impressions</th>\n",
       "      <th>From Home</th>\n",
       "      <th>From Hashtags</th>\n",
       "      <th>From Explore</th>\n",
       "      <th>From Other</th>\n",
       "      <th>Saves</th>\n",
       "      <th>Comments</th>\n",
       "      <th>Shares</th>\n",
       "      <th>Likes</th>\n",
       "      <th>Profile Visits</th>\n",
       "      <th>Follows</th>\n",
       "    </tr>\n",
       "  </thead>\n",
       "  <tbody>\n",
       "    <tr>\n",
       "      <th>count</th>\n",
       "      <td>119.000000</td>\n",
       "      <td>119.000000</td>\n",
       "      <td>119.000000</td>\n",
       "      <td>119.000000</td>\n",
       "      <td>119.000000</td>\n",
       "      <td>119.000000</td>\n",
       "      <td>119.000000</td>\n",
       "      <td>119.000000</td>\n",
       "      <td>119.000000</td>\n",
       "      <td>119.000000</td>\n",
       "      <td>119.000000</td>\n",
       "    </tr>\n",
       "    <tr>\n",
       "      <th>mean</th>\n",
       "      <td>5703.991597</td>\n",
       "      <td>2475.789916</td>\n",
       "      <td>1887.512605</td>\n",
       "      <td>1078.100840</td>\n",
       "      <td>171.092437</td>\n",
       "      <td>153.310924</td>\n",
       "      <td>6.663866</td>\n",
       "      <td>9.361345</td>\n",
       "      <td>173.781513</td>\n",
       "      <td>50.621849</td>\n",
       "      <td>20.756303</td>\n",
       "    </tr>\n",
       "    <tr>\n",
       "      <th>std</th>\n",
       "      <td>4843.780105</td>\n",
       "      <td>1489.386348</td>\n",
       "      <td>1884.361443</td>\n",
       "      <td>2613.026132</td>\n",
       "      <td>289.431031</td>\n",
       "      <td>156.317731</td>\n",
       "      <td>3.544576</td>\n",
       "      <td>10.089205</td>\n",
       "      <td>82.378947</td>\n",
       "      <td>87.088402</td>\n",
       "      <td>40.921580</td>\n",
       "    </tr>\n",
       "    <tr>\n",
       "      <th>min</th>\n",
       "      <td>1941.000000</td>\n",
       "      <td>1133.000000</td>\n",
       "      <td>116.000000</td>\n",
       "      <td>0.000000</td>\n",
       "      <td>9.000000</td>\n",
       "      <td>22.000000</td>\n",
       "      <td>0.000000</td>\n",
       "      <td>0.000000</td>\n",
       "      <td>72.000000</td>\n",
       "      <td>4.000000</td>\n",
       "      <td>0.000000</td>\n",
       "    </tr>\n",
       "    <tr>\n",
       "      <th>25%</th>\n",
       "      <td>3467.000000</td>\n",
       "      <td>1945.000000</td>\n",
       "      <td>726.000000</td>\n",
       "      <td>157.500000</td>\n",
       "      <td>38.000000</td>\n",
       "      <td>65.000000</td>\n",
       "      <td>4.000000</td>\n",
       "      <td>3.000000</td>\n",
       "      <td>121.500000</td>\n",
       "      <td>15.000000</td>\n",
       "      <td>4.000000</td>\n",
       "    </tr>\n",
       "    <tr>\n",
       "      <th>50%</th>\n",
       "      <td>4289.000000</td>\n",
       "      <td>2207.000000</td>\n",
       "      <td>1278.000000</td>\n",
       "      <td>326.000000</td>\n",
       "      <td>74.000000</td>\n",
       "      <td>109.000000</td>\n",
       "      <td>6.000000</td>\n",
       "      <td>6.000000</td>\n",
       "      <td>151.000000</td>\n",
       "      <td>23.000000</td>\n",
       "      <td>8.000000</td>\n",
       "    </tr>\n",
       "    <tr>\n",
       "      <th>75%</th>\n",
       "      <td>6138.000000</td>\n",
       "      <td>2602.500000</td>\n",
       "      <td>2363.500000</td>\n",
       "      <td>689.500000</td>\n",
       "      <td>196.000000</td>\n",
       "      <td>169.000000</td>\n",
       "      <td>8.000000</td>\n",
       "      <td>13.500000</td>\n",
       "      <td>204.000000</td>\n",
       "      <td>42.000000</td>\n",
       "      <td>18.000000</td>\n",
       "    </tr>\n",
       "    <tr>\n",
       "      <th>max</th>\n",
       "      <td>36919.000000</td>\n",
       "      <td>13473.000000</td>\n",
       "      <td>11817.000000</td>\n",
       "      <td>17414.000000</td>\n",
       "      <td>2547.000000</td>\n",
       "      <td>1095.000000</td>\n",
       "      <td>19.000000</td>\n",
       "      <td>75.000000</td>\n",
       "      <td>549.000000</td>\n",
       "      <td>611.000000</td>\n",
       "      <td>260.000000</td>\n",
       "    </tr>\n",
       "  </tbody>\n",
       "</table>\n",
       "</div>"
      ],
      "text/plain": [
       "        Impressions     From Home  From Hashtags  From Explore   From Other  \\\n",
       "count    119.000000    119.000000     119.000000    119.000000   119.000000   \n",
       "mean    5703.991597   2475.789916    1887.512605   1078.100840   171.092437   \n",
       "std     4843.780105   1489.386348    1884.361443   2613.026132   289.431031   \n",
       "min     1941.000000   1133.000000     116.000000      0.000000     9.000000   \n",
       "25%     3467.000000   1945.000000     726.000000    157.500000    38.000000   \n",
       "50%     4289.000000   2207.000000    1278.000000    326.000000    74.000000   \n",
       "75%     6138.000000   2602.500000    2363.500000    689.500000   196.000000   \n",
       "max    36919.000000  13473.000000   11817.000000  17414.000000  2547.000000   \n",
       "\n",
       "             Saves    Comments      Shares       Likes  Profile Visits  \\\n",
       "count   119.000000  119.000000  119.000000  119.000000      119.000000   \n",
       "mean    153.310924    6.663866    9.361345  173.781513       50.621849   \n",
       "std     156.317731    3.544576   10.089205   82.378947       87.088402   \n",
       "min      22.000000    0.000000    0.000000   72.000000        4.000000   \n",
       "25%      65.000000    4.000000    3.000000  121.500000       15.000000   \n",
       "50%     109.000000    6.000000    6.000000  151.000000       23.000000   \n",
       "75%     169.000000    8.000000   13.500000  204.000000       42.000000   \n",
       "max    1095.000000   19.000000   75.000000  549.000000      611.000000   \n",
       "\n",
       "          Follows  \n",
       "count  119.000000  \n",
       "mean    20.756303  \n",
       "std     40.921580  \n",
       "min      0.000000  \n",
       "25%      4.000000  \n",
       "50%      8.000000  \n",
       "75%     18.000000  \n",
       "max    260.000000  "
      ]
     },
     "execution_count": 7,
     "metadata": {},
     "output_type": "execute_result"
    }
   ],
   "source": [
    "data.describe()"
   ]
  },
  {
   "attachments": {},
   "cell_type": "markdown",
   "metadata": {},
   "source": [
    "Now, before moving forward, always have a look if your data contains any missing values or not:"
   ]
  },
  {
   "cell_type": "code",
   "execution_count": 8,
   "metadata": {},
   "outputs": [
    {
     "data": {
      "text/plain": [
       "Impressions       0\n",
       "From Home         0\n",
       "From Hashtags     0\n",
       "From Explore      0\n",
       "From Other        0\n",
       "Saves             0\n",
       "Comments          0\n",
       "Shares            0\n",
       "Likes             0\n",
       "Profile Visits    0\n",
       "Follows           0\n",
       "Caption           0\n",
       "Hashtags          0\n",
       "dtype: int64"
      ]
     },
     "execution_count": 8,
     "metadata": {},
     "output_type": "execute_result"
    }
   ],
   "source": [
    "data.isnull().sum()"
   ]
  },
  {
   "attachments": {},
   "cell_type": "markdown",
   "metadata": {},
   "source": [
    "When you start exploring your data, always start by exploring the main feature of your data. For example, as we are working on a dataset based on Instagram Reach, we should start by exploring the feature that contains data about reach. In our data, the impression column contains the data about the reach of an Instagram post. So lets have a look at the distribution of the impressions"
   ]
  },
  {
   "cell_type": "code",
   "execution_count": 10,
   "metadata": {},
   "outputs": [
    {
     "data": {
      "application/vnd.plotly.v1+json": {
       "config": {
        "plotlyServerURL": "https://plot.ly"
       },
       "data": [
        {
         "alignmentgroup": "True",
         "bingroup": "x",
         "hovertemplate": "Impressions=%{x}<br>count=%{y}<extra></extra>",
         "legendgroup": "",
         "marker": {
          "color": "#636efa",
          "pattern": {
           "shape": ""
          }
         },
         "name": "",
         "nbinsx": 10,
         "offsetgroup": "",
         "orientation": "v",
         "showlegend": false,
         "type": "histogram",
         "x": [
          3920,
          5394,
          4021,
          4528,
          2518,
          3884,
          2621,
          3541,
          3749,
          4115,
          2218,
          3234,
          4344,
          3216,
          9453,
          5055,
          4002,
          3169,
          6168,
          2407,
          2064,
          3973,
          7281,
          3052,
          4628,
          4082,
          5394,
          2766,
          3924,
          3015,
          6666,
          3854,
          4355,
          4343,
          6108,
          2523,
          2327,
          3990,
          2191,
          1941,
          16062,
          4998,
          4289,
          3880,
          3786,
          4298,
          3630,
          2826,
          7407,
          10386,
          2998,
          7018,
          2941,
          6432,
          10667,
          3988,
          4978,
          3388,
          4467,
          3246,
          5072,
          6339,
          4239,
          3454,
          7571,
          3333,
          3818,
          10933,
          5058,
          3601,
          3480,
          3525,
          3606,
          5542,
          6559,
          3623,
          10493,
          4446,
          2957,
          5538,
          4681,
          5273,
          5055,
          4002,
          3169,
          6168,
          2407,
          3630,
          2826,
          7407,
          10386,
          2998,
          3052,
          4628,
          4082,
          5394,
          2766,
          3924,
          3015,
          5409,
          5323,
          8001,
          4150,
          4609,
          6348,
          11068,
          7231,
          17396,
          6814,
          17713,
          5563,
          4842,
          11149,
          10206,
          13700,
          5731,
          4139,
          32695,
          36919
         ],
         "xaxis": "x",
         "yaxis": "y"
        }
       ],
       "layout": {
        "barmode": "relative",
        "legend": {
         "tracegroupgap": 0
        },
        "template": {
         "data": {
          "bar": [
           {
            "error_x": {
             "color": "#2a3f5f"
            },
            "error_y": {
             "color": "#2a3f5f"
            },
            "marker": {
             "line": {
              "color": "white",
              "width": 0.5
             },
             "pattern": {
              "fillmode": "overlay",
              "size": 10,
              "solidity": 0.2
             }
            },
            "type": "bar"
           }
          ],
          "barpolar": [
           {
            "marker": {
             "line": {
              "color": "white",
              "width": 0.5
             },
             "pattern": {
              "fillmode": "overlay",
              "size": 10,
              "solidity": 0.2
             }
            },
            "type": "barpolar"
           }
          ],
          "carpet": [
           {
            "aaxis": {
             "endlinecolor": "#2a3f5f",
             "gridcolor": "#C8D4E3",
             "linecolor": "#C8D4E3",
             "minorgridcolor": "#C8D4E3",
             "startlinecolor": "#2a3f5f"
            },
            "baxis": {
             "endlinecolor": "#2a3f5f",
             "gridcolor": "#C8D4E3",
             "linecolor": "#C8D4E3",
             "minorgridcolor": "#C8D4E3",
             "startlinecolor": "#2a3f5f"
            },
            "type": "carpet"
           }
          ],
          "choropleth": [
           {
            "colorbar": {
             "outlinewidth": 0,
             "ticks": ""
            },
            "type": "choropleth"
           }
          ],
          "contour": [
           {
            "colorbar": {
             "outlinewidth": 0,
             "ticks": ""
            },
            "colorscale": [
             [
              0,
              "#0d0887"
             ],
             [
              0.1111111111111111,
              "#46039f"
             ],
             [
              0.2222222222222222,
              "#7201a8"
             ],
             [
              0.3333333333333333,
              "#9c179e"
             ],
             [
              0.4444444444444444,
              "#bd3786"
             ],
             [
              0.5555555555555556,
              "#d8576b"
             ],
             [
              0.6666666666666666,
              "#ed7953"
             ],
             [
              0.7777777777777778,
              "#fb9f3a"
             ],
             [
              0.8888888888888888,
              "#fdca26"
             ],
             [
              1,
              "#f0f921"
             ]
            ],
            "type": "contour"
           }
          ],
          "contourcarpet": [
           {
            "colorbar": {
             "outlinewidth": 0,
             "ticks": ""
            },
            "type": "contourcarpet"
           }
          ],
          "heatmap": [
           {
            "colorbar": {
             "outlinewidth": 0,
             "ticks": ""
            },
            "colorscale": [
             [
              0,
              "#0d0887"
             ],
             [
              0.1111111111111111,
              "#46039f"
             ],
             [
              0.2222222222222222,
              "#7201a8"
             ],
             [
              0.3333333333333333,
              "#9c179e"
             ],
             [
              0.4444444444444444,
              "#bd3786"
             ],
             [
              0.5555555555555556,
              "#d8576b"
             ],
             [
              0.6666666666666666,
              "#ed7953"
             ],
             [
              0.7777777777777778,
              "#fb9f3a"
             ],
             [
              0.8888888888888888,
              "#fdca26"
             ],
             [
              1,
              "#f0f921"
             ]
            ],
            "type": "heatmap"
           }
          ],
          "heatmapgl": [
           {
            "colorbar": {
             "outlinewidth": 0,
             "ticks": ""
            },
            "colorscale": [
             [
              0,
              "#0d0887"
             ],
             [
              0.1111111111111111,
              "#46039f"
             ],
             [
              0.2222222222222222,
              "#7201a8"
             ],
             [
              0.3333333333333333,
              "#9c179e"
             ],
             [
              0.4444444444444444,
              "#bd3786"
             ],
             [
              0.5555555555555556,
              "#d8576b"
             ],
             [
              0.6666666666666666,
              "#ed7953"
             ],
             [
              0.7777777777777778,
              "#fb9f3a"
             ],
             [
              0.8888888888888888,
              "#fdca26"
             ],
             [
              1,
              "#f0f921"
             ]
            ],
            "type": "heatmapgl"
           }
          ],
          "histogram": [
           {
            "marker": {
             "pattern": {
              "fillmode": "overlay",
              "size": 10,
              "solidity": 0.2
             }
            },
            "type": "histogram"
           }
          ],
          "histogram2d": [
           {
            "colorbar": {
             "outlinewidth": 0,
             "ticks": ""
            },
            "colorscale": [
             [
              0,
              "#0d0887"
             ],
             [
              0.1111111111111111,
              "#46039f"
             ],
             [
              0.2222222222222222,
              "#7201a8"
             ],
             [
              0.3333333333333333,
              "#9c179e"
             ],
             [
              0.4444444444444444,
              "#bd3786"
             ],
             [
              0.5555555555555556,
              "#d8576b"
             ],
             [
              0.6666666666666666,
              "#ed7953"
             ],
             [
              0.7777777777777778,
              "#fb9f3a"
             ],
             [
              0.8888888888888888,
              "#fdca26"
             ],
             [
              1,
              "#f0f921"
             ]
            ],
            "type": "histogram2d"
           }
          ],
          "histogram2dcontour": [
           {
            "colorbar": {
             "outlinewidth": 0,
             "ticks": ""
            },
            "colorscale": [
             [
              0,
              "#0d0887"
             ],
             [
              0.1111111111111111,
              "#46039f"
             ],
             [
              0.2222222222222222,
              "#7201a8"
             ],
             [
              0.3333333333333333,
              "#9c179e"
             ],
             [
              0.4444444444444444,
              "#bd3786"
             ],
             [
              0.5555555555555556,
              "#d8576b"
             ],
             [
              0.6666666666666666,
              "#ed7953"
             ],
             [
              0.7777777777777778,
              "#fb9f3a"
             ],
             [
              0.8888888888888888,
              "#fdca26"
             ],
             [
              1,
              "#f0f921"
             ]
            ],
            "type": "histogram2dcontour"
           }
          ],
          "mesh3d": [
           {
            "colorbar": {
             "outlinewidth": 0,
             "ticks": ""
            },
            "type": "mesh3d"
           }
          ],
          "parcoords": [
           {
            "line": {
             "colorbar": {
              "outlinewidth": 0,
              "ticks": ""
             }
            },
            "type": "parcoords"
           }
          ],
          "pie": [
           {
            "automargin": true,
            "type": "pie"
           }
          ],
          "scatter": [
           {
            "fillpattern": {
             "fillmode": "overlay",
             "size": 10,
             "solidity": 0.2
            },
            "type": "scatter"
           }
          ],
          "scatter3d": [
           {
            "line": {
             "colorbar": {
              "outlinewidth": 0,
              "ticks": ""
             }
            },
            "marker": {
             "colorbar": {
              "outlinewidth": 0,
              "ticks": ""
             }
            },
            "type": "scatter3d"
           }
          ],
          "scattercarpet": [
           {
            "marker": {
             "colorbar": {
              "outlinewidth": 0,
              "ticks": ""
             }
            },
            "type": "scattercarpet"
           }
          ],
          "scattergeo": [
           {
            "marker": {
             "colorbar": {
              "outlinewidth": 0,
              "ticks": ""
             }
            },
            "type": "scattergeo"
           }
          ],
          "scattergl": [
           {
            "marker": {
             "colorbar": {
              "outlinewidth": 0,
              "ticks": ""
             }
            },
            "type": "scattergl"
           }
          ],
          "scattermapbox": [
           {
            "marker": {
             "colorbar": {
              "outlinewidth": 0,
              "ticks": ""
             }
            },
            "type": "scattermapbox"
           }
          ],
          "scatterpolar": [
           {
            "marker": {
             "colorbar": {
              "outlinewidth": 0,
              "ticks": ""
             }
            },
            "type": "scatterpolar"
           }
          ],
          "scatterpolargl": [
           {
            "marker": {
             "colorbar": {
              "outlinewidth": 0,
              "ticks": ""
             }
            },
            "type": "scatterpolargl"
           }
          ],
          "scatterternary": [
           {
            "marker": {
             "colorbar": {
              "outlinewidth": 0,
              "ticks": ""
             }
            },
            "type": "scatterternary"
           }
          ],
          "surface": [
           {
            "colorbar": {
             "outlinewidth": 0,
             "ticks": ""
            },
            "colorscale": [
             [
              0,
              "#0d0887"
             ],
             [
              0.1111111111111111,
              "#46039f"
             ],
             [
              0.2222222222222222,
              "#7201a8"
             ],
             [
              0.3333333333333333,
              "#9c179e"
             ],
             [
              0.4444444444444444,
              "#bd3786"
             ],
             [
              0.5555555555555556,
              "#d8576b"
             ],
             [
              0.6666666666666666,
              "#ed7953"
             ],
             [
              0.7777777777777778,
              "#fb9f3a"
             ],
             [
              0.8888888888888888,
              "#fdca26"
             ],
             [
              1,
              "#f0f921"
             ]
            ],
            "type": "surface"
           }
          ],
          "table": [
           {
            "cells": {
             "fill": {
              "color": "#EBF0F8"
             },
             "line": {
              "color": "white"
             }
            },
            "header": {
             "fill": {
              "color": "#C8D4E3"
             },
             "line": {
              "color": "white"
             }
            },
            "type": "table"
           }
          ]
         },
         "layout": {
          "annotationdefaults": {
           "arrowcolor": "#2a3f5f",
           "arrowhead": 0,
           "arrowwidth": 1
          },
          "autotypenumbers": "strict",
          "coloraxis": {
           "colorbar": {
            "outlinewidth": 0,
            "ticks": ""
           }
          },
          "colorscale": {
           "diverging": [
            [
             0,
             "#8e0152"
            ],
            [
             0.1,
             "#c51b7d"
            ],
            [
             0.2,
             "#de77ae"
            ],
            [
             0.3,
             "#f1b6da"
            ],
            [
             0.4,
             "#fde0ef"
            ],
            [
             0.5,
             "#f7f7f7"
            ],
            [
             0.6,
             "#e6f5d0"
            ],
            [
             0.7,
             "#b8e186"
            ],
            [
             0.8,
             "#7fbc41"
            ],
            [
             0.9,
             "#4d9221"
            ],
            [
             1,
             "#276419"
            ]
           ],
           "sequential": [
            [
             0,
             "#0d0887"
            ],
            [
             0.1111111111111111,
             "#46039f"
            ],
            [
             0.2222222222222222,
             "#7201a8"
            ],
            [
             0.3333333333333333,
             "#9c179e"
            ],
            [
             0.4444444444444444,
             "#bd3786"
            ],
            [
             0.5555555555555556,
             "#d8576b"
            ],
            [
             0.6666666666666666,
             "#ed7953"
            ],
            [
             0.7777777777777778,
             "#fb9f3a"
            ],
            [
             0.8888888888888888,
             "#fdca26"
            ],
            [
             1,
             "#f0f921"
            ]
           ],
           "sequentialminus": [
            [
             0,
             "#0d0887"
            ],
            [
             0.1111111111111111,
             "#46039f"
            ],
            [
             0.2222222222222222,
             "#7201a8"
            ],
            [
             0.3333333333333333,
             "#9c179e"
            ],
            [
             0.4444444444444444,
             "#bd3786"
            ],
            [
             0.5555555555555556,
             "#d8576b"
            ],
            [
             0.6666666666666666,
             "#ed7953"
            ],
            [
             0.7777777777777778,
             "#fb9f3a"
            ],
            [
             0.8888888888888888,
             "#fdca26"
            ],
            [
             1,
             "#f0f921"
            ]
           ]
          },
          "colorway": [
           "#636efa",
           "#EF553B",
           "#00cc96",
           "#ab63fa",
           "#FFA15A",
           "#19d3f3",
           "#FF6692",
           "#B6E880",
           "#FF97FF",
           "#FECB52"
          ],
          "font": {
           "color": "#2a3f5f"
          },
          "geo": {
           "bgcolor": "white",
           "lakecolor": "white",
           "landcolor": "white",
           "showlakes": true,
           "showland": true,
           "subunitcolor": "#C8D4E3"
          },
          "hoverlabel": {
           "align": "left"
          },
          "hovermode": "closest",
          "mapbox": {
           "style": "light"
          },
          "paper_bgcolor": "white",
          "plot_bgcolor": "white",
          "polar": {
           "angularaxis": {
            "gridcolor": "#EBF0F8",
            "linecolor": "#EBF0F8",
            "ticks": ""
           },
           "bgcolor": "white",
           "radialaxis": {
            "gridcolor": "#EBF0F8",
            "linecolor": "#EBF0F8",
            "ticks": ""
           }
          },
          "scene": {
           "xaxis": {
            "backgroundcolor": "white",
            "gridcolor": "#DFE8F3",
            "gridwidth": 2,
            "linecolor": "#EBF0F8",
            "showbackground": true,
            "ticks": "",
            "zerolinecolor": "#EBF0F8"
           },
           "yaxis": {
            "backgroundcolor": "white",
            "gridcolor": "#DFE8F3",
            "gridwidth": 2,
            "linecolor": "#EBF0F8",
            "showbackground": true,
            "ticks": "",
            "zerolinecolor": "#EBF0F8"
           },
           "zaxis": {
            "backgroundcolor": "white",
            "gridcolor": "#DFE8F3",
            "gridwidth": 2,
            "linecolor": "#EBF0F8",
            "showbackground": true,
            "ticks": "",
            "zerolinecolor": "#EBF0F8"
           }
          },
          "shapedefaults": {
           "line": {
            "color": "#2a3f5f"
           }
          },
          "ternary": {
           "aaxis": {
            "gridcolor": "#DFE8F3",
            "linecolor": "#A2B1C6",
            "ticks": ""
           },
           "baxis": {
            "gridcolor": "#DFE8F3",
            "linecolor": "#A2B1C6",
            "ticks": ""
           },
           "bgcolor": "white",
           "caxis": {
            "gridcolor": "#DFE8F3",
            "linecolor": "#A2B1C6",
            "ticks": ""
           }
          },
          "title": {
           "x": 0.05
          },
          "xaxis": {
           "automargin": true,
           "gridcolor": "#EBF0F8",
           "linecolor": "#EBF0F8",
           "ticks": "",
           "title": {
            "standoff": 15
           },
           "zerolinecolor": "#EBF0F8",
           "zerolinewidth": 2
          },
          "yaxis": {
           "automargin": true,
           "gridcolor": "#EBF0F8",
           "linecolor": "#EBF0F8",
           "ticks": "",
           "title": {
            "standoff": 15
           },
           "zerolinecolor": "#EBF0F8",
           "zerolinewidth": 2
          }
         }
        },
        "title": {
         "text": "Distribution of Impressions"
        },
        "xaxis": {
         "anchor": "y",
         "domain": [
          0,
          1
         ],
         "title": {
          "text": "Impressions"
         }
        },
        "yaxis": {
         "anchor": "x",
         "domain": [
          0,
          1
         ],
         "title": {
          "text": "count"
         }
        }
       }
      }
     },
     "metadata": {},
     "output_type": "display_data"
    }
   ],
   "source": [
    "fig = px.histogram(data,\n",
    "                   x='Impressions',\n",
    "                   nbins=10,\n",
    "                   title='Distribution of Impressions')\n",
    "\n",
    "fig.show()"
   ]
  },
  {
   "attachments": {},
   "cell_type": "markdown",
   "metadata": {},
   "source": [
    "Now let's hava a look at the number of impressions on each post over time:"
   ]
  },
  {
   "cell_type": "code",
   "execution_count": 11,
   "metadata": {},
   "outputs": [
    {
     "data": {
      "application/vnd.plotly.v1+json": {
       "config": {
        "plotlyServerURL": "https://plot.ly"
       },
       "data": [
        {
         "hovertemplate": "index=%{x}<br>Impressions=%{y}<extra></extra>",
         "legendgroup": "",
         "line": {
          "color": "#636efa",
          "dash": "solid"
         },
         "marker": {
          "symbol": "circle"
         },
         "mode": "lines",
         "name": "",
         "orientation": "v",
         "showlegend": false,
         "type": "scatter",
         "x": [
          0,
          1,
          2,
          3,
          4,
          5,
          6,
          7,
          8,
          9,
          10,
          11,
          12,
          13,
          14,
          15,
          16,
          17,
          18,
          19,
          20,
          21,
          22,
          23,
          24,
          25,
          26,
          27,
          28,
          29,
          30,
          31,
          32,
          33,
          34,
          35,
          36,
          37,
          38,
          39,
          40,
          41,
          42,
          43,
          44,
          45,
          46,
          47,
          48,
          49,
          50,
          51,
          52,
          53,
          54,
          55,
          56,
          57,
          58,
          59,
          60,
          61,
          62,
          63,
          64,
          65,
          66,
          67,
          68,
          69,
          70,
          71,
          72,
          73,
          74,
          75,
          76,
          77,
          78,
          79,
          80,
          81,
          82,
          83,
          84,
          85,
          86,
          87,
          88,
          89,
          90,
          91,
          92,
          93,
          94,
          95,
          96,
          97,
          98,
          99,
          100,
          101,
          102,
          103,
          104,
          105,
          106,
          107,
          108,
          109,
          110,
          111,
          112,
          113,
          114,
          115,
          116,
          117,
          118
         ],
         "xaxis": "x",
         "y": [
          3920,
          5394,
          4021,
          4528,
          2518,
          3884,
          2621,
          3541,
          3749,
          4115,
          2218,
          3234,
          4344,
          3216,
          9453,
          5055,
          4002,
          3169,
          6168,
          2407,
          2064,
          3973,
          7281,
          3052,
          4628,
          4082,
          5394,
          2766,
          3924,
          3015,
          6666,
          3854,
          4355,
          4343,
          6108,
          2523,
          2327,
          3990,
          2191,
          1941,
          16062,
          4998,
          4289,
          3880,
          3786,
          4298,
          3630,
          2826,
          7407,
          10386,
          2998,
          7018,
          2941,
          6432,
          10667,
          3988,
          4978,
          3388,
          4467,
          3246,
          5072,
          6339,
          4239,
          3454,
          7571,
          3333,
          3818,
          10933,
          5058,
          3601,
          3480,
          3525,
          3606,
          5542,
          6559,
          3623,
          10493,
          4446,
          2957,
          5538,
          4681,
          5273,
          5055,
          4002,
          3169,
          6168,
          2407,
          3630,
          2826,
          7407,
          10386,
          2998,
          3052,
          4628,
          4082,
          5394,
          2766,
          3924,
          3015,
          5409,
          5323,
          8001,
          4150,
          4609,
          6348,
          11068,
          7231,
          17396,
          6814,
          17713,
          5563,
          4842,
          11149,
          10206,
          13700,
          5731,
          4139,
          32695,
          36919
         ],
         "yaxis": "y"
        }
       ],
       "layout": {
        "legend": {
         "tracegroupgap": 0
        },
        "template": {
         "data": {
          "bar": [
           {
            "error_x": {
             "color": "#2a3f5f"
            },
            "error_y": {
             "color": "#2a3f5f"
            },
            "marker": {
             "line": {
              "color": "white",
              "width": 0.5
             },
             "pattern": {
              "fillmode": "overlay",
              "size": 10,
              "solidity": 0.2
             }
            },
            "type": "bar"
           }
          ],
          "barpolar": [
           {
            "marker": {
             "line": {
              "color": "white",
              "width": 0.5
             },
             "pattern": {
              "fillmode": "overlay",
              "size": 10,
              "solidity": 0.2
             }
            },
            "type": "barpolar"
           }
          ],
          "carpet": [
           {
            "aaxis": {
             "endlinecolor": "#2a3f5f",
             "gridcolor": "#C8D4E3",
             "linecolor": "#C8D4E3",
             "minorgridcolor": "#C8D4E3",
             "startlinecolor": "#2a3f5f"
            },
            "baxis": {
             "endlinecolor": "#2a3f5f",
             "gridcolor": "#C8D4E3",
             "linecolor": "#C8D4E3",
             "minorgridcolor": "#C8D4E3",
             "startlinecolor": "#2a3f5f"
            },
            "type": "carpet"
           }
          ],
          "choropleth": [
           {
            "colorbar": {
             "outlinewidth": 0,
             "ticks": ""
            },
            "type": "choropleth"
           }
          ],
          "contour": [
           {
            "colorbar": {
             "outlinewidth": 0,
             "ticks": ""
            },
            "colorscale": [
             [
              0,
              "#0d0887"
             ],
             [
              0.1111111111111111,
              "#46039f"
             ],
             [
              0.2222222222222222,
              "#7201a8"
             ],
             [
              0.3333333333333333,
              "#9c179e"
             ],
             [
              0.4444444444444444,
              "#bd3786"
             ],
             [
              0.5555555555555556,
              "#d8576b"
             ],
             [
              0.6666666666666666,
              "#ed7953"
             ],
             [
              0.7777777777777778,
              "#fb9f3a"
             ],
             [
              0.8888888888888888,
              "#fdca26"
             ],
             [
              1,
              "#f0f921"
             ]
            ],
            "type": "contour"
           }
          ],
          "contourcarpet": [
           {
            "colorbar": {
             "outlinewidth": 0,
             "ticks": ""
            },
            "type": "contourcarpet"
           }
          ],
          "heatmap": [
           {
            "colorbar": {
             "outlinewidth": 0,
             "ticks": ""
            },
            "colorscale": [
             [
              0,
              "#0d0887"
             ],
             [
              0.1111111111111111,
              "#46039f"
             ],
             [
              0.2222222222222222,
              "#7201a8"
             ],
             [
              0.3333333333333333,
              "#9c179e"
             ],
             [
              0.4444444444444444,
              "#bd3786"
             ],
             [
              0.5555555555555556,
              "#d8576b"
             ],
             [
              0.6666666666666666,
              "#ed7953"
             ],
             [
              0.7777777777777778,
              "#fb9f3a"
             ],
             [
              0.8888888888888888,
              "#fdca26"
             ],
             [
              1,
              "#f0f921"
             ]
            ],
            "type": "heatmap"
           }
          ],
          "heatmapgl": [
           {
            "colorbar": {
             "outlinewidth": 0,
             "ticks": ""
            },
            "colorscale": [
             [
              0,
              "#0d0887"
             ],
             [
              0.1111111111111111,
              "#46039f"
             ],
             [
              0.2222222222222222,
              "#7201a8"
             ],
             [
              0.3333333333333333,
              "#9c179e"
             ],
             [
              0.4444444444444444,
              "#bd3786"
             ],
             [
              0.5555555555555556,
              "#d8576b"
             ],
             [
              0.6666666666666666,
              "#ed7953"
             ],
             [
              0.7777777777777778,
              "#fb9f3a"
             ],
             [
              0.8888888888888888,
              "#fdca26"
             ],
             [
              1,
              "#f0f921"
             ]
            ],
            "type": "heatmapgl"
           }
          ],
          "histogram": [
           {
            "marker": {
             "pattern": {
              "fillmode": "overlay",
              "size": 10,
              "solidity": 0.2
             }
            },
            "type": "histogram"
           }
          ],
          "histogram2d": [
           {
            "colorbar": {
             "outlinewidth": 0,
             "ticks": ""
            },
            "colorscale": [
             [
              0,
              "#0d0887"
             ],
             [
              0.1111111111111111,
              "#46039f"
             ],
             [
              0.2222222222222222,
              "#7201a8"
             ],
             [
              0.3333333333333333,
              "#9c179e"
             ],
             [
              0.4444444444444444,
              "#bd3786"
             ],
             [
              0.5555555555555556,
              "#d8576b"
             ],
             [
              0.6666666666666666,
              "#ed7953"
             ],
             [
              0.7777777777777778,
              "#fb9f3a"
             ],
             [
              0.8888888888888888,
              "#fdca26"
             ],
             [
              1,
              "#f0f921"
             ]
            ],
            "type": "histogram2d"
           }
          ],
          "histogram2dcontour": [
           {
            "colorbar": {
             "outlinewidth": 0,
             "ticks": ""
            },
            "colorscale": [
             [
              0,
              "#0d0887"
             ],
             [
              0.1111111111111111,
              "#46039f"
             ],
             [
              0.2222222222222222,
              "#7201a8"
             ],
             [
              0.3333333333333333,
              "#9c179e"
             ],
             [
              0.4444444444444444,
              "#bd3786"
             ],
             [
              0.5555555555555556,
              "#d8576b"
             ],
             [
              0.6666666666666666,
              "#ed7953"
             ],
             [
              0.7777777777777778,
              "#fb9f3a"
             ],
             [
              0.8888888888888888,
              "#fdca26"
             ],
             [
              1,
              "#f0f921"
             ]
            ],
            "type": "histogram2dcontour"
           }
          ],
          "mesh3d": [
           {
            "colorbar": {
             "outlinewidth": 0,
             "ticks": ""
            },
            "type": "mesh3d"
           }
          ],
          "parcoords": [
           {
            "line": {
             "colorbar": {
              "outlinewidth": 0,
              "ticks": ""
             }
            },
            "type": "parcoords"
           }
          ],
          "pie": [
           {
            "automargin": true,
            "type": "pie"
           }
          ],
          "scatter": [
           {
            "fillpattern": {
             "fillmode": "overlay",
             "size": 10,
             "solidity": 0.2
            },
            "type": "scatter"
           }
          ],
          "scatter3d": [
           {
            "line": {
             "colorbar": {
              "outlinewidth": 0,
              "ticks": ""
             }
            },
            "marker": {
             "colorbar": {
              "outlinewidth": 0,
              "ticks": ""
             }
            },
            "type": "scatter3d"
           }
          ],
          "scattercarpet": [
           {
            "marker": {
             "colorbar": {
              "outlinewidth": 0,
              "ticks": ""
             }
            },
            "type": "scattercarpet"
           }
          ],
          "scattergeo": [
           {
            "marker": {
             "colorbar": {
              "outlinewidth": 0,
              "ticks": ""
             }
            },
            "type": "scattergeo"
           }
          ],
          "scattergl": [
           {
            "marker": {
             "colorbar": {
              "outlinewidth": 0,
              "ticks": ""
             }
            },
            "type": "scattergl"
           }
          ],
          "scattermapbox": [
           {
            "marker": {
             "colorbar": {
              "outlinewidth": 0,
              "ticks": ""
             }
            },
            "type": "scattermapbox"
           }
          ],
          "scatterpolar": [
           {
            "marker": {
             "colorbar": {
              "outlinewidth": 0,
              "ticks": ""
             }
            },
            "type": "scatterpolar"
           }
          ],
          "scatterpolargl": [
           {
            "marker": {
             "colorbar": {
              "outlinewidth": 0,
              "ticks": ""
             }
            },
            "type": "scatterpolargl"
           }
          ],
          "scatterternary": [
           {
            "marker": {
             "colorbar": {
              "outlinewidth": 0,
              "ticks": ""
             }
            },
            "type": "scatterternary"
           }
          ],
          "surface": [
           {
            "colorbar": {
             "outlinewidth": 0,
             "ticks": ""
            },
            "colorscale": [
             [
              0,
              "#0d0887"
             ],
             [
              0.1111111111111111,
              "#46039f"
             ],
             [
              0.2222222222222222,
              "#7201a8"
             ],
             [
              0.3333333333333333,
              "#9c179e"
             ],
             [
              0.4444444444444444,
              "#bd3786"
             ],
             [
              0.5555555555555556,
              "#d8576b"
             ],
             [
              0.6666666666666666,
              "#ed7953"
             ],
             [
              0.7777777777777778,
              "#fb9f3a"
             ],
             [
              0.8888888888888888,
              "#fdca26"
             ],
             [
              1,
              "#f0f921"
             ]
            ],
            "type": "surface"
           }
          ],
          "table": [
           {
            "cells": {
             "fill": {
              "color": "#EBF0F8"
             },
             "line": {
              "color": "white"
             }
            },
            "header": {
             "fill": {
              "color": "#C8D4E3"
             },
             "line": {
              "color": "white"
             }
            },
            "type": "table"
           }
          ]
         },
         "layout": {
          "annotationdefaults": {
           "arrowcolor": "#2a3f5f",
           "arrowhead": 0,
           "arrowwidth": 1
          },
          "autotypenumbers": "strict",
          "coloraxis": {
           "colorbar": {
            "outlinewidth": 0,
            "ticks": ""
           }
          },
          "colorscale": {
           "diverging": [
            [
             0,
             "#8e0152"
            ],
            [
             0.1,
             "#c51b7d"
            ],
            [
             0.2,
             "#de77ae"
            ],
            [
             0.3,
             "#f1b6da"
            ],
            [
             0.4,
             "#fde0ef"
            ],
            [
             0.5,
             "#f7f7f7"
            ],
            [
             0.6,
             "#e6f5d0"
            ],
            [
             0.7,
             "#b8e186"
            ],
            [
             0.8,
             "#7fbc41"
            ],
            [
             0.9,
             "#4d9221"
            ],
            [
             1,
             "#276419"
            ]
           ],
           "sequential": [
            [
             0,
             "#0d0887"
            ],
            [
             0.1111111111111111,
             "#46039f"
            ],
            [
             0.2222222222222222,
             "#7201a8"
            ],
            [
             0.3333333333333333,
             "#9c179e"
            ],
            [
             0.4444444444444444,
             "#bd3786"
            ],
            [
             0.5555555555555556,
             "#d8576b"
            ],
            [
             0.6666666666666666,
             "#ed7953"
            ],
            [
             0.7777777777777778,
             "#fb9f3a"
            ],
            [
             0.8888888888888888,
             "#fdca26"
            ],
            [
             1,
             "#f0f921"
            ]
           ],
           "sequentialminus": [
            [
             0,
             "#0d0887"
            ],
            [
             0.1111111111111111,
             "#46039f"
            ],
            [
             0.2222222222222222,
             "#7201a8"
            ],
            [
             0.3333333333333333,
             "#9c179e"
            ],
            [
             0.4444444444444444,
             "#bd3786"
            ],
            [
             0.5555555555555556,
             "#d8576b"
            ],
            [
             0.6666666666666666,
             "#ed7953"
            ],
            [
             0.7777777777777778,
             "#fb9f3a"
            ],
            [
             0.8888888888888888,
             "#fdca26"
            ],
            [
             1,
             "#f0f921"
            ]
           ]
          },
          "colorway": [
           "#636efa",
           "#EF553B",
           "#00cc96",
           "#ab63fa",
           "#FFA15A",
           "#19d3f3",
           "#FF6692",
           "#B6E880",
           "#FF97FF",
           "#FECB52"
          ],
          "font": {
           "color": "#2a3f5f"
          },
          "geo": {
           "bgcolor": "white",
           "lakecolor": "white",
           "landcolor": "white",
           "showlakes": true,
           "showland": true,
           "subunitcolor": "#C8D4E3"
          },
          "hoverlabel": {
           "align": "left"
          },
          "hovermode": "closest",
          "mapbox": {
           "style": "light"
          },
          "paper_bgcolor": "white",
          "plot_bgcolor": "white",
          "polar": {
           "angularaxis": {
            "gridcolor": "#EBF0F8",
            "linecolor": "#EBF0F8",
            "ticks": ""
           },
           "bgcolor": "white",
           "radialaxis": {
            "gridcolor": "#EBF0F8",
            "linecolor": "#EBF0F8",
            "ticks": ""
           }
          },
          "scene": {
           "xaxis": {
            "backgroundcolor": "white",
            "gridcolor": "#DFE8F3",
            "gridwidth": 2,
            "linecolor": "#EBF0F8",
            "showbackground": true,
            "ticks": "",
            "zerolinecolor": "#EBF0F8"
           },
           "yaxis": {
            "backgroundcolor": "white",
            "gridcolor": "#DFE8F3",
            "gridwidth": 2,
            "linecolor": "#EBF0F8",
            "showbackground": true,
            "ticks": "",
            "zerolinecolor": "#EBF0F8"
           },
           "zaxis": {
            "backgroundcolor": "white",
            "gridcolor": "#DFE8F3",
            "gridwidth": 2,
            "linecolor": "#EBF0F8",
            "showbackground": true,
            "ticks": "",
            "zerolinecolor": "#EBF0F8"
           }
          },
          "shapedefaults": {
           "line": {
            "color": "#2a3f5f"
           }
          },
          "ternary": {
           "aaxis": {
            "gridcolor": "#DFE8F3",
            "linecolor": "#A2B1C6",
            "ticks": ""
           },
           "baxis": {
            "gridcolor": "#DFE8F3",
            "linecolor": "#A2B1C6",
            "ticks": ""
           },
           "bgcolor": "white",
           "caxis": {
            "gridcolor": "#DFE8F3",
            "linecolor": "#A2B1C6",
            "ticks": ""
           }
          },
          "title": {
           "x": 0.05
          },
          "xaxis": {
           "automargin": true,
           "gridcolor": "#EBF0F8",
           "linecolor": "#EBF0F8",
           "ticks": "",
           "title": {
            "standoff": 15
           },
           "zerolinecolor": "#EBF0F8",
           "zerolinewidth": 2
          },
          "yaxis": {
           "automargin": true,
           "gridcolor": "#EBF0F8",
           "linecolor": "#EBF0F8",
           "ticks": "",
           "title": {
            "standoff": 15
           },
           "zerolinecolor": "#EBF0F8",
           "zerolinewidth": 2
          }
         }
        },
        "title": {
         "text": "Impressions Over Time"
        },
        "xaxis": {
         "anchor": "y",
         "domain": [
          0,
          1
         ],
         "title": {
          "text": "index"
         }
        },
        "yaxis": {
         "anchor": "x",
         "domain": [
          0,
          1
         ],
         "title": {
          "text": "Impressions"
         }
        }
       }
      }
     },
     "metadata": {},
     "output_type": "display_data"
    }
   ],
   "source": [
    "fig = px.line(data,\n",
    "              x=data.index,\n",
    "              y='Impressions',\n",
    "              title='Impressions Over Time')\n",
    "\n",
    "fig.show()"
   ]
  },
  {
   "attachments": {},
   "cell_type": "markdown",
   "metadata": {},
   "source": [
    "Now let's have a look at all the metrics like Likes, Saves, and Follows from each post over time:"
   ]
  },
  {
   "cell_type": "code",
   "execution_count": 12,
   "metadata": {},
   "outputs": [
    {
     "data": {
      "application/vnd.plotly.v1+json": {
       "config": {
        "plotlyServerURL": "https://plot.ly"
       },
       "data": [
        {
         "name": "Likes",
         "type": "scatter",
         "x": [
          0,
          1,
          2,
          3,
          4,
          5,
          6,
          7,
          8,
          9,
          10,
          11,
          12,
          13,
          14,
          15,
          16,
          17,
          18,
          19,
          20,
          21,
          22,
          23,
          24,
          25,
          26,
          27,
          28,
          29,
          30,
          31,
          32,
          33,
          34,
          35,
          36,
          37,
          38,
          39,
          40,
          41,
          42,
          43,
          44,
          45,
          46,
          47,
          48,
          49,
          50,
          51,
          52,
          53,
          54,
          55,
          56,
          57,
          58,
          59,
          60,
          61,
          62,
          63,
          64,
          65,
          66,
          67,
          68,
          69,
          70,
          71,
          72,
          73,
          74,
          75,
          76,
          77,
          78,
          79,
          80,
          81,
          82,
          83,
          84,
          85,
          86,
          87,
          88,
          89,
          90,
          91,
          92,
          93,
          94,
          95,
          96,
          97,
          98,
          99,
          100,
          101,
          102,
          103,
          104,
          105,
          106,
          107,
          108,
          109,
          110,
          111,
          112,
          113,
          114,
          115,
          116,
          117,
          118
         ],
         "y": [
          162,
          224,
          131,
          213,
          123,
          144,
          76,
          124,
          159,
          191,
          81,
          151,
          162,
          142,
          294,
          159,
          205,
          121,
          151,
          72,
          76,
          91,
          195,
          129,
          160,
          175,
          147,
          114,
          151,
          92,
          214,
          150,
          122,
          152,
          196,
          86,
          85,
          156,
          72,
          82,
          416,
          180,
          150,
          127,
          167,
          225,
          137,
          114,
          263,
          328,
          126,
          236,
          99,
          212,
          297,
          142,
          186,
          112,
          149,
          132,
          115,
          248,
          178,
          107,
          269,
          96,
          134,
          301,
          187,
          94,
          114,
          96,
          138,
          122,
          257,
          95,
          244,
          190,
          118,
          178,
          170,
          250,
          159,
          205,
          121,
          151,
          72,
          137,
          114,
          263,
          328,
          126,
          129,
          160,
          175,
          147,
          114,
          151,
          92,
          275,
          192,
          203,
          145,
          168,
          194,
          250,
          171,
          416,
          249,
          308,
          163,
          86,
          210,
          172,
          373,
          148,
          92,
          549,
          443
         ]
        },
        {
         "name": "Saves",
         "type": "scatter",
         "x": [
          0,
          1,
          2,
          3,
          4,
          5,
          6,
          7,
          8,
          9,
          10,
          11,
          12,
          13,
          14,
          15,
          16,
          17,
          18,
          19,
          20,
          21,
          22,
          23,
          24,
          25,
          26,
          27,
          28,
          29,
          30,
          31,
          32,
          33,
          34,
          35,
          36,
          37,
          38,
          39,
          40,
          41,
          42,
          43,
          44,
          45,
          46,
          47,
          48,
          49,
          50,
          51,
          52,
          53,
          54,
          55,
          56,
          57,
          58,
          59,
          60,
          61,
          62,
          63,
          64,
          65,
          66,
          67,
          68,
          69,
          70,
          71,
          72,
          73,
          74,
          75,
          76,
          77,
          78,
          79,
          80,
          81,
          82,
          83,
          84,
          85,
          86,
          87,
          88,
          89,
          90,
          91,
          92,
          93,
          94,
          95,
          96,
          97,
          98,
          99,
          100,
          101,
          102,
          103,
          104,
          105,
          106,
          107,
          108,
          109,
          110,
          111,
          112,
          113,
          114,
          115,
          116,
          117,
          118
         ],
         "y": [
          98,
          194,
          41,
          172,
          96,
          74,
          22,
          135,
          155,
          122,
          28,
          122,
          119,
          121,
          100,
          101,
          111,
          106,
          82,
          40,
          49,
          72,
          167,
          63,
          144,
          135,
          61,
          40,
          139,
          52,
          84,
          81,
          79,
          105,
          90,
          34,
          45,
          98,
          35,
          49,
          252,
          167,
          111,
          90,
          144,
          263,
          137,
          67,
          288,
          668,
          42,
          342,
          48,
          250,
          219,
          118,
          143,
          99,
          89,
          148,
          42,
          171,
          109,
          38,
          421,
          38,
          116,
          225,
          144,
          51,
          104,
          33,
          174,
          46,
          179,
          34,
          99,
          174,
          70,
          149,
          207,
          318,
          101,
          111,
          106,
          82,
          40,
          137,
          67,
          288,
          668,
          42,
          63,
          144,
          135,
          61,
          40,
          139,
          52,
          393,
          152,
          83,
          74,
          94,
          188,
          214,
          73,
          285,
          469,
          504,
          149,
          55,
          273,
          182,
          573,
          135,
          36,
          1095,
          653
         ]
        },
        {
         "name": "Follows",
         "type": "scatter",
         "x": [
          0,
          1,
          2,
          3,
          4,
          5,
          6,
          7,
          8,
          9,
          10,
          11,
          12,
          13,
          14,
          15,
          16,
          17,
          18,
          19,
          20,
          21,
          22,
          23,
          24,
          25,
          26,
          27,
          28,
          29,
          30,
          31,
          32,
          33,
          34,
          35,
          36,
          37,
          38,
          39,
          40,
          41,
          42,
          43,
          44,
          45,
          46,
          47,
          48,
          49,
          50,
          51,
          52,
          53,
          54,
          55,
          56,
          57,
          58,
          59,
          60,
          61,
          62,
          63,
          64,
          65,
          66,
          67,
          68,
          69,
          70,
          71,
          72,
          73,
          74,
          75,
          76,
          77,
          78,
          79,
          80,
          81,
          82,
          83,
          84,
          85,
          86,
          87,
          88,
          89,
          90,
          91,
          92,
          93,
          94,
          95,
          96,
          97,
          98,
          99,
          100,
          101,
          102,
          103,
          104,
          105,
          106,
          107,
          108,
          109,
          110,
          111,
          112,
          113,
          114,
          115,
          116,
          117,
          118
         ],
         "y": [
          2,
          10,
          12,
          8,
          0,
          2,
          0,
          6,
          4,
          6,
          4,
          0,
          2,
          4,
          42,
          6,
          2,
          2,
          30,
          0,
          0,
          24,
          100,
          2,
          4,
          6,
          6,
          6,
          2,
          2,
          20,
          2,
          4,
          8,
          26,
          2,
          2,
          4,
          0,
          2,
          94,
          8,
          18,
          10,
          4,
          4,
          4,
          4,
          18,
          38,
          10,
          12,
          4,
          4,
          74,
          0,
          6,
          6,
          0,
          6,
          12,
          10,
          8,
          8,
          46,
          12,
          10,
          94,
          6,
          10,
          6,
          4,
          12,
          16,
          12,
          8,
          32,
          8,
          16,
          6,
          10,
          10,
          6,
          2,
          2,
          30,
          0,
          4,
          4,
          18,
          38,
          10,
          2,
          4,
          6,
          6,
          6,
          2,
          2,
          14,
          8,
          14,
          28,
          18,
          12,
          34,
          26,
          260,
          16,
          96,
          20,
          30,
          58,
          100,
          80,
          18,
          10,
          214,
          228
         ]
        }
       ],
       "layout": {
        "template": {
         "data": {
          "bar": [
           {
            "error_x": {
             "color": "#2a3f5f"
            },
            "error_y": {
             "color": "#2a3f5f"
            },
            "marker": {
             "line": {
              "color": "white",
              "width": 0.5
             },
             "pattern": {
              "fillmode": "overlay",
              "size": 10,
              "solidity": 0.2
             }
            },
            "type": "bar"
           }
          ],
          "barpolar": [
           {
            "marker": {
             "line": {
              "color": "white",
              "width": 0.5
             },
             "pattern": {
              "fillmode": "overlay",
              "size": 10,
              "solidity": 0.2
             }
            },
            "type": "barpolar"
           }
          ],
          "carpet": [
           {
            "aaxis": {
             "endlinecolor": "#2a3f5f",
             "gridcolor": "#C8D4E3",
             "linecolor": "#C8D4E3",
             "minorgridcolor": "#C8D4E3",
             "startlinecolor": "#2a3f5f"
            },
            "baxis": {
             "endlinecolor": "#2a3f5f",
             "gridcolor": "#C8D4E3",
             "linecolor": "#C8D4E3",
             "minorgridcolor": "#C8D4E3",
             "startlinecolor": "#2a3f5f"
            },
            "type": "carpet"
           }
          ],
          "choropleth": [
           {
            "colorbar": {
             "outlinewidth": 0,
             "ticks": ""
            },
            "type": "choropleth"
           }
          ],
          "contour": [
           {
            "colorbar": {
             "outlinewidth": 0,
             "ticks": ""
            },
            "colorscale": [
             [
              0,
              "#0d0887"
             ],
             [
              0.1111111111111111,
              "#46039f"
             ],
             [
              0.2222222222222222,
              "#7201a8"
             ],
             [
              0.3333333333333333,
              "#9c179e"
             ],
             [
              0.4444444444444444,
              "#bd3786"
             ],
             [
              0.5555555555555556,
              "#d8576b"
             ],
             [
              0.6666666666666666,
              "#ed7953"
             ],
             [
              0.7777777777777778,
              "#fb9f3a"
             ],
             [
              0.8888888888888888,
              "#fdca26"
             ],
             [
              1,
              "#f0f921"
             ]
            ],
            "type": "contour"
           }
          ],
          "contourcarpet": [
           {
            "colorbar": {
             "outlinewidth": 0,
             "ticks": ""
            },
            "type": "contourcarpet"
           }
          ],
          "heatmap": [
           {
            "colorbar": {
             "outlinewidth": 0,
             "ticks": ""
            },
            "colorscale": [
             [
              0,
              "#0d0887"
             ],
             [
              0.1111111111111111,
              "#46039f"
             ],
             [
              0.2222222222222222,
              "#7201a8"
             ],
             [
              0.3333333333333333,
              "#9c179e"
             ],
             [
              0.4444444444444444,
              "#bd3786"
             ],
             [
              0.5555555555555556,
              "#d8576b"
             ],
             [
              0.6666666666666666,
              "#ed7953"
             ],
             [
              0.7777777777777778,
              "#fb9f3a"
             ],
             [
              0.8888888888888888,
              "#fdca26"
             ],
             [
              1,
              "#f0f921"
             ]
            ],
            "type": "heatmap"
           }
          ],
          "heatmapgl": [
           {
            "colorbar": {
             "outlinewidth": 0,
             "ticks": ""
            },
            "colorscale": [
             [
              0,
              "#0d0887"
             ],
             [
              0.1111111111111111,
              "#46039f"
             ],
             [
              0.2222222222222222,
              "#7201a8"
             ],
             [
              0.3333333333333333,
              "#9c179e"
             ],
             [
              0.4444444444444444,
              "#bd3786"
             ],
             [
              0.5555555555555556,
              "#d8576b"
             ],
             [
              0.6666666666666666,
              "#ed7953"
             ],
             [
              0.7777777777777778,
              "#fb9f3a"
             ],
             [
              0.8888888888888888,
              "#fdca26"
             ],
             [
              1,
              "#f0f921"
             ]
            ],
            "type": "heatmapgl"
           }
          ],
          "histogram": [
           {
            "marker": {
             "pattern": {
              "fillmode": "overlay",
              "size": 10,
              "solidity": 0.2
             }
            },
            "type": "histogram"
           }
          ],
          "histogram2d": [
           {
            "colorbar": {
             "outlinewidth": 0,
             "ticks": ""
            },
            "colorscale": [
             [
              0,
              "#0d0887"
             ],
             [
              0.1111111111111111,
              "#46039f"
             ],
             [
              0.2222222222222222,
              "#7201a8"
             ],
             [
              0.3333333333333333,
              "#9c179e"
             ],
             [
              0.4444444444444444,
              "#bd3786"
             ],
             [
              0.5555555555555556,
              "#d8576b"
             ],
             [
              0.6666666666666666,
              "#ed7953"
             ],
             [
              0.7777777777777778,
              "#fb9f3a"
             ],
             [
              0.8888888888888888,
              "#fdca26"
             ],
             [
              1,
              "#f0f921"
             ]
            ],
            "type": "histogram2d"
           }
          ],
          "histogram2dcontour": [
           {
            "colorbar": {
             "outlinewidth": 0,
             "ticks": ""
            },
            "colorscale": [
             [
              0,
              "#0d0887"
             ],
             [
              0.1111111111111111,
              "#46039f"
             ],
             [
              0.2222222222222222,
              "#7201a8"
             ],
             [
              0.3333333333333333,
              "#9c179e"
             ],
             [
              0.4444444444444444,
              "#bd3786"
             ],
             [
              0.5555555555555556,
              "#d8576b"
             ],
             [
              0.6666666666666666,
              "#ed7953"
             ],
             [
              0.7777777777777778,
              "#fb9f3a"
             ],
             [
              0.8888888888888888,
              "#fdca26"
             ],
             [
              1,
              "#f0f921"
             ]
            ],
            "type": "histogram2dcontour"
           }
          ],
          "mesh3d": [
           {
            "colorbar": {
             "outlinewidth": 0,
             "ticks": ""
            },
            "type": "mesh3d"
           }
          ],
          "parcoords": [
           {
            "line": {
             "colorbar": {
              "outlinewidth": 0,
              "ticks": ""
             }
            },
            "type": "parcoords"
           }
          ],
          "pie": [
           {
            "automargin": true,
            "type": "pie"
           }
          ],
          "scatter": [
           {
            "fillpattern": {
             "fillmode": "overlay",
             "size": 10,
             "solidity": 0.2
            },
            "type": "scatter"
           }
          ],
          "scatter3d": [
           {
            "line": {
             "colorbar": {
              "outlinewidth": 0,
              "ticks": ""
             }
            },
            "marker": {
             "colorbar": {
              "outlinewidth": 0,
              "ticks": ""
             }
            },
            "type": "scatter3d"
           }
          ],
          "scattercarpet": [
           {
            "marker": {
             "colorbar": {
              "outlinewidth": 0,
              "ticks": ""
             }
            },
            "type": "scattercarpet"
           }
          ],
          "scattergeo": [
           {
            "marker": {
             "colorbar": {
              "outlinewidth": 0,
              "ticks": ""
             }
            },
            "type": "scattergeo"
           }
          ],
          "scattergl": [
           {
            "marker": {
             "colorbar": {
              "outlinewidth": 0,
              "ticks": ""
             }
            },
            "type": "scattergl"
           }
          ],
          "scattermapbox": [
           {
            "marker": {
             "colorbar": {
              "outlinewidth": 0,
              "ticks": ""
             }
            },
            "type": "scattermapbox"
           }
          ],
          "scatterpolar": [
           {
            "marker": {
             "colorbar": {
              "outlinewidth": 0,
              "ticks": ""
             }
            },
            "type": "scatterpolar"
           }
          ],
          "scatterpolargl": [
           {
            "marker": {
             "colorbar": {
              "outlinewidth": 0,
              "ticks": ""
             }
            },
            "type": "scatterpolargl"
           }
          ],
          "scatterternary": [
           {
            "marker": {
             "colorbar": {
              "outlinewidth": 0,
              "ticks": ""
             }
            },
            "type": "scatterternary"
           }
          ],
          "surface": [
           {
            "colorbar": {
             "outlinewidth": 0,
             "ticks": ""
            },
            "colorscale": [
             [
              0,
              "#0d0887"
             ],
             [
              0.1111111111111111,
              "#46039f"
             ],
             [
              0.2222222222222222,
              "#7201a8"
             ],
             [
              0.3333333333333333,
              "#9c179e"
             ],
             [
              0.4444444444444444,
              "#bd3786"
             ],
             [
              0.5555555555555556,
              "#d8576b"
             ],
             [
              0.6666666666666666,
              "#ed7953"
             ],
             [
              0.7777777777777778,
              "#fb9f3a"
             ],
             [
              0.8888888888888888,
              "#fdca26"
             ],
             [
              1,
              "#f0f921"
             ]
            ],
            "type": "surface"
           }
          ],
          "table": [
           {
            "cells": {
             "fill": {
              "color": "#EBF0F8"
             },
             "line": {
              "color": "white"
             }
            },
            "header": {
             "fill": {
              "color": "#C8D4E3"
             },
             "line": {
              "color": "white"
             }
            },
            "type": "table"
           }
          ]
         },
         "layout": {
          "annotationdefaults": {
           "arrowcolor": "#2a3f5f",
           "arrowhead": 0,
           "arrowwidth": 1
          },
          "autotypenumbers": "strict",
          "coloraxis": {
           "colorbar": {
            "outlinewidth": 0,
            "ticks": ""
           }
          },
          "colorscale": {
           "diverging": [
            [
             0,
             "#8e0152"
            ],
            [
             0.1,
             "#c51b7d"
            ],
            [
             0.2,
             "#de77ae"
            ],
            [
             0.3,
             "#f1b6da"
            ],
            [
             0.4,
             "#fde0ef"
            ],
            [
             0.5,
             "#f7f7f7"
            ],
            [
             0.6,
             "#e6f5d0"
            ],
            [
             0.7,
             "#b8e186"
            ],
            [
             0.8,
             "#7fbc41"
            ],
            [
             0.9,
             "#4d9221"
            ],
            [
             1,
             "#276419"
            ]
           ],
           "sequential": [
            [
             0,
             "#0d0887"
            ],
            [
             0.1111111111111111,
             "#46039f"
            ],
            [
             0.2222222222222222,
             "#7201a8"
            ],
            [
             0.3333333333333333,
             "#9c179e"
            ],
            [
             0.4444444444444444,
             "#bd3786"
            ],
            [
             0.5555555555555556,
             "#d8576b"
            ],
            [
             0.6666666666666666,
             "#ed7953"
            ],
            [
             0.7777777777777778,
             "#fb9f3a"
            ],
            [
             0.8888888888888888,
             "#fdca26"
            ],
            [
             1,
             "#f0f921"
            ]
           ],
           "sequentialminus": [
            [
             0,
             "#0d0887"
            ],
            [
             0.1111111111111111,
             "#46039f"
            ],
            [
             0.2222222222222222,
             "#7201a8"
            ],
            [
             0.3333333333333333,
             "#9c179e"
            ],
            [
             0.4444444444444444,
             "#bd3786"
            ],
            [
             0.5555555555555556,
             "#d8576b"
            ],
            [
             0.6666666666666666,
             "#ed7953"
            ],
            [
             0.7777777777777778,
             "#fb9f3a"
            ],
            [
             0.8888888888888888,
             "#fdca26"
            ],
            [
             1,
             "#f0f921"
            ]
           ]
          },
          "colorway": [
           "#636efa",
           "#EF553B",
           "#00cc96",
           "#ab63fa",
           "#FFA15A",
           "#19d3f3",
           "#FF6692",
           "#B6E880",
           "#FF97FF",
           "#FECB52"
          ],
          "font": {
           "color": "#2a3f5f"
          },
          "geo": {
           "bgcolor": "white",
           "lakecolor": "white",
           "landcolor": "white",
           "showlakes": true,
           "showland": true,
           "subunitcolor": "#C8D4E3"
          },
          "hoverlabel": {
           "align": "left"
          },
          "hovermode": "closest",
          "mapbox": {
           "style": "light"
          },
          "paper_bgcolor": "white",
          "plot_bgcolor": "white",
          "polar": {
           "angularaxis": {
            "gridcolor": "#EBF0F8",
            "linecolor": "#EBF0F8",
            "ticks": ""
           },
           "bgcolor": "white",
           "radialaxis": {
            "gridcolor": "#EBF0F8",
            "linecolor": "#EBF0F8",
            "ticks": ""
           }
          },
          "scene": {
           "xaxis": {
            "backgroundcolor": "white",
            "gridcolor": "#DFE8F3",
            "gridwidth": 2,
            "linecolor": "#EBF0F8",
            "showbackground": true,
            "ticks": "",
            "zerolinecolor": "#EBF0F8"
           },
           "yaxis": {
            "backgroundcolor": "white",
            "gridcolor": "#DFE8F3",
            "gridwidth": 2,
            "linecolor": "#EBF0F8",
            "showbackground": true,
            "ticks": "",
            "zerolinecolor": "#EBF0F8"
           },
           "zaxis": {
            "backgroundcolor": "white",
            "gridcolor": "#DFE8F3",
            "gridwidth": 2,
            "linecolor": "#EBF0F8",
            "showbackground": true,
            "ticks": "",
            "zerolinecolor": "#EBF0F8"
           }
          },
          "shapedefaults": {
           "line": {
            "color": "#2a3f5f"
           }
          },
          "ternary": {
           "aaxis": {
            "gridcolor": "#DFE8F3",
            "linecolor": "#A2B1C6",
            "ticks": ""
           },
           "baxis": {
            "gridcolor": "#DFE8F3",
            "linecolor": "#A2B1C6",
            "ticks": ""
           },
           "bgcolor": "white",
           "caxis": {
            "gridcolor": "#DFE8F3",
            "linecolor": "#A2B1C6",
            "ticks": ""
           }
          },
          "title": {
           "x": 0.05
          },
          "xaxis": {
           "automargin": true,
           "gridcolor": "#EBF0F8",
           "linecolor": "#EBF0F8",
           "ticks": "",
           "title": {
            "standoff": 15
           },
           "zerolinecolor": "#EBF0F8",
           "zerolinewidth": 2
          },
          "yaxis": {
           "automargin": true,
           "gridcolor": "#EBF0F8",
           "linecolor": "#EBF0F8",
           "ticks": "",
           "title": {
            "standoff": 15
           },
           "zerolinecolor": "#EBF0F8",
           "zerolinewidth": 2
          }
         }
        },
        "title": {
         "text": "Metrics Over Time"
        },
        "xaxis": {
         "title": {
          "text": "Date"
         }
        },
        "yaxis": {
         "title": {
          "text": "Count"
         }
        }
       }
      }
     },
     "metadata": {},
     "output_type": "display_data"
    }
   ],
   "source": [
    "fig = go.Figure()\n",
    "\n",
    "fig.add_trace(go.Scatter(x=data.index, y=data['Likes'], name='Likes'))\n",
    "fig.add_trace(go.Scatter(x=data.index, y=data['Saves'], name='Saves'))\n",
    "fig.add_trace(go.Scatter(x=data.index, y=data['Follows'], name='Follows'))\n",
    "\n",
    "fig.update_layout(title='Metrics Over Time',\n",
    "                  xaxis_title='Date',\n",
    "                  yaxis_title='Count')\n",
    "\n",
    "fig.show()"
   ]
  },
  {
   "attachments": {},
   "cell_type": "markdown",
   "metadata": {},
   "source": [
    "Now let's have a look at the distribution of reach from different sources:"
   ]
  },
  {
   "cell_type": "code",
   "execution_count": 13,
   "metadata": {},
   "outputs": [
    {
     "data": {
      "application/vnd.plotly.v1+json": {
       "config": {
        "plotlyServerURL": "https://plot.ly"
       },
       "data": [
        {
         "domain": {
          "x": [
           0,
           1
          ],
          "y": [
           0,
           1
          ]
         },
         "hovertemplate": "label=%{label}<br>value=%{value}<extra></extra>",
         "labels": [
          "From Home",
          "From Hashtags",
          "From Explore",
          "From Other"
         ],
         "legendgroup": "",
         "name": "",
         "showlegend": true,
         "type": "pie",
         "values": [
          294619,
          224614,
          128294,
          20360
         ]
        }
       ],
       "layout": {
        "legend": {
         "tracegroupgap": 0
        },
        "piecolorway": [
         "#FFB6C1",
         "#87CEFA",
         "#90EE90",
         "#FFDAB9"
        ],
        "template": {
         "data": {
          "bar": [
           {
            "error_x": {
             "color": "#2a3f5f"
            },
            "error_y": {
             "color": "#2a3f5f"
            },
            "marker": {
             "line": {
              "color": "white",
              "width": 0.5
             },
             "pattern": {
              "fillmode": "overlay",
              "size": 10,
              "solidity": 0.2
             }
            },
            "type": "bar"
           }
          ],
          "barpolar": [
           {
            "marker": {
             "line": {
              "color": "white",
              "width": 0.5
             },
             "pattern": {
              "fillmode": "overlay",
              "size": 10,
              "solidity": 0.2
             }
            },
            "type": "barpolar"
           }
          ],
          "carpet": [
           {
            "aaxis": {
             "endlinecolor": "#2a3f5f",
             "gridcolor": "#C8D4E3",
             "linecolor": "#C8D4E3",
             "minorgridcolor": "#C8D4E3",
             "startlinecolor": "#2a3f5f"
            },
            "baxis": {
             "endlinecolor": "#2a3f5f",
             "gridcolor": "#C8D4E3",
             "linecolor": "#C8D4E3",
             "minorgridcolor": "#C8D4E3",
             "startlinecolor": "#2a3f5f"
            },
            "type": "carpet"
           }
          ],
          "choropleth": [
           {
            "colorbar": {
             "outlinewidth": 0,
             "ticks": ""
            },
            "type": "choropleth"
           }
          ],
          "contour": [
           {
            "colorbar": {
             "outlinewidth": 0,
             "ticks": ""
            },
            "colorscale": [
             [
              0,
              "#0d0887"
             ],
             [
              0.1111111111111111,
              "#46039f"
             ],
             [
              0.2222222222222222,
              "#7201a8"
             ],
             [
              0.3333333333333333,
              "#9c179e"
             ],
             [
              0.4444444444444444,
              "#bd3786"
             ],
             [
              0.5555555555555556,
              "#d8576b"
             ],
             [
              0.6666666666666666,
              "#ed7953"
             ],
             [
              0.7777777777777778,
              "#fb9f3a"
             ],
             [
              0.8888888888888888,
              "#fdca26"
             ],
             [
              1,
              "#f0f921"
             ]
            ],
            "type": "contour"
           }
          ],
          "contourcarpet": [
           {
            "colorbar": {
             "outlinewidth": 0,
             "ticks": ""
            },
            "type": "contourcarpet"
           }
          ],
          "heatmap": [
           {
            "colorbar": {
             "outlinewidth": 0,
             "ticks": ""
            },
            "colorscale": [
             [
              0,
              "#0d0887"
             ],
             [
              0.1111111111111111,
              "#46039f"
             ],
             [
              0.2222222222222222,
              "#7201a8"
             ],
             [
              0.3333333333333333,
              "#9c179e"
             ],
             [
              0.4444444444444444,
              "#bd3786"
             ],
             [
              0.5555555555555556,
              "#d8576b"
             ],
             [
              0.6666666666666666,
              "#ed7953"
             ],
             [
              0.7777777777777778,
              "#fb9f3a"
             ],
             [
              0.8888888888888888,
              "#fdca26"
             ],
             [
              1,
              "#f0f921"
             ]
            ],
            "type": "heatmap"
           }
          ],
          "heatmapgl": [
           {
            "colorbar": {
             "outlinewidth": 0,
             "ticks": ""
            },
            "colorscale": [
             [
              0,
              "#0d0887"
             ],
             [
              0.1111111111111111,
              "#46039f"
             ],
             [
              0.2222222222222222,
              "#7201a8"
             ],
             [
              0.3333333333333333,
              "#9c179e"
             ],
             [
              0.4444444444444444,
              "#bd3786"
             ],
             [
              0.5555555555555556,
              "#d8576b"
             ],
             [
              0.6666666666666666,
              "#ed7953"
             ],
             [
              0.7777777777777778,
              "#fb9f3a"
             ],
             [
              0.8888888888888888,
              "#fdca26"
             ],
             [
              1,
              "#f0f921"
             ]
            ],
            "type": "heatmapgl"
           }
          ],
          "histogram": [
           {
            "marker": {
             "pattern": {
              "fillmode": "overlay",
              "size": 10,
              "solidity": 0.2
             }
            },
            "type": "histogram"
           }
          ],
          "histogram2d": [
           {
            "colorbar": {
             "outlinewidth": 0,
             "ticks": ""
            },
            "colorscale": [
             [
              0,
              "#0d0887"
             ],
             [
              0.1111111111111111,
              "#46039f"
             ],
             [
              0.2222222222222222,
              "#7201a8"
             ],
             [
              0.3333333333333333,
              "#9c179e"
             ],
             [
              0.4444444444444444,
              "#bd3786"
             ],
             [
              0.5555555555555556,
              "#d8576b"
             ],
             [
              0.6666666666666666,
              "#ed7953"
             ],
             [
              0.7777777777777778,
              "#fb9f3a"
             ],
             [
              0.8888888888888888,
              "#fdca26"
             ],
             [
              1,
              "#f0f921"
             ]
            ],
            "type": "histogram2d"
           }
          ],
          "histogram2dcontour": [
           {
            "colorbar": {
             "outlinewidth": 0,
             "ticks": ""
            },
            "colorscale": [
             [
              0,
              "#0d0887"
             ],
             [
              0.1111111111111111,
              "#46039f"
             ],
             [
              0.2222222222222222,
              "#7201a8"
             ],
             [
              0.3333333333333333,
              "#9c179e"
             ],
             [
              0.4444444444444444,
              "#bd3786"
             ],
             [
              0.5555555555555556,
              "#d8576b"
             ],
             [
              0.6666666666666666,
              "#ed7953"
             ],
             [
              0.7777777777777778,
              "#fb9f3a"
             ],
             [
              0.8888888888888888,
              "#fdca26"
             ],
             [
              1,
              "#f0f921"
             ]
            ],
            "type": "histogram2dcontour"
           }
          ],
          "mesh3d": [
           {
            "colorbar": {
             "outlinewidth": 0,
             "ticks": ""
            },
            "type": "mesh3d"
           }
          ],
          "parcoords": [
           {
            "line": {
             "colorbar": {
              "outlinewidth": 0,
              "ticks": ""
             }
            },
            "type": "parcoords"
           }
          ],
          "pie": [
           {
            "automargin": true,
            "type": "pie"
           }
          ],
          "scatter": [
           {
            "fillpattern": {
             "fillmode": "overlay",
             "size": 10,
             "solidity": 0.2
            },
            "type": "scatter"
           }
          ],
          "scatter3d": [
           {
            "line": {
             "colorbar": {
              "outlinewidth": 0,
              "ticks": ""
             }
            },
            "marker": {
             "colorbar": {
              "outlinewidth": 0,
              "ticks": ""
             }
            },
            "type": "scatter3d"
           }
          ],
          "scattercarpet": [
           {
            "marker": {
             "colorbar": {
              "outlinewidth": 0,
              "ticks": ""
             }
            },
            "type": "scattercarpet"
           }
          ],
          "scattergeo": [
           {
            "marker": {
             "colorbar": {
              "outlinewidth": 0,
              "ticks": ""
             }
            },
            "type": "scattergeo"
           }
          ],
          "scattergl": [
           {
            "marker": {
             "colorbar": {
              "outlinewidth": 0,
              "ticks": ""
             }
            },
            "type": "scattergl"
           }
          ],
          "scattermapbox": [
           {
            "marker": {
             "colorbar": {
              "outlinewidth": 0,
              "ticks": ""
             }
            },
            "type": "scattermapbox"
           }
          ],
          "scatterpolar": [
           {
            "marker": {
             "colorbar": {
              "outlinewidth": 0,
              "ticks": ""
             }
            },
            "type": "scatterpolar"
           }
          ],
          "scatterpolargl": [
           {
            "marker": {
             "colorbar": {
              "outlinewidth": 0,
              "ticks": ""
             }
            },
            "type": "scatterpolargl"
           }
          ],
          "scatterternary": [
           {
            "marker": {
             "colorbar": {
              "outlinewidth": 0,
              "ticks": ""
             }
            },
            "type": "scatterternary"
           }
          ],
          "surface": [
           {
            "colorbar": {
             "outlinewidth": 0,
             "ticks": ""
            },
            "colorscale": [
             [
              0,
              "#0d0887"
             ],
             [
              0.1111111111111111,
              "#46039f"
             ],
             [
              0.2222222222222222,
              "#7201a8"
             ],
             [
              0.3333333333333333,
              "#9c179e"
             ],
             [
              0.4444444444444444,
              "#bd3786"
             ],
             [
              0.5555555555555556,
              "#d8576b"
             ],
             [
              0.6666666666666666,
              "#ed7953"
             ],
             [
              0.7777777777777778,
              "#fb9f3a"
             ],
             [
              0.8888888888888888,
              "#fdca26"
             ],
             [
              1,
              "#f0f921"
             ]
            ],
            "type": "surface"
           }
          ],
          "table": [
           {
            "cells": {
             "fill": {
              "color": "#EBF0F8"
             },
             "line": {
              "color": "white"
             }
            },
            "header": {
             "fill": {
              "color": "#C8D4E3"
             },
             "line": {
              "color": "white"
             }
            },
            "type": "table"
           }
          ]
         },
         "layout": {
          "annotationdefaults": {
           "arrowcolor": "#2a3f5f",
           "arrowhead": 0,
           "arrowwidth": 1
          },
          "autotypenumbers": "strict",
          "coloraxis": {
           "colorbar": {
            "outlinewidth": 0,
            "ticks": ""
           }
          },
          "colorscale": {
           "diverging": [
            [
             0,
             "#8e0152"
            ],
            [
             0.1,
             "#c51b7d"
            ],
            [
             0.2,
             "#de77ae"
            ],
            [
             0.3,
             "#f1b6da"
            ],
            [
             0.4,
             "#fde0ef"
            ],
            [
             0.5,
             "#f7f7f7"
            ],
            [
             0.6,
             "#e6f5d0"
            ],
            [
             0.7,
             "#b8e186"
            ],
            [
             0.8,
             "#7fbc41"
            ],
            [
             0.9,
             "#4d9221"
            ],
            [
             1,
             "#276419"
            ]
           ],
           "sequential": [
            [
             0,
             "#0d0887"
            ],
            [
             0.1111111111111111,
             "#46039f"
            ],
            [
             0.2222222222222222,
             "#7201a8"
            ],
            [
             0.3333333333333333,
             "#9c179e"
            ],
            [
             0.4444444444444444,
             "#bd3786"
            ],
            [
             0.5555555555555556,
             "#d8576b"
            ],
            [
             0.6666666666666666,
             "#ed7953"
            ],
            [
             0.7777777777777778,
             "#fb9f3a"
            ],
            [
             0.8888888888888888,
             "#fdca26"
            ],
            [
             1,
             "#f0f921"
            ]
           ],
           "sequentialminus": [
            [
             0,
             "#0d0887"
            ],
            [
             0.1111111111111111,
             "#46039f"
            ],
            [
             0.2222222222222222,
             "#7201a8"
            ],
            [
             0.3333333333333333,
             "#9c179e"
            ],
            [
             0.4444444444444444,
             "#bd3786"
            ],
            [
             0.5555555555555556,
             "#d8576b"
            ],
            [
             0.6666666666666666,
             "#ed7953"
            ],
            [
             0.7777777777777778,
             "#fb9f3a"
            ],
            [
             0.8888888888888888,
             "#fdca26"
            ],
            [
             1,
             "#f0f921"
            ]
           ]
          },
          "colorway": [
           "#636efa",
           "#EF553B",
           "#00cc96",
           "#ab63fa",
           "#FFA15A",
           "#19d3f3",
           "#FF6692",
           "#B6E880",
           "#FF97FF",
           "#FECB52"
          ],
          "font": {
           "color": "#2a3f5f"
          },
          "geo": {
           "bgcolor": "white",
           "lakecolor": "white",
           "landcolor": "white",
           "showlakes": true,
           "showland": true,
           "subunitcolor": "#C8D4E3"
          },
          "hoverlabel": {
           "align": "left"
          },
          "hovermode": "closest",
          "mapbox": {
           "style": "light"
          },
          "paper_bgcolor": "white",
          "plot_bgcolor": "white",
          "polar": {
           "angularaxis": {
            "gridcolor": "#EBF0F8",
            "linecolor": "#EBF0F8",
            "ticks": ""
           },
           "bgcolor": "white",
           "radialaxis": {
            "gridcolor": "#EBF0F8",
            "linecolor": "#EBF0F8",
            "ticks": ""
           }
          },
          "scene": {
           "xaxis": {
            "backgroundcolor": "white",
            "gridcolor": "#DFE8F3",
            "gridwidth": 2,
            "linecolor": "#EBF0F8",
            "showbackground": true,
            "ticks": "",
            "zerolinecolor": "#EBF0F8"
           },
           "yaxis": {
            "backgroundcolor": "white",
            "gridcolor": "#DFE8F3",
            "gridwidth": 2,
            "linecolor": "#EBF0F8",
            "showbackground": true,
            "ticks": "",
            "zerolinecolor": "#EBF0F8"
           },
           "zaxis": {
            "backgroundcolor": "white",
            "gridcolor": "#DFE8F3",
            "gridwidth": 2,
            "linecolor": "#EBF0F8",
            "showbackground": true,
            "ticks": "",
            "zerolinecolor": "#EBF0F8"
           }
          },
          "shapedefaults": {
           "line": {
            "color": "#2a3f5f"
           }
          },
          "ternary": {
           "aaxis": {
            "gridcolor": "#DFE8F3",
            "linecolor": "#A2B1C6",
            "ticks": ""
           },
           "baxis": {
            "gridcolor": "#DFE8F3",
            "linecolor": "#A2B1C6",
            "ticks": ""
           },
           "bgcolor": "white",
           "caxis": {
            "gridcolor": "#DFE8F3",
            "linecolor": "#A2B1C6",
            "ticks": ""
           }
          },
          "title": {
           "x": 0.05
          },
          "xaxis": {
           "automargin": true,
           "gridcolor": "#EBF0F8",
           "linecolor": "#EBF0F8",
           "ticks": "",
           "title": {
            "standoff": 15
           },
           "zerolinecolor": "#EBF0F8",
           "zerolinewidth": 2
          },
          "yaxis": {
           "automargin": true,
           "gridcolor": "#EBF0F8",
           "linecolor": "#EBF0F8",
           "ticks": "",
           "title": {
            "standoff": 15
           },
           "zerolinecolor": "#EBF0F8",
           "zerolinewidth": 2
          }
         }
        },
        "title": {
         "text": "Reach From Different Sources"
        }
       }
      }
     },
     "metadata": {},
     "output_type": "display_data"
    }
   ],
   "source": [
    "reach_sources = ['From Home', 'From Hashtags', 'From Explore', 'From Other']\n",
    "reach_counts = [data[source].sum() for source in reach_sources]\n",
    "\n",
    "colors = ['#FFB6C1', '#87CEFA', '#90EE90', '#FFDAB9']\n",
    "\n",
    "fig = px.pie(data_frame=data,\n",
    "             names=reach_sources,\n",
    "             values=reach_counts,\n",
    "             title='Reach From Different Sources',\n",
    "             color_discrete_sequence=colors)\n",
    "fig.show()"
   ]
  },
  {
   "attachments": {},
   "cell_type": "markdown",
   "metadata": {},
   "source": [
    "Now let's have a look at the distribution of engagement sources:"
   ]
  },
  {
   "cell_type": "code",
   "execution_count": 14,
   "metadata": {},
   "outputs": [
    {
     "data": {
      "application/vnd.plotly.v1+json": {
       "config": {
        "plotlyServerURL": "https://plot.ly"
       },
       "data": [
        {
         "domain": {
          "x": [
           0,
           1
          ],
          "y": [
           0,
           1
          ]
         },
         "hovertemplate": "label=%{label}<br>value=%{value}<extra></extra>",
         "labels": [
          "Saves",
          "Comments",
          "Shares",
          "Likes"
         ],
         "legendgroup": "",
         "name": "",
         "showlegend": true,
         "type": "pie",
         "values": [
          18244,
          793,
          1114,
          20680
         ]
        }
       ],
       "layout": {
        "legend": {
         "tracegroupgap": 0
        },
        "piecolorway": [
         "#FFB6C1",
         "#87CEFA",
         "#90EE90",
         "#FFDAB9"
        ],
        "template": {
         "data": {
          "bar": [
           {
            "error_x": {
             "color": "#2a3f5f"
            },
            "error_y": {
             "color": "#2a3f5f"
            },
            "marker": {
             "line": {
              "color": "white",
              "width": 0.5
             },
             "pattern": {
              "fillmode": "overlay",
              "size": 10,
              "solidity": 0.2
             }
            },
            "type": "bar"
           }
          ],
          "barpolar": [
           {
            "marker": {
             "line": {
              "color": "white",
              "width": 0.5
             },
             "pattern": {
              "fillmode": "overlay",
              "size": 10,
              "solidity": 0.2
             }
            },
            "type": "barpolar"
           }
          ],
          "carpet": [
           {
            "aaxis": {
             "endlinecolor": "#2a3f5f",
             "gridcolor": "#C8D4E3",
             "linecolor": "#C8D4E3",
             "minorgridcolor": "#C8D4E3",
             "startlinecolor": "#2a3f5f"
            },
            "baxis": {
             "endlinecolor": "#2a3f5f",
             "gridcolor": "#C8D4E3",
             "linecolor": "#C8D4E3",
             "minorgridcolor": "#C8D4E3",
             "startlinecolor": "#2a3f5f"
            },
            "type": "carpet"
           }
          ],
          "choropleth": [
           {
            "colorbar": {
             "outlinewidth": 0,
             "ticks": ""
            },
            "type": "choropleth"
           }
          ],
          "contour": [
           {
            "colorbar": {
             "outlinewidth": 0,
             "ticks": ""
            },
            "colorscale": [
             [
              0,
              "#0d0887"
             ],
             [
              0.1111111111111111,
              "#46039f"
             ],
             [
              0.2222222222222222,
              "#7201a8"
             ],
             [
              0.3333333333333333,
              "#9c179e"
             ],
             [
              0.4444444444444444,
              "#bd3786"
             ],
             [
              0.5555555555555556,
              "#d8576b"
             ],
             [
              0.6666666666666666,
              "#ed7953"
             ],
             [
              0.7777777777777778,
              "#fb9f3a"
             ],
             [
              0.8888888888888888,
              "#fdca26"
             ],
             [
              1,
              "#f0f921"
             ]
            ],
            "type": "contour"
           }
          ],
          "contourcarpet": [
           {
            "colorbar": {
             "outlinewidth": 0,
             "ticks": ""
            },
            "type": "contourcarpet"
           }
          ],
          "heatmap": [
           {
            "colorbar": {
             "outlinewidth": 0,
             "ticks": ""
            },
            "colorscale": [
             [
              0,
              "#0d0887"
             ],
             [
              0.1111111111111111,
              "#46039f"
             ],
             [
              0.2222222222222222,
              "#7201a8"
             ],
             [
              0.3333333333333333,
              "#9c179e"
             ],
             [
              0.4444444444444444,
              "#bd3786"
             ],
             [
              0.5555555555555556,
              "#d8576b"
             ],
             [
              0.6666666666666666,
              "#ed7953"
             ],
             [
              0.7777777777777778,
              "#fb9f3a"
             ],
             [
              0.8888888888888888,
              "#fdca26"
             ],
             [
              1,
              "#f0f921"
             ]
            ],
            "type": "heatmap"
           }
          ],
          "heatmapgl": [
           {
            "colorbar": {
             "outlinewidth": 0,
             "ticks": ""
            },
            "colorscale": [
             [
              0,
              "#0d0887"
             ],
             [
              0.1111111111111111,
              "#46039f"
             ],
             [
              0.2222222222222222,
              "#7201a8"
             ],
             [
              0.3333333333333333,
              "#9c179e"
             ],
             [
              0.4444444444444444,
              "#bd3786"
             ],
             [
              0.5555555555555556,
              "#d8576b"
             ],
             [
              0.6666666666666666,
              "#ed7953"
             ],
             [
              0.7777777777777778,
              "#fb9f3a"
             ],
             [
              0.8888888888888888,
              "#fdca26"
             ],
             [
              1,
              "#f0f921"
             ]
            ],
            "type": "heatmapgl"
           }
          ],
          "histogram": [
           {
            "marker": {
             "pattern": {
              "fillmode": "overlay",
              "size": 10,
              "solidity": 0.2
             }
            },
            "type": "histogram"
           }
          ],
          "histogram2d": [
           {
            "colorbar": {
             "outlinewidth": 0,
             "ticks": ""
            },
            "colorscale": [
             [
              0,
              "#0d0887"
             ],
             [
              0.1111111111111111,
              "#46039f"
             ],
             [
              0.2222222222222222,
              "#7201a8"
             ],
             [
              0.3333333333333333,
              "#9c179e"
             ],
             [
              0.4444444444444444,
              "#bd3786"
             ],
             [
              0.5555555555555556,
              "#d8576b"
             ],
             [
              0.6666666666666666,
              "#ed7953"
             ],
             [
              0.7777777777777778,
              "#fb9f3a"
             ],
             [
              0.8888888888888888,
              "#fdca26"
             ],
             [
              1,
              "#f0f921"
             ]
            ],
            "type": "histogram2d"
           }
          ],
          "histogram2dcontour": [
           {
            "colorbar": {
             "outlinewidth": 0,
             "ticks": ""
            },
            "colorscale": [
             [
              0,
              "#0d0887"
             ],
             [
              0.1111111111111111,
              "#46039f"
             ],
             [
              0.2222222222222222,
              "#7201a8"
             ],
             [
              0.3333333333333333,
              "#9c179e"
             ],
             [
              0.4444444444444444,
              "#bd3786"
             ],
             [
              0.5555555555555556,
              "#d8576b"
             ],
             [
              0.6666666666666666,
              "#ed7953"
             ],
             [
              0.7777777777777778,
              "#fb9f3a"
             ],
             [
              0.8888888888888888,
              "#fdca26"
             ],
             [
              1,
              "#f0f921"
             ]
            ],
            "type": "histogram2dcontour"
           }
          ],
          "mesh3d": [
           {
            "colorbar": {
             "outlinewidth": 0,
             "ticks": ""
            },
            "type": "mesh3d"
           }
          ],
          "parcoords": [
           {
            "line": {
             "colorbar": {
              "outlinewidth": 0,
              "ticks": ""
             }
            },
            "type": "parcoords"
           }
          ],
          "pie": [
           {
            "automargin": true,
            "type": "pie"
           }
          ],
          "scatter": [
           {
            "fillpattern": {
             "fillmode": "overlay",
             "size": 10,
             "solidity": 0.2
            },
            "type": "scatter"
           }
          ],
          "scatter3d": [
           {
            "line": {
             "colorbar": {
              "outlinewidth": 0,
              "ticks": ""
             }
            },
            "marker": {
             "colorbar": {
              "outlinewidth": 0,
              "ticks": ""
             }
            },
            "type": "scatter3d"
           }
          ],
          "scattercarpet": [
           {
            "marker": {
             "colorbar": {
              "outlinewidth": 0,
              "ticks": ""
             }
            },
            "type": "scattercarpet"
           }
          ],
          "scattergeo": [
           {
            "marker": {
             "colorbar": {
              "outlinewidth": 0,
              "ticks": ""
             }
            },
            "type": "scattergeo"
           }
          ],
          "scattergl": [
           {
            "marker": {
             "colorbar": {
              "outlinewidth": 0,
              "ticks": ""
             }
            },
            "type": "scattergl"
           }
          ],
          "scattermapbox": [
           {
            "marker": {
             "colorbar": {
              "outlinewidth": 0,
              "ticks": ""
             }
            },
            "type": "scattermapbox"
           }
          ],
          "scatterpolar": [
           {
            "marker": {
             "colorbar": {
              "outlinewidth": 0,
              "ticks": ""
             }
            },
            "type": "scatterpolar"
           }
          ],
          "scatterpolargl": [
           {
            "marker": {
             "colorbar": {
              "outlinewidth": 0,
              "ticks": ""
             }
            },
            "type": "scatterpolargl"
           }
          ],
          "scatterternary": [
           {
            "marker": {
             "colorbar": {
              "outlinewidth": 0,
              "ticks": ""
             }
            },
            "type": "scatterternary"
           }
          ],
          "surface": [
           {
            "colorbar": {
             "outlinewidth": 0,
             "ticks": ""
            },
            "colorscale": [
             [
              0,
              "#0d0887"
             ],
             [
              0.1111111111111111,
              "#46039f"
             ],
             [
              0.2222222222222222,
              "#7201a8"
             ],
             [
              0.3333333333333333,
              "#9c179e"
             ],
             [
              0.4444444444444444,
              "#bd3786"
             ],
             [
              0.5555555555555556,
              "#d8576b"
             ],
             [
              0.6666666666666666,
              "#ed7953"
             ],
             [
              0.7777777777777778,
              "#fb9f3a"
             ],
             [
              0.8888888888888888,
              "#fdca26"
             ],
             [
              1,
              "#f0f921"
             ]
            ],
            "type": "surface"
           }
          ],
          "table": [
           {
            "cells": {
             "fill": {
              "color": "#EBF0F8"
             },
             "line": {
              "color": "white"
             }
            },
            "header": {
             "fill": {
              "color": "#C8D4E3"
             },
             "line": {
              "color": "white"
             }
            },
            "type": "table"
           }
          ]
         },
         "layout": {
          "annotationdefaults": {
           "arrowcolor": "#2a3f5f",
           "arrowhead": 0,
           "arrowwidth": 1
          },
          "autotypenumbers": "strict",
          "coloraxis": {
           "colorbar": {
            "outlinewidth": 0,
            "ticks": ""
           }
          },
          "colorscale": {
           "diverging": [
            [
             0,
             "#8e0152"
            ],
            [
             0.1,
             "#c51b7d"
            ],
            [
             0.2,
             "#de77ae"
            ],
            [
             0.3,
             "#f1b6da"
            ],
            [
             0.4,
             "#fde0ef"
            ],
            [
             0.5,
             "#f7f7f7"
            ],
            [
             0.6,
             "#e6f5d0"
            ],
            [
             0.7,
             "#b8e186"
            ],
            [
             0.8,
             "#7fbc41"
            ],
            [
             0.9,
             "#4d9221"
            ],
            [
             1,
             "#276419"
            ]
           ],
           "sequential": [
            [
             0,
             "#0d0887"
            ],
            [
             0.1111111111111111,
             "#46039f"
            ],
            [
             0.2222222222222222,
             "#7201a8"
            ],
            [
             0.3333333333333333,
             "#9c179e"
            ],
            [
             0.4444444444444444,
             "#bd3786"
            ],
            [
             0.5555555555555556,
             "#d8576b"
            ],
            [
             0.6666666666666666,
             "#ed7953"
            ],
            [
             0.7777777777777778,
             "#fb9f3a"
            ],
            [
             0.8888888888888888,
             "#fdca26"
            ],
            [
             1,
             "#f0f921"
            ]
           ],
           "sequentialminus": [
            [
             0,
             "#0d0887"
            ],
            [
             0.1111111111111111,
             "#46039f"
            ],
            [
             0.2222222222222222,
             "#7201a8"
            ],
            [
             0.3333333333333333,
             "#9c179e"
            ],
            [
             0.4444444444444444,
             "#bd3786"
            ],
            [
             0.5555555555555556,
             "#d8576b"
            ],
            [
             0.6666666666666666,
             "#ed7953"
            ],
            [
             0.7777777777777778,
             "#fb9f3a"
            ],
            [
             0.8888888888888888,
             "#fdca26"
            ],
            [
             1,
             "#f0f921"
            ]
           ]
          },
          "colorway": [
           "#636efa",
           "#EF553B",
           "#00cc96",
           "#ab63fa",
           "#FFA15A",
           "#19d3f3",
           "#FF6692",
           "#B6E880",
           "#FF97FF",
           "#FECB52"
          ],
          "font": {
           "color": "#2a3f5f"
          },
          "geo": {
           "bgcolor": "white",
           "lakecolor": "white",
           "landcolor": "white",
           "showlakes": true,
           "showland": true,
           "subunitcolor": "#C8D4E3"
          },
          "hoverlabel": {
           "align": "left"
          },
          "hovermode": "closest",
          "mapbox": {
           "style": "light"
          },
          "paper_bgcolor": "white",
          "plot_bgcolor": "white",
          "polar": {
           "angularaxis": {
            "gridcolor": "#EBF0F8",
            "linecolor": "#EBF0F8",
            "ticks": ""
           },
           "bgcolor": "white",
           "radialaxis": {
            "gridcolor": "#EBF0F8",
            "linecolor": "#EBF0F8",
            "ticks": ""
           }
          },
          "scene": {
           "xaxis": {
            "backgroundcolor": "white",
            "gridcolor": "#DFE8F3",
            "gridwidth": 2,
            "linecolor": "#EBF0F8",
            "showbackground": true,
            "ticks": "",
            "zerolinecolor": "#EBF0F8"
           },
           "yaxis": {
            "backgroundcolor": "white",
            "gridcolor": "#DFE8F3",
            "gridwidth": 2,
            "linecolor": "#EBF0F8",
            "showbackground": true,
            "ticks": "",
            "zerolinecolor": "#EBF0F8"
           },
           "zaxis": {
            "backgroundcolor": "white",
            "gridcolor": "#DFE8F3",
            "gridwidth": 2,
            "linecolor": "#EBF0F8",
            "showbackground": true,
            "ticks": "",
            "zerolinecolor": "#EBF0F8"
           }
          },
          "shapedefaults": {
           "line": {
            "color": "#2a3f5f"
           }
          },
          "ternary": {
           "aaxis": {
            "gridcolor": "#DFE8F3",
            "linecolor": "#A2B1C6",
            "ticks": ""
           },
           "baxis": {
            "gridcolor": "#DFE8F3",
            "linecolor": "#A2B1C6",
            "ticks": ""
           },
           "bgcolor": "white",
           "caxis": {
            "gridcolor": "#DFE8F3",
            "linecolor": "#A2B1C6",
            "ticks": ""
           }
          },
          "title": {
           "x": 0.05
          },
          "xaxis": {
           "automargin": true,
           "gridcolor": "#EBF0F8",
           "linecolor": "#EBF0F8",
           "ticks": "",
           "title": {
            "standoff": 15
           },
           "zerolinecolor": "#EBF0F8",
           "zerolinewidth": 2
          },
          "yaxis": {
           "automargin": true,
           "gridcolor": "#EBF0F8",
           "linecolor": "#EBF0F8",
           "ticks": "",
           "title": {
            "standoff": 15
           },
           "zerolinecolor": "#EBF0F8",
           "zerolinewidth": 2
          }
         }
        },
        "title": {
         "text": "Engagment Sources"
        }
       }
      }
     },
     "metadata": {},
     "output_type": "display_data"
    }
   ],
   "source": [
    "engagement_metrics = ['Saves', 'Comments', 'Shares', 'Likes']\n",
    "engagement_counts = [data[metric].sum() for metric in engagement_metrics]\n",
    "\n",
    "colors = ['#FFB6C1', '#87CEFA', '#90EE90', '#FFDAB9']\n",
    "\n",
    "fig = px.pie(data_frame=data,\n",
    "             names=engagement_metrics,\n",
    "             values=engagement_counts,\n",
    "             title='Engagment Sources',\n",
    "             color_discrete_sequence=colors)\n",
    "\n",
    "fig.show()"
   ]
  },
  {
   "attachments": {},
   "cell_type": "markdown",
   "metadata": {},
   "source": [
    "Now let's have a look at the relationship between the number of profile visits and follows:"
   ]
  },
  {
   "cell_type": "code",
   "execution_count": 15,
   "metadata": {},
   "outputs": [
    {
     "data": {
      "application/vnd.plotly.v1+json": {
       "config": {
        "plotlyServerURL": "https://plot.ly"
       },
       "data": [
        {
         "hovertemplate": "Profile Visits=%{x}<br>Follows=%{y}<extra></extra>",
         "legendgroup": "",
         "marker": {
          "color": "#636efa",
          "symbol": "circle"
         },
         "mode": "markers",
         "name": "",
         "orientation": "v",
         "showlegend": false,
         "type": "scatter",
         "x": [
          35,
          48,
          62,
          23,
          8,
          9,
          26,
          12,
          36,
          31,
          29,
          15,
          8,
          20,
          181,
          17,
          16,
          21,
          77,
          10,
          9,
          11,
          144,
          14,
          10,
          19,
          69,
          11,
          19,
          9,
          57,
          13,
          11,
          24,
          81,
          4,
          7,
          14,
          18,
          8,
          330,
          21,
          19,
          32,
          19,
          21,
          14,
          30,
          39,
          42,
          31,
          20,
          12,
          22,
          306,
          13,
          26,
          16,
          15,
          15,
          39,
          21,
          8,
          45,
          50,
          37,
          25,
          347,
          26,
          48,
          16,
          26,
          17,
          52,
          22,
          41,
          155,
          12,
          22,
          20,
          23,
          25,
          17,
          16,
          21,
          77,
          10,
          14,
          30,
          39,
          42,
          31,
          14,
          10,
          19,
          69,
          11,
          19,
          9,
          38,
          42,
          92,
          75,
          21,
          26,
          39,
          74,
          467,
          24,
          70,
          22,
          46,
          61,
          237,
          73,
          20,
          34,
          148,
          611
         ],
         "xaxis": "x",
         "y": [
          2,
          10,
          12,
          8,
          0,
          2,
          0,
          6,
          4,
          6,
          4,
          0,
          2,
          4,
          42,
          6,
          2,
          2,
          30,
          0,
          0,
          24,
          100,
          2,
          4,
          6,
          6,
          6,
          2,
          2,
          20,
          2,
          4,
          8,
          26,
          2,
          2,
          4,
          0,
          2,
          94,
          8,
          18,
          10,
          4,
          4,
          4,
          4,
          18,
          38,
          10,
          12,
          4,
          4,
          74,
          0,
          6,
          6,
          0,
          6,
          12,
          10,
          8,
          8,
          46,
          12,
          10,
          94,
          6,
          10,
          6,
          4,
          12,
          16,
          12,
          8,
          32,
          8,
          16,
          6,
          10,
          10,
          6,
          2,
          2,
          30,
          0,
          4,
          4,
          18,
          38,
          10,
          2,
          4,
          6,
          6,
          6,
          2,
          2,
          14,
          8,
          14,
          28,
          18,
          12,
          34,
          26,
          260,
          16,
          96,
          20,
          30,
          58,
          100,
          80,
          18,
          10,
          214,
          228
         ],
         "yaxis": "y"
        },
        {
         "hovertemplate": "<b>OLS trendline</b><br>Follows = 0.400884 * Profile Visits + 0.46283<br>R<sup>2</sup>=0.727868<br><br>Profile Visits=%{x}<br>Follows=%{y} <b>(trend)</b><extra></extra>",
         "legendgroup": "",
         "marker": {
          "color": "#636efa",
          "symbol": "circle"
         },
         "mode": "lines",
         "name": "",
         "showlegend": false,
         "type": "scatter",
         "x": [
          4,
          7,
          8,
          8,
          8,
          8,
          9,
          9,
          9,
          9,
          10,
          10,
          10,
          10,
          11,
          11,
          11,
          11,
          12,
          12,
          12,
          13,
          13,
          14,
          14,
          14,
          14,
          14,
          15,
          15,
          15,
          16,
          16,
          16,
          16,
          17,
          17,
          17,
          18,
          19,
          19,
          19,
          19,
          19,
          19,
          20,
          20,
          20,
          20,
          21,
          21,
          21,
          21,
          21,
          21,
          22,
          22,
          22,
          22,
          23,
          23,
          24,
          24,
          25,
          25,
          26,
          26,
          26,
          26,
          26,
          29,
          30,
          30,
          31,
          31,
          31,
          32,
          34,
          35,
          36,
          37,
          38,
          39,
          39,
          39,
          39,
          41,
          42,
          42,
          42,
          45,
          46,
          48,
          48,
          50,
          52,
          57,
          61,
          62,
          69,
          69,
          70,
          73,
          74,
          75,
          77,
          77,
          81,
          92,
          144,
          148,
          155,
          181,
          237,
          306,
          330,
          347,
          467,
          611
         ],
         "xaxis": "x",
         "y": [
          2.066365070422533,
          3.269016056338026,
          3.669899718309857,
          3.669899718309857,
          3.669899718309857,
          3.669899718309857,
          4.0707833802816875,
          4.0707833802816875,
          4.0707833802816875,
          4.0707833802816875,
          4.471667042253519,
          4.471667042253519,
          4.471667042253519,
          4.471667042253519,
          4.87255070422535,
          4.87255070422535,
          4.87255070422535,
          4.87255070422535,
          5.273434366197181,
          5.273434366197181,
          5.273434366197181,
          5.6743180281690115,
          5.6743180281690115,
          6.075201690140843,
          6.075201690140843,
          6.075201690140843,
          6.075201690140843,
          6.075201690140843,
          6.476085352112674,
          6.476085352112674,
          6.476085352112674,
          6.876969014084505,
          6.876969014084505,
          6.876969014084505,
          6.876969014084505,
          7.277852676056336,
          7.277852676056336,
          7.277852676056336,
          7.678736338028167,
          8.079619999999998,
          8.079619999999998,
          8.079619999999998,
          8.079619999999998,
          8.079619999999998,
          8.079619999999998,
          8.480503661971829,
          8.480503661971829,
          8.480503661971829,
          8.480503661971829,
          8.88138732394366,
          8.88138732394366,
          8.88138732394366,
          8.88138732394366,
          8.88138732394366,
          8.88138732394366,
          9.282270985915492,
          9.282270985915492,
          9.282270985915492,
          9.282270985915492,
          9.683154647887322,
          9.683154647887322,
          10.084038309859153,
          10.084038309859153,
          10.484921971830984,
          10.484921971830984,
          10.885805633802814,
          10.885805633802814,
          10.885805633802814,
          10.885805633802814,
          10.885805633802814,
          12.088456619718308,
          12.48934028169014,
          12.48934028169014,
          12.89022394366197,
          12.89022394366197,
          12.89022394366197,
          13.291107605633801,
          14.092874929577462,
          14.493758591549295,
          14.894642253521125,
          15.295525915492956,
          15.696409577464788,
          16.097293239436617,
          16.097293239436617,
          16.097293239436617,
          16.097293239436617,
          16.89906056338028,
          17.29994422535211,
          17.29994422535211,
          17.29994422535211,
          18.502595211267604,
          18.903478873239436,
          19.705246197183097,
          19.705246197183097,
          20.50701352112676,
          21.30878084507042,
          23.313199154929578,
          24.9167338028169,
          25.317617464788732,
          28.123803098591548,
          28.123803098591548,
          28.52468676056338,
          29.727337746478874,
          30.128221408450703,
          30.529105070422535,
          31.330872394366196,
          31.330872394366196,
          32.934407042253525,
          37.34412732394367,
          58.19007774647888,
          59.79361239436619,
          62.59979802816902,
          73.02277323943662,
          95.47225830985916,
          123.13323098591549,
          132.75443887323945,
          139.56946112676056,
          187.6755005633803,
          245.40274788732395
         ],
         "yaxis": "y"
        }
       ],
       "layout": {
        "legend": {
         "tracegroupgap": 0
        },
        "template": {
         "data": {
          "bar": [
           {
            "error_x": {
             "color": "#2a3f5f"
            },
            "error_y": {
             "color": "#2a3f5f"
            },
            "marker": {
             "line": {
              "color": "white",
              "width": 0.5
             },
             "pattern": {
              "fillmode": "overlay",
              "size": 10,
              "solidity": 0.2
             }
            },
            "type": "bar"
           }
          ],
          "barpolar": [
           {
            "marker": {
             "line": {
              "color": "white",
              "width": 0.5
             },
             "pattern": {
              "fillmode": "overlay",
              "size": 10,
              "solidity": 0.2
             }
            },
            "type": "barpolar"
           }
          ],
          "carpet": [
           {
            "aaxis": {
             "endlinecolor": "#2a3f5f",
             "gridcolor": "#C8D4E3",
             "linecolor": "#C8D4E3",
             "minorgridcolor": "#C8D4E3",
             "startlinecolor": "#2a3f5f"
            },
            "baxis": {
             "endlinecolor": "#2a3f5f",
             "gridcolor": "#C8D4E3",
             "linecolor": "#C8D4E3",
             "minorgridcolor": "#C8D4E3",
             "startlinecolor": "#2a3f5f"
            },
            "type": "carpet"
           }
          ],
          "choropleth": [
           {
            "colorbar": {
             "outlinewidth": 0,
             "ticks": ""
            },
            "type": "choropleth"
           }
          ],
          "contour": [
           {
            "colorbar": {
             "outlinewidth": 0,
             "ticks": ""
            },
            "colorscale": [
             [
              0,
              "#0d0887"
             ],
             [
              0.1111111111111111,
              "#46039f"
             ],
             [
              0.2222222222222222,
              "#7201a8"
             ],
             [
              0.3333333333333333,
              "#9c179e"
             ],
             [
              0.4444444444444444,
              "#bd3786"
             ],
             [
              0.5555555555555556,
              "#d8576b"
             ],
             [
              0.6666666666666666,
              "#ed7953"
             ],
             [
              0.7777777777777778,
              "#fb9f3a"
             ],
             [
              0.8888888888888888,
              "#fdca26"
             ],
             [
              1,
              "#f0f921"
             ]
            ],
            "type": "contour"
           }
          ],
          "contourcarpet": [
           {
            "colorbar": {
             "outlinewidth": 0,
             "ticks": ""
            },
            "type": "contourcarpet"
           }
          ],
          "heatmap": [
           {
            "colorbar": {
             "outlinewidth": 0,
             "ticks": ""
            },
            "colorscale": [
             [
              0,
              "#0d0887"
             ],
             [
              0.1111111111111111,
              "#46039f"
             ],
             [
              0.2222222222222222,
              "#7201a8"
             ],
             [
              0.3333333333333333,
              "#9c179e"
             ],
             [
              0.4444444444444444,
              "#bd3786"
             ],
             [
              0.5555555555555556,
              "#d8576b"
             ],
             [
              0.6666666666666666,
              "#ed7953"
             ],
             [
              0.7777777777777778,
              "#fb9f3a"
             ],
             [
              0.8888888888888888,
              "#fdca26"
             ],
             [
              1,
              "#f0f921"
             ]
            ],
            "type": "heatmap"
           }
          ],
          "heatmapgl": [
           {
            "colorbar": {
             "outlinewidth": 0,
             "ticks": ""
            },
            "colorscale": [
             [
              0,
              "#0d0887"
             ],
             [
              0.1111111111111111,
              "#46039f"
             ],
             [
              0.2222222222222222,
              "#7201a8"
             ],
             [
              0.3333333333333333,
              "#9c179e"
             ],
             [
              0.4444444444444444,
              "#bd3786"
             ],
             [
              0.5555555555555556,
              "#d8576b"
             ],
             [
              0.6666666666666666,
              "#ed7953"
             ],
             [
              0.7777777777777778,
              "#fb9f3a"
             ],
             [
              0.8888888888888888,
              "#fdca26"
             ],
             [
              1,
              "#f0f921"
             ]
            ],
            "type": "heatmapgl"
           }
          ],
          "histogram": [
           {
            "marker": {
             "pattern": {
              "fillmode": "overlay",
              "size": 10,
              "solidity": 0.2
             }
            },
            "type": "histogram"
           }
          ],
          "histogram2d": [
           {
            "colorbar": {
             "outlinewidth": 0,
             "ticks": ""
            },
            "colorscale": [
             [
              0,
              "#0d0887"
             ],
             [
              0.1111111111111111,
              "#46039f"
             ],
             [
              0.2222222222222222,
              "#7201a8"
             ],
             [
              0.3333333333333333,
              "#9c179e"
             ],
             [
              0.4444444444444444,
              "#bd3786"
             ],
             [
              0.5555555555555556,
              "#d8576b"
             ],
             [
              0.6666666666666666,
              "#ed7953"
             ],
             [
              0.7777777777777778,
              "#fb9f3a"
             ],
             [
              0.8888888888888888,
              "#fdca26"
             ],
             [
              1,
              "#f0f921"
             ]
            ],
            "type": "histogram2d"
           }
          ],
          "histogram2dcontour": [
           {
            "colorbar": {
             "outlinewidth": 0,
             "ticks": ""
            },
            "colorscale": [
             [
              0,
              "#0d0887"
             ],
             [
              0.1111111111111111,
              "#46039f"
             ],
             [
              0.2222222222222222,
              "#7201a8"
             ],
             [
              0.3333333333333333,
              "#9c179e"
             ],
             [
              0.4444444444444444,
              "#bd3786"
             ],
             [
              0.5555555555555556,
              "#d8576b"
             ],
             [
              0.6666666666666666,
              "#ed7953"
             ],
             [
              0.7777777777777778,
              "#fb9f3a"
             ],
             [
              0.8888888888888888,
              "#fdca26"
             ],
             [
              1,
              "#f0f921"
             ]
            ],
            "type": "histogram2dcontour"
           }
          ],
          "mesh3d": [
           {
            "colorbar": {
             "outlinewidth": 0,
             "ticks": ""
            },
            "type": "mesh3d"
           }
          ],
          "parcoords": [
           {
            "line": {
             "colorbar": {
              "outlinewidth": 0,
              "ticks": ""
             }
            },
            "type": "parcoords"
           }
          ],
          "pie": [
           {
            "automargin": true,
            "type": "pie"
           }
          ],
          "scatter": [
           {
            "fillpattern": {
             "fillmode": "overlay",
             "size": 10,
             "solidity": 0.2
            },
            "type": "scatter"
           }
          ],
          "scatter3d": [
           {
            "line": {
             "colorbar": {
              "outlinewidth": 0,
              "ticks": ""
             }
            },
            "marker": {
             "colorbar": {
              "outlinewidth": 0,
              "ticks": ""
             }
            },
            "type": "scatter3d"
           }
          ],
          "scattercarpet": [
           {
            "marker": {
             "colorbar": {
              "outlinewidth": 0,
              "ticks": ""
             }
            },
            "type": "scattercarpet"
           }
          ],
          "scattergeo": [
           {
            "marker": {
             "colorbar": {
              "outlinewidth": 0,
              "ticks": ""
             }
            },
            "type": "scattergeo"
           }
          ],
          "scattergl": [
           {
            "marker": {
             "colorbar": {
              "outlinewidth": 0,
              "ticks": ""
             }
            },
            "type": "scattergl"
           }
          ],
          "scattermapbox": [
           {
            "marker": {
             "colorbar": {
              "outlinewidth": 0,
              "ticks": ""
             }
            },
            "type": "scattermapbox"
           }
          ],
          "scatterpolar": [
           {
            "marker": {
             "colorbar": {
              "outlinewidth": 0,
              "ticks": ""
             }
            },
            "type": "scatterpolar"
           }
          ],
          "scatterpolargl": [
           {
            "marker": {
             "colorbar": {
              "outlinewidth": 0,
              "ticks": ""
             }
            },
            "type": "scatterpolargl"
           }
          ],
          "scatterternary": [
           {
            "marker": {
             "colorbar": {
              "outlinewidth": 0,
              "ticks": ""
             }
            },
            "type": "scatterternary"
           }
          ],
          "surface": [
           {
            "colorbar": {
             "outlinewidth": 0,
             "ticks": ""
            },
            "colorscale": [
             [
              0,
              "#0d0887"
             ],
             [
              0.1111111111111111,
              "#46039f"
             ],
             [
              0.2222222222222222,
              "#7201a8"
             ],
             [
              0.3333333333333333,
              "#9c179e"
             ],
             [
              0.4444444444444444,
              "#bd3786"
             ],
             [
              0.5555555555555556,
              "#d8576b"
             ],
             [
              0.6666666666666666,
              "#ed7953"
             ],
             [
              0.7777777777777778,
              "#fb9f3a"
             ],
             [
              0.8888888888888888,
              "#fdca26"
             ],
             [
              1,
              "#f0f921"
             ]
            ],
            "type": "surface"
           }
          ],
          "table": [
           {
            "cells": {
             "fill": {
              "color": "#EBF0F8"
             },
             "line": {
              "color": "white"
             }
            },
            "header": {
             "fill": {
              "color": "#C8D4E3"
             },
             "line": {
              "color": "white"
             }
            },
            "type": "table"
           }
          ]
         },
         "layout": {
          "annotationdefaults": {
           "arrowcolor": "#2a3f5f",
           "arrowhead": 0,
           "arrowwidth": 1
          },
          "autotypenumbers": "strict",
          "coloraxis": {
           "colorbar": {
            "outlinewidth": 0,
            "ticks": ""
           }
          },
          "colorscale": {
           "diverging": [
            [
             0,
             "#8e0152"
            ],
            [
             0.1,
             "#c51b7d"
            ],
            [
             0.2,
             "#de77ae"
            ],
            [
             0.3,
             "#f1b6da"
            ],
            [
             0.4,
             "#fde0ef"
            ],
            [
             0.5,
             "#f7f7f7"
            ],
            [
             0.6,
             "#e6f5d0"
            ],
            [
             0.7,
             "#b8e186"
            ],
            [
             0.8,
             "#7fbc41"
            ],
            [
             0.9,
             "#4d9221"
            ],
            [
             1,
             "#276419"
            ]
           ],
           "sequential": [
            [
             0,
             "#0d0887"
            ],
            [
             0.1111111111111111,
             "#46039f"
            ],
            [
             0.2222222222222222,
             "#7201a8"
            ],
            [
             0.3333333333333333,
             "#9c179e"
            ],
            [
             0.4444444444444444,
             "#bd3786"
            ],
            [
             0.5555555555555556,
             "#d8576b"
            ],
            [
             0.6666666666666666,
             "#ed7953"
            ],
            [
             0.7777777777777778,
             "#fb9f3a"
            ],
            [
             0.8888888888888888,
             "#fdca26"
            ],
            [
             1,
             "#f0f921"
            ]
           ],
           "sequentialminus": [
            [
             0,
             "#0d0887"
            ],
            [
             0.1111111111111111,
             "#46039f"
            ],
            [
             0.2222222222222222,
             "#7201a8"
            ],
            [
             0.3333333333333333,
             "#9c179e"
            ],
            [
             0.4444444444444444,
             "#bd3786"
            ],
            [
             0.5555555555555556,
             "#d8576b"
            ],
            [
             0.6666666666666666,
             "#ed7953"
            ],
            [
             0.7777777777777778,
             "#fb9f3a"
            ],
            [
             0.8888888888888888,
             "#fdca26"
            ],
            [
             1,
             "#f0f921"
            ]
           ]
          },
          "colorway": [
           "#636efa",
           "#EF553B",
           "#00cc96",
           "#ab63fa",
           "#FFA15A",
           "#19d3f3",
           "#FF6692",
           "#B6E880",
           "#FF97FF",
           "#FECB52"
          ],
          "font": {
           "color": "#2a3f5f"
          },
          "geo": {
           "bgcolor": "white",
           "lakecolor": "white",
           "landcolor": "white",
           "showlakes": true,
           "showland": true,
           "subunitcolor": "#C8D4E3"
          },
          "hoverlabel": {
           "align": "left"
          },
          "hovermode": "closest",
          "mapbox": {
           "style": "light"
          },
          "paper_bgcolor": "white",
          "plot_bgcolor": "white",
          "polar": {
           "angularaxis": {
            "gridcolor": "#EBF0F8",
            "linecolor": "#EBF0F8",
            "ticks": ""
           },
           "bgcolor": "white",
           "radialaxis": {
            "gridcolor": "#EBF0F8",
            "linecolor": "#EBF0F8",
            "ticks": ""
           }
          },
          "scene": {
           "xaxis": {
            "backgroundcolor": "white",
            "gridcolor": "#DFE8F3",
            "gridwidth": 2,
            "linecolor": "#EBF0F8",
            "showbackground": true,
            "ticks": "",
            "zerolinecolor": "#EBF0F8"
           },
           "yaxis": {
            "backgroundcolor": "white",
            "gridcolor": "#DFE8F3",
            "gridwidth": 2,
            "linecolor": "#EBF0F8",
            "showbackground": true,
            "ticks": "",
            "zerolinecolor": "#EBF0F8"
           },
           "zaxis": {
            "backgroundcolor": "white",
            "gridcolor": "#DFE8F3",
            "gridwidth": 2,
            "linecolor": "#EBF0F8",
            "showbackground": true,
            "ticks": "",
            "zerolinecolor": "#EBF0F8"
           }
          },
          "shapedefaults": {
           "line": {
            "color": "#2a3f5f"
           }
          },
          "ternary": {
           "aaxis": {
            "gridcolor": "#DFE8F3",
            "linecolor": "#A2B1C6",
            "ticks": ""
           },
           "baxis": {
            "gridcolor": "#DFE8F3",
            "linecolor": "#A2B1C6",
            "ticks": ""
           },
           "bgcolor": "white",
           "caxis": {
            "gridcolor": "#DFE8F3",
            "linecolor": "#A2B1C6",
            "ticks": ""
           }
          },
          "title": {
           "x": 0.05
          },
          "xaxis": {
           "automargin": true,
           "gridcolor": "#EBF0F8",
           "linecolor": "#EBF0F8",
           "ticks": "",
           "title": {
            "standoff": 15
           },
           "zerolinecolor": "#EBF0F8",
           "zerolinewidth": 2
          },
          "yaxis": {
           "automargin": true,
           "gridcolor": "#EBF0F8",
           "linecolor": "#EBF0F8",
           "ticks": "",
           "title": {
            "standoff": 15
           },
           "zerolinecolor": "#EBF0F8",
           "zerolinewidth": 2
          }
         }
        },
        "title": {
         "text": "Profile Visits vs. Follows"
        },
        "xaxis": {
         "anchor": "y",
         "domain": [
          0,
          1
         ],
         "title": {
          "text": "Profile Visits"
         }
        },
        "yaxis": {
         "anchor": "x",
         "domain": [
          0,
          1
         ],
         "title": {
          "text": "Follows"
         }
        }
       }
      }
     },
     "metadata": {},
     "output_type": "display_data"
    }
   ],
   "source": [
    "fig = px.scatter(data,\n",
    "                 x='Profile Visits',\n",
    "                 y='Follows',\n",
    "                 trendline='ols',\n",
    "                 title='Profile Visits vs. Follows')\n",
    "\n",
    "fig.show()"
   ]
  },
  {
   "attachments": {},
   "cell_type": "markdown",
   "metadata": {},
   "source": [
    "Now let's have a look at the type of hashtags used in the posts using a wordcloud"
   ]
  },
  {
   "cell_type": "code",
   "execution_count": 17,
   "metadata": {},
   "outputs": [
    {
     "data": {
      "application/vnd.plotly.v1+json": {
       "config": {
        "plotlyServerURL": "https://plot.ly"
       },
       "data": [
        {
         "hovertemplate": "x: %{x}<br>y: %{y}<br>color: [%{z[0]}, %{z[1]}, %{z[2]}]<extra></extra>",
         "name": "0",
         "source": "data:image/png;base64,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",
         "type": "image",
         "xaxis": "x",
         "yaxis": "y"
        }
       ],
       "layout": {
        "template": {
         "data": {
          "bar": [
           {
            "error_x": {
             "color": "#2a3f5f"
            },
            "error_y": {
             "color": "#2a3f5f"
            },
            "marker": {
             "line": {
              "color": "white",
              "width": 0.5
             },
             "pattern": {
              "fillmode": "overlay",
              "size": 10,
              "solidity": 0.2
             }
            },
            "type": "bar"
           }
          ],
          "barpolar": [
           {
            "marker": {
             "line": {
              "color": "white",
              "width": 0.5
             },
             "pattern": {
              "fillmode": "overlay",
              "size": 10,
              "solidity": 0.2
             }
            },
            "type": "barpolar"
           }
          ],
          "carpet": [
           {
            "aaxis": {
             "endlinecolor": "#2a3f5f",
             "gridcolor": "#C8D4E3",
             "linecolor": "#C8D4E3",
             "minorgridcolor": "#C8D4E3",
             "startlinecolor": "#2a3f5f"
            },
            "baxis": {
             "endlinecolor": "#2a3f5f",
             "gridcolor": "#C8D4E3",
             "linecolor": "#C8D4E3",
             "minorgridcolor": "#C8D4E3",
             "startlinecolor": "#2a3f5f"
            },
            "type": "carpet"
           }
          ],
          "choropleth": [
           {
            "colorbar": {
             "outlinewidth": 0,
             "ticks": ""
            },
            "type": "choropleth"
           }
          ],
          "contour": [
           {
            "colorbar": {
             "outlinewidth": 0,
             "ticks": ""
            },
            "colorscale": [
             [
              0,
              "#0d0887"
             ],
             [
              0.1111111111111111,
              "#46039f"
             ],
             [
              0.2222222222222222,
              "#7201a8"
             ],
             [
              0.3333333333333333,
              "#9c179e"
             ],
             [
              0.4444444444444444,
              "#bd3786"
             ],
             [
              0.5555555555555556,
              "#d8576b"
             ],
             [
              0.6666666666666666,
              "#ed7953"
             ],
             [
              0.7777777777777778,
              "#fb9f3a"
             ],
             [
              0.8888888888888888,
              "#fdca26"
             ],
             [
              1,
              "#f0f921"
             ]
            ],
            "type": "contour"
           }
          ],
          "contourcarpet": [
           {
            "colorbar": {
             "outlinewidth": 0,
             "ticks": ""
            },
            "type": "contourcarpet"
           }
          ],
          "heatmap": [
           {
            "colorbar": {
             "outlinewidth": 0,
             "ticks": ""
            },
            "colorscale": [
             [
              0,
              "#0d0887"
             ],
             [
              0.1111111111111111,
              "#46039f"
             ],
             [
              0.2222222222222222,
              "#7201a8"
             ],
             [
              0.3333333333333333,
              "#9c179e"
             ],
             [
              0.4444444444444444,
              "#bd3786"
             ],
             [
              0.5555555555555556,
              "#d8576b"
             ],
             [
              0.6666666666666666,
              "#ed7953"
             ],
             [
              0.7777777777777778,
              "#fb9f3a"
             ],
             [
              0.8888888888888888,
              "#fdca26"
             ],
             [
              1,
              "#f0f921"
             ]
            ],
            "type": "heatmap"
           }
          ],
          "heatmapgl": [
           {
            "colorbar": {
             "outlinewidth": 0,
             "ticks": ""
            },
            "colorscale": [
             [
              0,
              "#0d0887"
             ],
             [
              0.1111111111111111,
              "#46039f"
             ],
             [
              0.2222222222222222,
              "#7201a8"
             ],
             [
              0.3333333333333333,
              "#9c179e"
             ],
             [
              0.4444444444444444,
              "#bd3786"
             ],
             [
              0.5555555555555556,
              "#d8576b"
             ],
             [
              0.6666666666666666,
              "#ed7953"
             ],
             [
              0.7777777777777778,
              "#fb9f3a"
             ],
             [
              0.8888888888888888,
              "#fdca26"
             ],
             [
              1,
              "#f0f921"
             ]
            ],
            "type": "heatmapgl"
           }
          ],
          "histogram": [
           {
            "marker": {
             "pattern": {
              "fillmode": "overlay",
              "size": 10,
              "solidity": 0.2
             }
            },
            "type": "histogram"
           }
          ],
          "histogram2d": [
           {
            "colorbar": {
             "outlinewidth": 0,
             "ticks": ""
            },
            "colorscale": [
             [
              0,
              "#0d0887"
             ],
             [
              0.1111111111111111,
              "#46039f"
             ],
             [
              0.2222222222222222,
              "#7201a8"
             ],
             [
              0.3333333333333333,
              "#9c179e"
             ],
             [
              0.4444444444444444,
              "#bd3786"
             ],
             [
              0.5555555555555556,
              "#d8576b"
             ],
             [
              0.6666666666666666,
              "#ed7953"
             ],
             [
              0.7777777777777778,
              "#fb9f3a"
             ],
             [
              0.8888888888888888,
              "#fdca26"
             ],
             [
              1,
              "#f0f921"
             ]
            ],
            "type": "histogram2d"
           }
          ],
          "histogram2dcontour": [
           {
            "colorbar": {
             "outlinewidth": 0,
             "ticks": ""
            },
            "colorscale": [
             [
              0,
              "#0d0887"
             ],
             [
              0.1111111111111111,
              "#46039f"
             ],
             [
              0.2222222222222222,
              "#7201a8"
             ],
             [
              0.3333333333333333,
              "#9c179e"
             ],
             [
              0.4444444444444444,
              "#bd3786"
             ],
             [
              0.5555555555555556,
              "#d8576b"
             ],
             [
              0.6666666666666666,
              "#ed7953"
             ],
             [
              0.7777777777777778,
              "#fb9f3a"
             ],
             [
              0.8888888888888888,
              "#fdca26"
             ],
             [
              1,
              "#f0f921"
             ]
            ],
            "type": "histogram2dcontour"
           }
          ],
          "mesh3d": [
           {
            "colorbar": {
             "outlinewidth": 0,
             "ticks": ""
            },
            "type": "mesh3d"
           }
          ],
          "parcoords": [
           {
            "line": {
             "colorbar": {
              "outlinewidth": 0,
              "ticks": ""
             }
            },
            "type": "parcoords"
           }
          ],
          "pie": [
           {
            "automargin": true,
            "type": "pie"
           }
          ],
          "scatter": [
           {
            "fillpattern": {
             "fillmode": "overlay",
             "size": 10,
             "solidity": 0.2
            },
            "type": "scatter"
           }
          ],
          "scatter3d": [
           {
            "line": {
             "colorbar": {
              "outlinewidth": 0,
              "ticks": ""
             }
            },
            "marker": {
             "colorbar": {
              "outlinewidth": 0,
              "ticks": ""
             }
            },
            "type": "scatter3d"
           }
          ],
          "scattercarpet": [
           {
            "marker": {
             "colorbar": {
              "outlinewidth": 0,
              "ticks": ""
             }
            },
            "type": "scattercarpet"
           }
          ],
          "scattergeo": [
           {
            "marker": {
             "colorbar": {
              "outlinewidth": 0,
              "ticks": ""
             }
            },
            "type": "scattergeo"
           }
          ],
          "scattergl": [
           {
            "marker": {
             "colorbar": {
              "outlinewidth": 0,
              "ticks": ""
             }
            },
            "type": "scattergl"
           }
          ],
          "scattermapbox": [
           {
            "marker": {
             "colorbar": {
              "outlinewidth": 0,
              "ticks": ""
             }
            },
            "type": "scattermapbox"
           }
          ],
          "scatterpolar": [
           {
            "marker": {
             "colorbar": {
              "outlinewidth": 0,
              "ticks": ""
             }
            },
            "type": "scatterpolar"
           }
          ],
          "scatterpolargl": [
           {
            "marker": {
             "colorbar": {
              "outlinewidth": 0,
              "ticks": ""
             }
            },
            "type": "scatterpolargl"
           }
          ],
          "scatterternary": [
           {
            "marker": {
             "colorbar": {
              "outlinewidth": 0,
              "ticks": ""
             }
            },
            "type": "scatterternary"
           }
          ],
          "surface": [
           {
            "colorbar": {
             "outlinewidth": 0,
             "ticks": ""
            },
            "colorscale": [
             [
              0,
              "#0d0887"
             ],
             [
              0.1111111111111111,
              "#46039f"
             ],
             [
              0.2222222222222222,
              "#7201a8"
             ],
             [
              0.3333333333333333,
              "#9c179e"
             ],
             [
              0.4444444444444444,
              "#bd3786"
             ],
             [
              0.5555555555555556,
              "#d8576b"
             ],
             [
              0.6666666666666666,
              "#ed7953"
             ],
             [
              0.7777777777777778,
              "#fb9f3a"
             ],
             [
              0.8888888888888888,
              "#fdca26"
             ],
             [
              1,
              "#f0f921"
             ]
            ],
            "type": "surface"
           }
          ],
          "table": [
           {
            "cells": {
             "fill": {
              "color": "#EBF0F8"
             },
             "line": {
              "color": "white"
             }
            },
            "header": {
             "fill": {
              "color": "#C8D4E3"
             },
             "line": {
              "color": "white"
             }
            },
            "type": "table"
           }
          ]
         },
         "layout": {
          "annotationdefaults": {
           "arrowcolor": "#2a3f5f",
           "arrowhead": 0,
           "arrowwidth": 1
          },
          "autotypenumbers": "strict",
          "coloraxis": {
           "colorbar": {
            "outlinewidth": 0,
            "ticks": ""
           }
          },
          "colorscale": {
           "diverging": [
            [
             0,
             "#8e0152"
            ],
            [
             0.1,
             "#c51b7d"
            ],
            [
             0.2,
             "#de77ae"
            ],
            [
             0.3,
             "#f1b6da"
            ],
            [
             0.4,
             "#fde0ef"
            ],
            [
             0.5,
             "#f7f7f7"
            ],
            [
             0.6,
             "#e6f5d0"
            ],
            [
             0.7,
             "#b8e186"
            ],
            [
             0.8,
             "#7fbc41"
            ],
            [
             0.9,
             "#4d9221"
            ],
            [
             1,
             "#276419"
            ]
           ],
           "sequential": [
            [
             0,
             "#0d0887"
            ],
            [
             0.1111111111111111,
             "#46039f"
            ],
            [
             0.2222222222222222,
             "#7201a8"
            ],
            [
             0.3333333333333333,
             "#9c179e"
            ],
            [
             0.4444444444444444,
             "#bd3786"
            ],
            [
             0.5555555555555556,
             "#d8576b"
            ],
            [
             0.6666666666666666,
             "#ed7953"
            ],
            [
             0.7777777777777778,
             "#fb9f3a"
            ],
            [
             0.8888888888888888,
             "#fdca26"
            ],
            [
             1,
             "#f0f921"
            ]
           ],
           "sequentialminus": [
            [
             0,
             "#0d0887"
            ],
            [
             0.1111111111111111,
             "#46039f"
            ],
            [
             0.2222222222222222,
             "#7201a8"
            ],
            [
             0.3333333333333333,
             "#9c179e"
            ],
            [
             0.4444444444444444,
             "#bd3786"
            ],
            [
             0.5555555555555556,
             "#d8576b"
            ],
            [
             0.6666666666666666,
             "#ed7953"
            ],
            [
             0.7777777777777778,
             "#fb9f3a"
            ],
            [
             0.8888888888888888,
             "#fdca26"
            ],
            [
             1,
             "#f0f921"
            ]
           ]
          },
          "colorway": [
           "#636efa",
           "#EF553B",
           "#00cc96",
           "#ab63fa",
           "#FFA15A",
           "#19d3f3",
           "#FF6692",
           "#B6E880",
           "#FF97FF",
           "#FECB52"
          ],
          "font": {
           "color": "#2a3f5f"
          },
          "geo": {
           "bgcolor": "white",
           "lakecolor": "white",
           "landcolor": "white",
           "showlakes": true,
           "showland": true,
           "subunitcolor": "#C8D4E3"
          },
          "hoverlabel": {
           "align": "left"
          },
          "hovermode": "closest",
          "mapbox": {
           "style": "light"
          },
          "paper_bgcolor": "white",
          "plot_bgcolor": "white",
          "polar": {
           "angularaxis": {
            "gridcolor": "#EBF0F8",
            "linecolor": "#EBF0F8",
            "ticks": ""
           },
           "bgcolor": "white",
           "radialaxis": {
            "gridcolor": "#EBF0F8",
            "linecolor": "#EBF0F8",
            "ticks": ""
           }
          },
          "scene": {
           "xaxis": {
            "backgroundcolor": "white",
            "gridcolor": "#DFE8F3",
            "gridwidth": 2,
            "linecolor": "#EBF0F8",
            "showbackground": true,
            "ticks": "",
            "zerolinecolor": "#EBF0F8"
           },
           "yaxis": {
            "backgroundcolor": "white",
            "gridcolor": "#DFE8F3",
            "gridwidth": 2,
            "linecolor": "#EBF0F8",
            "showbackground": true,
            "ticks": "",
            "zerolinecolor": "#EBF0F8"
           },
           "zaxis": {
            "backgroundcolor": "white",
            "gridcolor": "#DFE8F3",
            "gridwidth": 2,
            "linecolor": "#EBF0F8",
            "showbackground": true,
            "ticks": "",
            "zerolinecolor": "#EBF0F8"
           }
          },
          "shapedefaults": {
           "line": {
            "color": "#2a3f5f"
           }
          },
          "ternary": {
           "aaxis": {
            "gridcolor": "#DFE8F3",
            "linecolor": "#A2B1C6",
            "ticks": ""
           },
           "baxis": {
            "gridcolor": "#DFE8F3",
            "linecolor": "#A2B1C6",
            "ticks": ""
           },
           "bgcolor": "white",
           "caxis": {
            "gridcolor": "#DFE8F3",
            "linecolor": "#A2B1C6",
            "ticks": ""
           }
          },
          "title": {
           "x": 0.05
          },
          "xaxis": {
           "automargin": true,
           "gridcolor": "#EBF0F8",
           "linecolor": "#EBF0F8",
           "ticks": "",
           "title": {
            "standoff": 15
           },
           "zerolinecolor": "#EBF0F8",
           "zerolinewidth": 2
          },
          "yaxis": {
           "automargin": true,
           "gridcolor": "#EBF0F8",
           "linecolor": "#EBF0F8",
           "ticks": "",
           "title": {
            "standoff": 15
           },
           "zerolinecolor": "#EBF0F8",
           "zerolinewidth": 2
          }
         }
        },
        "title": {
         "text": "Hashtags Word Cloud"
        },
        "xaxis": {
         "anchor": "y",
         "domain": [
          0,
          1
         ]
        },
        "yaxis": {
         "anchor": "x",
         "domain": [
          0,
          1
         ]
        }
       }
      }
     },
     "metadata": {},
     "output_type": "display_data"
    }
   ],
   "source": [
    "from wordcloud import WordCloud\n",
    "\n",
    "hashtags = ' '.join(data['Hashtags'].astype(str))\n",
    "wordcloud = WordCloud().generate(hashtags)\n",
    "\n",
    "fig = px.imshow(wordcloud, title='Hashtags Word Cloud')\n",
    "fig.show()"
   ]
  },
  {
   "attachments": {},
   "cell_type": "markdown",
   "metadata": {},
   "source": [
    "Now let's have a look at the correlation between all the features:"
   ]
  },
  {
   "cell_type": "code",
   "execution_count": 18,
   "metadata": {},
   "outputs": [
    {
     "data": {
      "application/vnd.plotly.v1+json": {
       "config": {
        "plotlyServerURL": "https://plot.ly"
       },
       "data": [
        {
         "colorscale": [
          [
           0,
           "rgb(103,0,31)"
          ],
          [
           0.1,
           "rgb(178,24,43)"
          ],
          [
           0.2,
           "rgb(214,96,77)"
          ],
          [
           0.3,
           "rgb(244,165,130)"
          ],
          [
           0.4,
           "rgb(253,219,199)"
          ],
          [
           0.5,
           "rgb(247,247,247)"
          ],
          [
           0.6,
           "rgb(209,229,240)"
          ],
          [
           0.7,
           "rgb(146,197,222)"
          ],
          [
           0.8,
           "rgb(67,147,195)"
          ],
          [
           0.9,
           "rgb(33,102,172)"
          ],
          [
           1,
           "rgb(5,48,97)"
          ]
         ],
         "type": "heatmap",
         "x": [
          "Impressions",
          "From Home",
          "From Hashtags",
          "From Explore",
          "From Other",
          "Saves",
          "Comments",
          "Shares",
          "Likes",
          "Profile Visits",
          "Follows"
         ],
         "y": [
          "Impressions",
          "From Home",
          "From Hashtags",
          "From Explore",
          "From Other",
          "Saves",
          "Comments",
          "Shares",
          "Likes",
          "Profile Visits",
          "Follows"
         ],
         "z": [
          [
           1,
           0.8446984764644079,
           0.5607600444158378,
           0.8936074202433567,
           0.5929604758091378,
           0.7792314114268593,
           -0.028523933548663824,
           0.6346751252181763,
           0.8498353377178177,
           0.7609809286546657,
           0.8893634430344086
          ],
          [
           0.8446984764644079,
           1,
           0.1775156543309878,
           0.800573110578866,
           0.5556659551465412,
           0.768817005684724,
           0.012716248342545502,
           0.6749850448685393,
           0.698329637893805,
           0.531076205366268,
           0.6726750588858736
          ],
          [
           0.5607600444158378,
           0.1775156543309878,
           1,
           0.1904532189703739,
           0.2296233181732429,
           0.30592870314657494,
           0.1614388259073108,
           0.21951145515685286,
           0.6621242000877943,
           0.6913449048454711,
           0.5554854735531087
          ],
          [
           0.8936074202433567,
           0.800573110578866,
           0.1904532189703739,
           1,
           0.49568473618614567,
           0.7478028035868068,
           -0.15856537914498336,
           0.6157309658741993,
           0.653699336224973,
           0.5318502558055156,
           0.7960189422044351
          ],
          [
           0.5929604758091378,
           0.5556659551465412,
           0.2296233181732429,
           0.49568473618614567,
           1,
           0.3319068864386735,
           -0.1087029734222875,
           0.15683375635736396,
           0.3935104122090607,
           0.6330799446255249,
           0.5467370225356449
          ],
          [
           0.7792314114268593,
           0.768817005684724,
           0.30592870314657494,
           0.7478028035868068,
           0.3319068864386735,
           1,
           -0.026912263707560984,
           0.860324185158795,
           0.8456432932068351,
           0.36062821319868793,
           0.6284608823148304
          ],
          [
           -0.028523933548663824,
           0.012716248342545502,
           0.1614388259073108,
           -0.15856537914498336,
           -0.1087029734222875,
           -0.026912263707560984,
           1,
           0.016932532855360494,
           0.1235861027264814,
           0.09671424134518669,
           -0.060630774375331827
          ],
          [
           0.6346751252181763,
           0.6749850448685393,
           0.21951145515685286,
           0.6157309658741993,
           0.15683375635736396,
           0.860324185158795,
           0.016932532855360494,
           1,
           0.707794002688105,
           0.24536082330737743,
           0.4930698051158401
          ],
          [
           0.8498353377178177,
           0.698329637893805,
           0.6621242000877943,
           0.653699336224973,
           0.3935104122090607,
           0.8456432932068351,
           0.1235861027264814,
           0.707794002688105,
           1,
           0.6261070345218044,
           0.746333165592919
          ],
          [
           0.7609809286546657,
           0.531076205366268,
           0.6913449048454711,
           0.5318502558055156,
           0.6330799446255249,
           0.36062821319868793,
           0.09671424134518669,
           0.24536082330737743,
           0.6261070345218044,
           1,
           0.8531517459145104
          ],
          [
           0.8893634430344086,
           0.6726750588858736,
           0.5554854735531087,
           0.7960189422044351,
           0.5467370225356449,
           0.6284608823148304,
           -0.060630774375331827,
           0.4930698051158401,
           0.746333165592919,
           0.8531517459145104,
           1
          ]
         ],
         "zmax": 1,
         "zmin": -1
        }
       ],
       "layout": {
        "template": {
         "data": {
          "bar": [
           {
            "error_x": {
             "color": "#2a3f5f"
            },
            "error_y": {
             "color": "#2a3f5f"
            },
            "marker": {
             "line": {
              "color": "white",
              "width": 0.5
             },
             "pattern": {
              "fillmode": "overlay",
              "size": 10,
              "solidity": 0.2
             }
            },
            "type": "bar"
           }
          ],
          "barpolar": [
           {
            "marker": {
             "line": {
              "color": "white",
              "width": 0.5
             },
             "pattern": {
              "fillmode": "overlay",
              "size": 10,
              "solidity": 0.2
             }
            },
            "type": "barpolar"
           }
          ],
          "carpet": [
           {
            "aaxis": {
             "endlinecolor": "#2a3f5f",
             "gridcolor": "#C8D4E3",
             "linecolor": "#C8D4E3",
             "minorgridcolor": "#C8D4E3",
             "startlinecolor": "#2a3f5f"
            },
            "baxis": {
             "endlinecolor": "#2a3f5f",
             "gridcolor": "#C8D4E3",
             "linecolor": "#C8D4E3",
             "minorgridcolor": "#C8D4E3",
             "startlinecolor": "#2a3f5f"
            },
            "type": "carpet"
           }
          ],
          "choropleth": [
           {
            "colorbar": {
             "outlinewidth": 0,
             "ticks": ""
            },
            "type": "choropleth"
           }
          ],
          "contour": [
           {
            "colorbar": {
             "outlinewidth": 0,
             "ticks": ""
            },
            "colorscale": [
             [
              0,
              "#0d0887"
             ],
             [
              0.1111111111111111,
              "#46039f"
             ],
             [
              0.2222222222222222,
              "#7201a8"
             ],
             [
              0.3333333333333333,
              "#9c179e"
             ],
             [
              0.4444444444444444,
              "#bd3786"
             ],
             [
              0.5555555555555556,
              "#d8576b"
             ],
             [
              0.6666666666666666,
              "#ed7953"
             ],
             [
              0.7777777777777778,
              "#fb9f3a"
             ],
             [
              0.8888888888888888,
              "#fdca26"
             ],
             [
              1,
              "#f0f921"
             ]
            ],
            "type": "contour"
           }
          ],
          "contourcarpet": [
           {
            "colorbar": {
             "outlinewidth": 0,
             "ticks": ""
            },
            "type": "contourcarpet"
           }
          ],
          "heatmap": [
           {
            "colorbar": {
             "outlinewidth": 0,
             "ticks": ""
            },
            "colorscale": [
             [
              0,
              "#0d0887"
             ],
             [
              0.1111111111111111,
              "#46039f"
             ],
             [
              0.2222222222222222,
              "#7201a8"
             ],
             [
              0.3333333333333333,
              "#9c179e"
             ],
             [
              0.4444444444444444,
              "#bd3786"
             ],
             [
              0.5555555555555556,
              "#d8576b"
             ],
             [
              0.6666666666666666,
              "#ed7953"
             ],
             [
              0.7777777777777778,
              "#fb9f3a"
             ],
             [
              0.8888888888888888,
              "#fdca26"
             ],
             [
              1,
              "#f0f921"
             ]
            ],
            "type": "heatmap"
           }
          ],
          "heatmapgl": [
           {
            "colorbar": {
             "outlinewidth": 0,
             "ticks": ""
            },
            "colorscale": [
             [
              0,
              "#0d0887"
             ],
             [
              0.1111111111111111,
              "#46039f"
             ],
             [
              0.2222222222222222,
              "#7201a8"
             ],
             [
              0.3333333333333333,
              "#9c179e"
             ],
             [
              0.4444444444444444,
              "#bd3786"
             ],
             [
              0.5555555555555556,
              "#d8576b"
             ],
             [
              0.6666666666666666,
              "#ed7953"
             ],
             [
              0.7777777777777778,
              "#fb9f3a"
             ],
             [
              0.8888888888888888,
              "#fdca26"
             ],
             [
              1,
              "#f0f921"
             ]
            ],
            "type": "heatmapgl"
           }
          ],
          "histogram": [
           {
            "marker": {
             "pattern": {
              "fillmode": "overlay",
              "size": 10,
              "solidity": 0.2
             }
            },
            "type": "histogram"
           }
          ],
          "histogram2d": [
           {
            "colorbar": {
             "outlinewidth": 0,
             "ticks": ""
            },
            "colorscale": [
             [
              0,
              "#0d0887"
             ],
             [
              0.1111111111111111,
              "#46039f"
             ],
             [
              0.2222222222222222,
              "#7201a8"
             ],
             [
              0.3333333333333333,
              "#9c179e"
             ],
             [
              0.4444444444444444,
              "#bd3786"
             ],
             [
              0.5555555555555556,
              "#d8576b"
             ],
             [
              0.6666666666666666,
              "#ed7953"
             ],
             [
              0.7777777777777778,
              "#fb9f3a"
             ],
             [
              0.8888888888888888,
              "#fdca26"
             ],
             [
              1,
              "#f0f921"
             ]
            ],
            "type": "histogram2d"
           }
          ],
          "histogram2dcontour": [
           {
            "colorbar": {
             "outlinewidth": 0,
             "ticks": ""
            },
            "colorscale": [
             [
              0,
              "#0d0887"
             ],
             [
              0.1111111111111111,
              "#46039f"
             ],
             [
              0.2222222222222222,
              "#7201a8"
             ],
             [
              0.3333333333333333,
              "#9c179e"
             ],
             [
              0.4444444444444444,
              "#bd3786"
             ],
             [
              0.5555555555555556,
              "#d8576b"
             ],
             [
              0.6666666666666666,
              "#ed7953"
             ],
             [
              0.7777777777777778,
              "#fb9f3a"
             ],
             [
              0.8888888888888888,
              "#fdca26"
             ],
             [
              1,
              "#f0f921"
             ]
            ],
            "type": "histogram2dcontour"
           }
          ],
          "mesh3d": [
           {
            "colorbar": {
             "outlinewidth": 0,
             "ticks": ""
            },
            "type": "mesh3d"
           }
          ],
          "parcoords": [
           {
            "line": {
             "colorbar": {
              "outlinewidth": 0,
              "ticks": ""
             }
            },
            "type": "parcoords"
           }
          ],
          "pie": [
           {
            "automargin": true,
            "type": "pie"
           }
          ],
          "scatter": [
           {
            "fillpattern": {
             "fillmode": "overlay",
             "size": 10,
             "solidity": 0.2
            },
            "type": "scatter"
           }
          ],
          "scatter3d": [
           {
            "line": {
             "colorbar": {
              "outlinewidth": 0,
              "ticks": ""
             }
            },
            "marker": {
             "colorbar": {
              "outlinewidth": 0,
              "ticks": ""
             }
            },
            "type": "scatter3d"
           }
          ],
          "scattercarpet": [
           {
            "marker": {
             "colorbar": {
              "outlinewidth": 0,
              "ticks": ""
             }
            },
            "type": "scattercarpet"
           }
          ],
          "scattergeo": [
           {
            "marker": {
             "colorbar": {
              "outlinewidth": 0,
              "ticks": ""
             }
            },
            "type": "scattergeo"
           }
          ],
          "scattergl": [
           {
            "marker": {
             "colorbar": {
              "outlinewidth": 0,
              "ticks": ""
             }
            },
            "type": "scattergl"
           }
          ],
          "scattermapbox": [
           {
            "marker": {
             "colorbar": {
              "outlinewidth": 0,
              "ticks": ""
             }
            },
            "type": "scattermapbox"
           }
          ],
          "scatterpolar": [
           {
            "marker": {
             "colorbar": {
              "outlinewidth": 0,
              "ticks": ""
             }
            },
            "type": "scatterpolar"
           }
          ],
          "scatterpolargl": [
           {
            "marker": {
             "colorbar": {
              "outlinewidth": 0,
              "ticks": ""
             }
            },
            "type": "scatterpolargl"
           }
          ],
          "scatterternary": [
           {
            "marker": {
             "colorbar": {
              "outlinewidth": 0,
              "ticks": ""
             }
            },
            "type": "scatterternary"
           }
          ],
          "surface": [
           {
            "colorbar": {
             "outlinewidth": 0,
             "ticks": ""
            },
            "colorscale": [
             [
              0,
              "#0d0887"
             ],
             [
              0.1111111111111111,
              "#46039f"
             ],
             [
              0.2222222222222222,
              "#7201a8"
             ],
             [
              0.3333333333333333,
              "#9c179e"
             ],
             [
              0.4444444444444444,
              "#bd3786"
             ],
             [
              0.5555555555555556,
              "#d8576b"
             ],
             [
              0.6666666666666666,
              "#ed7953"
             ],
             [
              0.7777777777777778,
              "#fb9f3a"
             ],
             [
              0.8888888888888888,
              "#fdca26"
             ],
             [
              1,
              "#f0f921"
             ]
            ],
            "type": "surface"
           }
          ],
          "table": [
           {
            "cells": {
             "fill": {
              "color": "#EBF0F8"
             },
             "line": {
              "color": "white"
             }
            },
            "header": {
             "fill": {
              "color": "#C8D4E3"
             },
             "line": {
              "color": "white"
             }
            },
            "type": "table"
           }
          ]
         },
         "layout": {
          "annotationdefaults": {
           "arrowcolor": "#2a3f5f",
           "arrowhead": 0,
           "arrowwidth": 1
          },
          "autotypenumbers": "strict",
          "coloraxis": {
           "colorbar": {
            "outlinewidth": 0,
            "ticks": ""
           }
          },
          "colorscale": {
           "diverging": [
            [
             0,
             "#8e0152"
            ],
            [
             0.1,
             "#c51b7d"
            ],
            [
             0.2,
             "#de77ae"
            ],
            [
             0.3,
             "#f1b6da"
            ],
            [
             0.4,
             "#fde0ef"
            ],
            [
             0.5,
             "#f7f7f7"
            ],
            [
             0.6,
             "#e6f5d0"
            ],
            [
             0.7,
             "#b8e186"
            ],
            [
             0.8,
             "#7fbc41"
            ],
            [
             0.9,
             "#4d9221"
            ],
            [
             1,
             "#276419"
            ]
           ],
           "sequential": [
            [
             0,
             "#0d0887"
            ],
            [
             0.1111111111111111,
             "#46039f"
            ],
            [
             0.2222222222222222,
             "#7201a8"
            ],
            [
             0.3333333333333333,
             "#9c179e"
            ],
            [
             0.4444444444444444,
             "#bd3786"
            ],
            [
             0.5555555555555556,
             "#d8576b"
            ],
            [
             0.6666666666666666,
             "#ed7953"
            ],
            [
             0.7777777777777778,
             "#fb9f3a"
            ],
            [
             0.8888888888888888,
             "#fdca26"
            ],
            [
             1,
             "#f0f921"
            ]
           ],
           "sequentialminus": [
            [
             0,
             "#0d0887"
            ],
            [
             0.1111111111111111,
             "#46039f"
            ],
            [
             0.2222222222222222,
             "#7201a8"
            ],
            [
             0.3333333333333333,
             "#9c179e"
            ],
            [
             0.4444444444444444,
             "#bd3786"
            ],
            [
             0.5555555555555556,
             "#d8576b"
            ],
            [
             0.6666666666666666,
             "#ed7953"
            ],
            [
             0.7777777777777778,
             "#fb9f3a"
            ],
            [
             0.8888888888888888,
             "#fdca26"
            ],
            [
             1,
             "#f0f921"
            ]
           ]
          },
          "colorway": [
           "#636efa",
           "#EF553B",
           "#00cc96",
           "#ab63fa",
           "#FFA15A",
           "#19d3f3",
           "#FF6692",
           "#B6E880",
           "#FF97FF",
           "#FECB52"
          ],
          "font": {
           "color": "#2a3f5f"
          },
          "geo": {
           "bgcolor": "white",
           "lakecolor": "white",
           "landcolor": "white",
           "showlakes": true,
           "showland": true,
           "subunitcolor": "#C8D4E3"
          },
          "hoverlabel": {
           "align": "left"
          },
          "hovermode": "closest",
          "mapbox": {
           "style": "light"
          },
          "paper_bgcolor": "white",
          "plot_bgcolor": "white",
          "polar": {
           "angularaxis": {
            "gridcolor": "#EBF0F8",
            "linecolor": "#EBF0F8",
            "ticks": ""
           },
           "bgcolor": "white",
           "radialaxis": {
            "gridcolor": "#EBF0F8",
            "linecolor": "#EBF0F8",
            "ticks": ""
           }
          },
          "scene": {
           "xaxis": {
            "backgroundcolor": "white",
            "gridcolor": "#DFE8F3",
            "gridwidth": 2,
            "linecolor": "#EBF0F8",
            "showbackground": true,
            "ticks": "",
            "zerolinecolor": "#EBF0F8"
           },
           "yaxis": {
            "backgroundcolor": "white",
            "gridcolor": "#DFE8F3",
            "gridwidth": 2,
            "linecolor": "#EBF0F8",
            "showbackground": true,
            "ticks": "",
            "zerolinecolor": "#EBF0F8"
           },
           "zaxis": {
            "backgroundcolor": "white",
            "gridcolor": "#DFE8F3",
            "gridwidth": 2,
            "linecolor": "#EBF0F8",
            "showbackground": true,
            "ticks": "",
            "zerolinecolor": "#EBF0F8"
           }
          },
          "shapedefaults": {
           "line": {
            "color": "#2a3f5f"
           }
          },
          "ternary": {
           "aaxis": {
            "gridcolor": "#DFE8F3",
            "linecolor": "#A2B1C6",
            "ticks": ""
           },
           "baxis": {
            "gridcolor": "#DFE8F3",
            "linecolor": "#A2B1C6",
            "ticks": ""
           },
           "bgcolor": "white",
           "caxis": {
            "gridcolor": "#DFE8F3",
            "linecolor": "#A2B1C6",
            "ticks": ""
           }
          },
          "title": {
           "x": 0.05
          },
          "xaxis": {
           "automargin": true,
           "gridcolor": "#EBF0F8",
           "linecolor": "#EBF0F8",
           "ticks": "",
           "title": {
            "standoff": 15
           },
           "zerolinecolor": "#EBF0F8",
           "zerolinewidth": 2
          },
          "yaxis": {
           "automargin": true,
           "gridcolor": "#EBF0F8",
           "linecolor": "#EBF0F8",
           "ticks": "",
           "title": {
            "standoff": 15
           },
           "zerolinecolor": "#EBF0F8",
           "zerolinewidth": 2
          }
         }
        },
        "title": {
         "text": "Correlation Matrix"
        },
        "xaxis": {
         "title": {
          "text": "Features"
         }
        },
        "yaxis": {
         "title": {
          "text": "Features"
         }
        }
       }
      }
     },
     "metadata": {},
     "output_type": "display_data"
    }
   ],
   "source": [
    "corr_matrix = data.corr()\n",
    "\n",
    "fig = go.Figure(data=go.Heatmap(z=corr_matrix.values,\n",
    "                                x=corr_matrix.columns,\n",
    "                                y=corr_matrix.index,\n",
    "                                colorscale='RdBu',\n",
    "                                zmin=-1,\n",
    "                                zmax=1))\n",
    "\n",
    "fig.update_layout(title='Correlation Matrix',\n",
    "                  xaxis_title='Features',\n",
    "                  yaxis_title='Features')\n",
    "\n",
    "fig.show()"
   ]
  },
  {
   "attachments": {},
   "cell_type": "markdown",
   "metadata": {},
   "source": [
    "Now let's explore the hashtags column in detail. Each post contains different combinations of hashtags, which impacts reach on Instagram. So let's have a look at the distribution of hashtags to see which hashtags is used the most in all the posts:"
   ]
  },
  {
   "cell_type": "code",
   "execution_count": 19,
   "metadata": {},
   "outputs": [
    {
     "data": {
      "application/vnd.plotly.v1+json": {
       "config": {
        "plotlyServerURL": "https://plot.ly"
       },
       "data": [
        {
         "alignmentgroup": "True",
         "hovertemplate": "Hashtag=%{x}<br>Count=%{y}<extra></extra>",
         "legendgroup": "",
         "marker": {
          "color": "#636efa",
          "pattern": {
           "shape": ""
          }
         },
         "name": "",
         "offsetgroup": "",
         "orientation": "v",
         "showlegend": false,
         "textposition": "auto",
         "type": "bar",
         "x": [
          "#thecleverprogrammer",
          "#amankharwal",
          "#python",
          "#machinelearning",
          "#pythonprogramming",
          "#datascience",
          "#ai",
          "#pythonprojects",
          "#artificialintelligence",
          "#data",
          "#dataanalytics",
          "#datascientist",
          "#pythoncode",
          "#dataanalysis",
          "#deeplearning",
          "#datascienceprojects",
          "#machinelearningprojects",
          "#programming",
          "#technology",
          "#coding",
          "#tech",
          "#computerscience",
          "#bigdata",
          "#pythonlearning",
          "#pythoncoding",
          "#pythondeveloper",
          "#datavisualization",
          "#pythonprogrammer",
          "#analytics",
          "#business",
          "#statistics",
          "#machinelearningalgorithms",
          "#dataanalyst",
          "#webdevelopment",
          "#algorithm",
          "#software",
          "#naturallanguageprocessing",
          "#algorithms",
          "#nlp",
          "#neuralnetwork",
          "#ml",
          "#database",
          "#javascript",
          "#code",
          "#coder",
          "#programmer",
          "#java",
          "#softwaredeveloper",
          "#codinglife",
          "#sentimentanalysis",
          "#sentiment",
          "#webdeveloper",
          "#css",
          "#html",
          "#machinelearningmodels",
          "#developer",
          "#timeseriesanalysis",
          "#iot",
          "#analysis",
          "#timeseriesmalaysia",
          "#businessintelligence",
          "#datasciencejobs",
          "#datasciencetraining",
          "#datascienceeducation",
          "#datasciencecourse",
          "#datamining",
          "#time",
          "#timeseries",
          "#php",
          "#programminglife",
          "#hacking",
          "#programmingmemes",
          "#programmers",
          "#neuralnetworks",
          "#webdesign",
          "#dataviz",
          "#linux",
          "#casestudy",
          "#businessmodel",
          "#zomato",
          "#money",
          "#interview",
          "#finance",
          "#powerbi",
          "#tensorflow",
          "#job",
          "#artificialintelligenceai",
          "#investing",
          "#trading",
          "#stockmarket",
          "#healthcare",
          "#health",
          "#covid",
          "#investment",
          "#cryptocurrency",
          "#bitcoin",
          "#dataanalysisprojects",
          "#businessanalytics",
          "#python3",
          "#roadmap",
          "#codinginterview",
          "#pythonprogramminglanguage",
          "#otp",
          "#innovation",
          "#recommendationsystem",
          "#recommendations",
          "#recommended",
          "#otpverification",
          "#projects",
          "#casestudies",
          "#amazonfinds",
          "#security",
          "#cybersecurity",
          "#network",
          "#internet",
          "#cloud",
          "#recommendation",
          "#careergoals",
          "#jobsearch",
          "#work",
          "#tableau",
          "#stocks",
          "#forex",
          "#candlestick",
          "#candlestickcharts",
          "#career",
          "#jobs",
          "#stressdetection",
          "#education",
          "#success",
          "#motivation",
          "#clustering",
          "#careerdevelopment",
          "#careeradvice",
          "#digitalmarketing",
          "#media",
          "#socialmedia",
          "#IT",
          "#marketing",
          "#students",
          "#resume",
          "#goals",
          "#careers",
          "#stress",
          "#sql",
          "#pythonbooks",
          "#mysql",
          "#softskills",
          "#instagramreach",
          "#instagram",
          "#ukraine",
          "#pythonprogram",
          "#whatsapp",
          "@codergallery",
          "#google",
          "#news",
          "#flipkart",
          "#bookstagram",
          "#alexnet",
          "#bigdataanalytics",
          "#qrcodes",
          "#datascienceinterview",
          "#facebook",
          "#boxplots"
         ],
         "xaxis": "x",
         "y": [
          117,
          117,
          109,
          97,
          95,
          94,
          91,
          90,
          89,
          88,
          87,
          83,
          78,
          77,
          75,
          43,
          43,
          26,
          25,
          24,
          23,
          21,
          20,
          19,
          19,
          19,
          19,
          19,
          16,
          16,
          14,
          13,
          12,
          10,
          9,
          9,
          9,
          9,
          9,
          8,
          8,
          7,
          7,
          7,
          7,
          7,
          7,
          7,
          7,
          7,
          7,
          7,
          7,
          7,
          7,
          7,
          6,
          6,
          6,
          6,
          6,
          6,
          6,
          6,
          6,
          6,
          6,
          6,
          5,
          5,
          5,
          5,
          5,
          5,
          5,
          5,
          5,
          4,
          4,
          4,
          4,
          4,
          4,
          4,
          4,
          4,
          4,
          4,
          3,
          3,
          3,
          3,
          3,
          3,
          3,
          3,
          3,
          3,
          2,
          2,
          2,
          2,
          2,
          2,
          2,
          2,
          2,
          2,
          2,
          2,
          2,
          2,
          2,
          2,
          2,
          2,
          2,
          2,
          2,
          2,
          2,
          2,
          2,
          2,
          2,
          2,
          2,
          2,
          2,
          2,
          2,
          2,
          2,
          2,
          2,
          2,
          2,
          2,
          2,
          2,
          2,
          2,
          2,
          2,
          1,
          1,
          1,
          1,
          1,
          1,
          1,
          1,
          1,
          1,
          1,
          1,
          1,
          1,
          1,
          1,
          1,
          1,
          1,
          1
         ],
         "yaxis": "y"
        }
       ],
       "layout": {
        "barmode": "relative",
        "legend": {
         "tracegroupgap": 0
        },
        "template": {
         "data": {
          "bar": [
           {
            "error_x": {
             "color": "#2a3f5f"
            },
            "error_y": {
             "color": "#2a3f5f"
            },
            "marker": {
             "line": {
              "color": "white",
              "width": 0.5
             },
             "pattern": {
              "fillmode": "overlay",
              "size": 10,
              "solidity": 0.2
             }
            },
            "type": "bar"
           }
          ],
          "barpolar": [
           {
            "marker": {
             "line": {
              "color": "white",
              "width": 0.5
             },
             "pattern": {
              "fillmode": "overlay",
              "size": 10,
              "solidity": 0.2
             }
            },
            "type": "barpolar"
           }
          ],
          "carpet": [
           {
            "aaxis": {
             "endlinecolor": "#2a3f5f",
             "gridcolor": "#C8D4E3",
             "linecolor": "#C8D4E3",
             "minorgridcolor": "#C8D4E3",
             "startlinecolor": "#2a3f5f"
            },
            "baxis": {
             "endlinecolor": "#2a3f5f",
             "gridcolor": "#C8D4E3",
             "linecolor": "#C8D4E3",
             "minorgridcolor": "#C8D4E3",
             "startlinecolor": "#2a3f5f"
            },
            "type": "carpet"
           }
          ],
          "choropleth": [
           {
            "colorbar": {
             "outlinewidth": 0,
             "ticks": ""
            },
            "type": "choropleth"
           }
          ],
          "contour": [
           {
            "colorbar": {
             "outlinewidth": 0,
             "ticks": ""
            },
            "colorscale": [
             [
              0,
              "#0d0887"
             ],
             [
              0.1111111111111111,
              "#46039f"
             ],
             [
              0.2222222222222222,
              "#7201a8"
             ],
             [
              0.3333333333333333,
              "#9c179e"
             ],
             [
              0.4444444444444444,
              "#bd3786"
             ],
             [
              0.5555555555555556,
              "#d8576b"
             ],
             [
              0.6666666666666666,
              "#ed7953"
             ],
             [
              0.7777777777777778,
              "#fb9f3a"
             ],
             [
              0.8888888888888888,
              "#fdca26"
             ],
             [
              1,
              "#f0f921"
             ]
            ],
            "type": "contour"
           }
          ],
          "contourcarpet": [
           {
            "colorbar": {
             "outlinewidth": 0,
             "ticks": ""
            },
            "type": "contourcarpet"
           }
          ],
          "heatmap": [
           {
            "colorbar": {
             "outlinewidth": 0,
             "ticks": ""
            },
            "colorscale": [
             [
              0,
              "#0d0887"
             ],
             [
              0.1111111111111111,
              "#46039f"
             ],
             [
              0.2222222222222222,
              "#7201a8"
             ],
             [
              0.3333333333333333,
              "#9c179e"
             ],
             [
              0.4444444444444444,
              "#bd3786"
             ],
             [
              0.5555555555555556,
              "#d8576b"
             ],
             [
              0.6666666666666666,
              "#ed7953"
             ],
             [
              0.7777777777777778,
              "#fb9f3a"
             ],
             [
              0.8888888888888888,
              "#fdca26"
             ],
             [
              1,
              "#f0f921"
             ]
            ],
            "type": "heatmap"
           }
          ],
          "heatmapgl": [
           {
            "colorbar": {
             "outlinewidth": 0,
             "ticks": ""
            },
            "colorscale": [
             [
              0,
              "#0d0887"
             ],
             [
              0.1111111111111111,
              "#46039f"
             ],
             [
              0.2222222222222222,
              "#7201a8"
             ],
             [
              0.3333333333333333,
              "#9c179e"
             ],
             [
              0.4444444444444444,
              "#bd3786"
             ],
             [
              0.5555555555555556,
              "#d8576b"
             ],
             [
              0.6666666666666666,
              "#ed7953"
             ],
             [
              0.7777777777777778,
              "#fb9f3a"
             ],
             [
              0.8888888888888888,
              "#fdca26"
             ],
             [
              1,
              "#f0f921"
             ]
            ],
            "type": "heatmapgl"
           }
          ],
          "histogram": [
           {
            "marker": {
             "pattern": {
              "fillmode": "overlay",
              "size": 10,
              "solidity": 0.2
             }
            },
            "type": "histogram"
           }
          ],
          "histogram2d": [
           {
            "colorbar": {
             "outlinewidth": 0,
             "ticks": ""
            },
            "colorscale": [
             [
              0,
              "#0d0887"
             ],
             [
              0.1111111111111111,
              "#46039f"
             ],
             [
              0.2222222222222222,
              "#7201a8"
             ],
             [
              0.3333333333333333,
              "#9c179e"
             ],
             [
              0.4444444444444444,
              "#bd3786"
             ],
             [
              0.5555555555555556,
              "#d8576b"
             ],
             [
              0.6666666666666666,
              "#ed7953"
             ],
             [
              0.7777777777777778,
              "#fb9f3a"
             ],
             [
              0.8888888888888888,
              "#fdca26"
             ],
             [
              1,
              "#f0f921"
             ]
            ],
            "type": "histogram2d"
           }
          ],
          "histogram2dcontour": [
           {
            "colorbar": {
             "outlinewidth": 0,
             "ticks": ""
            },
            "colorscale": [
             [
              0,
              "#0d0887"
             ],
             [
              0.1111111111111111,
              "#46039f"
             ],
             [
              0.2222222222222222,
              "#7201a8"
             ],
             [
              0.3333333333333333,
              "#9c179e"
             ],
             [
              0.4444444444444444,
              "#bd3786"
             ],
             [
              0.5555555555555556,
              "#d8576b"
             ],
             [
              0.6666666666666666,
              "#ed7953"
             ],
             [
              0.7777777777777778,
              "#fb9f3a"
             ],
             [
              0.8888888888888888,
              "#fdca26"
             ],
             [
              1,
              "#f0f921"
             ]
            ],
            "type": "histogram2dcontour"
           }
          ],
          "mesh3d": [
           {
            "colorbar": {
             "outlinewidth": 0,
             "ticks": ""
            },
            "type": "mesh3d"
           }
          ],
          "parcoords": [
           {
            "line": {
             "colorbar": {
              "outlinewidth": 0,
              "ticks": ""
             }
            },
            "type": "parcoords"
           }
          ],
          "pie": [
           {
            "automargin": true,
            "type": "pie"
           }
          ],
          "scatter": [
           {
            "fillpattern": {
             "fillmode": "overlay",
             "size": 10,
             "solidity": 0.2
            },
            "type": "scatter"
           }
          ],
          "scatter3d": [
           {
            "line": {
             "colorbar": {
              "outlinewidth": 0,
              "ticks": ""
             }
            },
            "marker": {
             "colorbar": {
              "outlinewidth": 0,
              "ticks": ""
             }
            },
            "type": "scatter3d"
           }
          ],
          "scattercarpet": [
           {
            "marker": {
             "colorbar": {
              "outlinewidth": 0,
              "ticks": ""
             }
            },
            "type": "scattercarpet"
           }
          ],
          "scattergeo": [
           {
            "marker": {
             "colorbar": {
              "outlinewidth": 0,
              "ticks": ""
             }
            },
            "type": "scattergeo"
           }
          ],
          "scattergl": [
           {
            "marker": {
             "colorbar": {
              "outlinewidth": 0,
              "ticks": ""
             }
            },
            "type": "scattergl"
           }
          ],
          "scattermapbox": [
           {
            "marker": {
             "colorbar": {
              "outlinewidth": 0,
              "ticks": ""
             }
            },
            "type": "scattermapbox"
           }
          ],
          "scatterpolar": [
           {
            "marker": {
             "colorbar": {
              "outlinewidth": 0,
              "ticks": ""
             }
            },
            "type": "scatterpolar"
           }
          ],
          "scatterpolargl": [
           {
            "marker": {
             "colorbar": {
              "outlinewidth": 0,
              "ticks": ""
             }
            },
            "type": "scatterpolargl"
           }
          ],
          "scatterternary": [
           {
            "marker": {
             "colorbar": {
              "outlinewidth": 0,
              "ticks": ""
             }
            },
            "type": "scatterternary"
           }
          ],
          "surface": [
           {
            "colorbar": {
             "outlinewidth": 0,
             "ticks": ""
            },
            "colorscale": [
             [
              0,
              "#0d0887"
             ],
             [
              0.1111111111111111,
              "#46039f"
             ],
             [
              0.2222222222222222,
              "#7201a8"
             ],
             [
              0.3333333333333333,
              "#9c179e"
             ],
             [
              0.4444444444444444,
              "#bd3786"
             ],
             [
              0.5555555555555556,
              "#d8576b"
             ],
             [
              0.6666666666666666,
              "#ed7953"
             ],
             [
              0.7777777777777778,
              "#fb9f3a"
             ],
             [
              0.8888888888888888,
              "#fdca26"
             ],
             [
              1,
              "#f0f921"
             ]
            ],
            "type": "surface"
           }
          ],
          "table": [
           {
            "cells": {
             "fill": {
              "color": "#EBF0F8"
             },
             "line": {
              "color": "white"
             }
            },
            "header": {
             "fill": {
              "color": "#C8D4E3"
             },
             "line": {
              "color": "white"
             }
            },
            "type": "table"
           }
          ]
         },
         "layout": {
          "annotationdefaults": {
           "arrowcolor": "#2a3f5f",
           "arrowhead": 0,
           "arrowwidth": 1
          },
          "autotypenumbers": "strict",
          "coloraxis": {
           "colorbar": {
            "outlinewidth": 0,
            "ticks": ""
           }
          },
          "colorscale": {
           "diverging": [
            [
             0,
             "#8e0152"
            ],
            [
             0.1,
             "#c51b7d"
            ],
            [
             0.2,
             "#de77ae"
            ],
            [
             0.3,
             "#f1b6da"
            ],
            [
             0.4,
             "#fde0ef"
            ],
            [
             0.5,
             "#f7f7f7"
            ],
            [
             0.6,
             "#e6f5d0"
            ],
            [
             0.7,
             "#b8e186"
            ],
            [
             0.8,
             "#7fbc41"
            ],
            [
             0.9,
             "#4d9221"
            ],
            [
             1,
             "#276419"
            ]
           ],
           "sequential": [
            [
             0,
             "#0d0887"
            ],
            [
             0.1111111111111111,
             "#46039f"
            ],
            [
             0.2222222222222222,
             "#7201a8"
            ],
            [
             0.3333333333333333,
             "#9c179e"
            ],
            [
             0.4444444444444444,
             "#bd3786"
            ],
            [
             0.5555555555555556,
             "#d8576b"
            ],
            [
             0.6666666666666666,
             "#ed7953"
            ],
            [
             0.7777777777777778,
             "#fb9f3a"
            ],
            [
             0.8888888888888888,
             "#fdca26"
            ],
            [
             1,
             "#f0f921"
            ]
           ],
           "sequentialminus": [
            [
             0,
             "#0d0887"
            ],
            [
             0.1111111111111111,
             "#46039f"
            ],
            [
             0.2222222222222222,
             "#7201a8"
            ],
            [
             0.3333333333333333,
             "#9c179e"
            ],
            [
             0.4444444444444444,
             "#bd3786"
            ],
            [
             0.5555555555555556,
             "#d8576b"
            ],
            [
             0.6666666666666666,
             "#ed7953"
            ],
            [
             0.7777777777777778,
             "#fb9f3a"
            ],
            [
             0.8888888888888888,
             "#fdca26"
            ],
            [
             1,
             "#f0f921"
            ]
           ]
          },
          "colorway": [
           "#636efa",
           "#EF553B",
           "#00cc96",
           "#ab63fa",
           "#FFA15A",
           "#19d3f3",
           "#FF6692",
           "#B6E880",
           "#FF97FF",
           "#FECB52"
          ],
          "font": {
           "color": "#2a3f5f"
          },
          "geo": {
           "bgcolor": "white",
           "lakecolor": "white",
           "landcolor": "white",
           "showlakes": true,
           "showland": true,
           "subunitcolor": "#C8D4E3"
          },
          "hoverlabel": {
           "align": "left"
          },
          "hovermode": "closest",
          "mapbox": {
           "style": "light"
          },
          "paper_bgcolor": "white",
          "plot_bgcolor": "white",
          "polar": {
           "angularaxis": {
            "gridcolor": "#EBF0F8",
            "linecolor": "#EBF0F8",
            "ticks": ""
           },
           "bgcolor": "white",
           "radialaxis": {
            "gridcolor": "#EBF0F8",
            "linecolor": "#EBF0F8",
            "ticks": ""
           }
          },
          "scene": {
           "xaxis": {
            "backgroundcolor": "white",
            "gridcolor": "#DFE8F3",
            "gridwidth": 2,
            "linecolor": "#EBF0F8",
            "showbackground": true,
            "ticks": "",
            "zerolinecolor": "#EBF0F8"
           },
           "yaxis": {
            "backgroundcolor": "white",
            "gridcolor": "#DFE8F3",
            "gridwidth": 2,
            "linecolor": "#EBF0F8",
            "showbackground": true,
            "ticks": "",
            "zerolinecolor": "#EBF0F8"
           },
           "zaxis": {
            "backgroundcolor": "white",
            "gridcolor": "#DFE8F3",
            "gridwidth": 2,
            "linecolor": "#EBF0F8",
            "showbackground": true,
            "ticks": "",
            "zerolinecolor": "#EBF0F8"
           }
          },
          "shapedefaults": {
           "line": {
            "color": "#2a3f5f"
           }
          },
          "ternary": {
           "aaxis": {
            "gridcolor": "#DFE8F3",
            "linecolor": "#A2B1C6",
            "ticks": ""
           },
           "baxis": {
            "gridcolor": "#DFE8F3",
            "linecolor": "#A2B1C6",
            "ticks": ""
           },
           "bgcolor": "white",
           "caxis": {
            "gridcolor": "#DFE8F3",
            "linecolor": "#A2B1C6",
            "ticks": ""
           }
          },
          "title": {
           "x": 0.05
          },
          "xaxis": {
           "automargin": true,
           "gridcolor": "#EBF0F8",
           "linecolor": "#EBF0F8",
           "ticks": "",
           "title": {
            "standoff": 15
           },
           "zerolinecolor": "#EBF0F8",
           "zerolinewidth": 2
          },
          "yaxis": {
           "automargin": true,
           "gridcolor": "#EBF0F8",
           "linecolor": "#EBF0F8",
           "ticks": "",
           "title": {
            "standoff": 15
           },
           "zerolinecolor": "#EBF0F8",
           "zerolinewidth": 2
          }
         }
        },
        "title": {
         "text": "Distribution of Hashtags"
        },
        "xaxis": {
         "anchor": "y",
         "domain": [
          0,
          1
         ],
         "title": {
          "text": "Hashtag"
         }
        },
        "yaxis": {
         "anchor": "x",
         "domain": [
          0,
          1
         ],
         "title": {
          "text": "Count"
         }
        }
       }
      }
     },
     "metadata": {},
     "output_type": "display_data"
    }
   ],
   "source": [
    "# create a list to store all hashtags\n",
    "all_hashtags = []\n",
    "\n",
    "# Iterate through each row in the hashtags column\n",
    "for row in data['Hashtags']:\n",
    "    hashtags = str(row).split()\n",
    "    hashtags = [tag.strip() for tag in hashtags]\n",
    "    all_hashtags.extend(hashtags)\n",
    "\n",
    "# Create a pandas DataFrames to store the hashtags distribution\n",
    "hashtags_distribution = pd.Series(all_hashtags).value_counts().reset_index()\n",
    "hashtags_distribution.columns = ['Hashtag', 'Count']\n",
    "\n",
    "fig = px.bar(hashtags_distribution, \n",
    "             x='Hashtag',\n",
    "             y='Count',\n",
    "             title='Distribution of Hashtags')\n",
    "fig.show()"
   ]
  },
  {
   "attachments": {},
   "cell_type": "markdown",
   "metadata": {},
   "source": [
    "Now let's have a look at the distribution of likes and impressions received from the presence of each hashtags on the posts:"
   ]
  },
  {
   "cell_type": "code",
   "execution_count": 20,
   "metadata": {},
   "outputs": [
    {
     "data": {
      "application/vnd.plotly.v1+json": {
       "config": {
        "plotlyServerURL": "https://plot.ly"
       },
       "data": [
        {
         "alignmentgroup": "True",
         "hovertemplate": "Hashtag=%{x}<br>Likes=%{y}<extra></extra>",
         "legendgroup": "",
         "marker": {
          "color": "#636efa",
          "pattern": {
           "shape": ""
          }
         },
         "name": "",
         "offsetgroup": "",
         "orientation": "v",
         "showlegend": false,
         "textposition": "auto",
         "type": "bar",
         "x": [
          "#finance",
          "#money",
          "#business",
          "#investing",
          "#investment",
          "#trading",
          "#stockmarket",
          "#data",
          "#datascience",
          "#dataanalysis",
          "#dataanalytics",
          "#datascientist",
          "#machinelearning",
          "#python",
          "#pythonprogramming",
          "#pythonprojects",
          "#pythoncode",
          "#artificialintelligence",
          "#ai",
          "#dataanalyst",
          "#amankharwal",
          "#thecleverprogrammer",
          "#healthcare",
          "#health",
          "#covid",
          "#deeplearning",
          "#machinelearningprojects",
          "#datascienceprojects",
          "#machinelearningmodels",
          "#pythonlearning",
          "#pythondeveloper",
          "#pythoncoding",
          "#pythonprogrammer",
          "#datavisualization",
          "#bigdata",
          "#dataviz",
          "#analytics",
          "#technology",
          "#programming",
          "#statistics",
          "#coding",
          "#businessintelligence",
          "#datamining",
          "#tech",
          "#computerscience",
          "#tableau",
          "#database",
          "#algorithm",
          "#algorithms",
          "#machinelearningalgorithms",
          "#ml",
          "#softskills",
          "#stocks",
          "#forex",
          "#candlestick",
          "#candlestickcharts",
          "#pythonbooks",
          "#bookstagram",
          "#powerbi",
          "#dataanalysisprojects",
          "#businessanalytics",
          "#neuralnetwork",
          "#neuralnetworks",
          "#tensorflow",
          "#artificialintelligenceai",
          "#alexnet",
          "#sentimentanalysis",
          "#sentiment",
          "#nlp",
          "#naturallanguageprocessing",
          "#timeseries",
          "#time",
          "#timeseriesanalysis",
          "#iot",
          "#analysis",
          "#timeseriesmalaysia",
          "#career",
          "#job",
          "#jobs",
          "#jobsearch",
          "#education",
          "#success",
          "#careergoals",
          "#motivation",
          "#work",
          "#careerdevelopment",
          "#careers",
          "#goals",
          "#resume",
          "#students",
          "#careeradvice",
          "#marketing",
          "#digitalmarketing",
          "#media",
          "#socialmedia",
          "#IT",
          "#webdevelopment",
          "#stress",
          "#stressdetection",
          "#zomato",
          "#casestudy",
          "#businessmodel",
          "#boxplots",
          "#programmer",
          "#developer",
          "#javascript",
          "#code",
          "#coder",
          "#java",
          "#html",
          "#css",
          "#webdeveloper",
          "#software",
          "#codinglife",
          "#softwaredeveloper",
          "#linux",
          "#programmingmemes",
          "#webdesign",
          "#programmers",
          "#php",
          "#programminglife",
          "#hacking",
          "#bitcoin",
          "#cryptocurrency",
          "#projects",
          "#casestudies",
          "#amazonfinds",
          "#security",
          "#cybersecurity",
          "#network",
          "#internet",
          "#cloud",
          "#innovation",
          "#google",
          "#facebook",
          "#interview",
          "#datascienceinterview",
          "#otp",
          "#otpverification",
          "#qrcodes",
          "#bigdataanalytics",
          "#recommended",
          "#recommendations",
          "#recommendationsystem",
          "#recommendation",
          "#codinginterview",
          "#flipkart",
          "#news",
          "#pythonprogram",
          "@codergallery",
          "#whatsapp",
          "#roadmap",
          "#ukraine",
          "#instagram",
          "#instagramreach",
          "#datasciencejobs",
          "#datasciencetraining",
          "#datascienceeducation",
          "#datasciencecourse",
          "#sql",
          "#mysql",
          "#python3",
          "#pythonprogramminglanguage",
          "#clustering"
         ],
         "xaxis": "x",
         "y": [
          529,
          529,
          2012,
          529,
          380,
          380,
          380,
          15077,
          16311,
          13801,
          15283,
          14703,
          16509,
          18238,
          16251,
          16818,
          14239,
          15515,
          15733,
          1845,
          20462,
          20462,
          729,
          729,
          729,
          13204,
          8458,
          8458,
          761,
          3659,
          3659,
          3659,
          3659,
          2382,
          2671,
          567,
          2001,
          3187,
          3355,
          1766,
          3129,
          728,
          728,
          2961,
          2818,
          265,
          887,
          1615,
          1615,
          2065,
          1058,
          144,
          218,
          218,
          218,
          218,
          124,
          124,
          529,
          387,
          387,
          1120,
          600,
          450,
          450,
          81,
          1057,
          1057,
          1238,
          1238,
          812,
          812,
          812,
          812,
          812,
          812,
          410,
          680,
          410,
          410,
          410,
          410,
          410,
          410,
          410,
          410,
          410,
          410,
          410,
          410,
          410,
          410,
          410,
          410,
          410,
          410,
          1456,
          302,
          302,
          328,
          328,
          328,
          76,
          878,
          878,
          878,
          878,
          878,
          878,
          878,
          878,
          878,
          1113,
          878,
          878,
          608,
          608,
          608,
          608,
          608,
          608,
          608,
          390,
          390,
          302,
          302,
          184,
          235,
          235,
          235,
          235,
          235,
          235,
          150,
          85,
          600,
          180,
          272,
          272,
          167,
          142,
          373,
          373,
          373,
          373,
          270,
          94,
          96,
          118,
          118,
          178,
          525,
          203,
          171,
          171,
          1814,
          1814,
          1814,
          1814,
          308,
          308,
          296,
          296,
          240
         ],
         "yaxis": "y"
        }
       ],
       "layout": {
        "barmode": "relative",
        "legend": {
         "tracegroupgap": 0
        },
        "template": {
         "data": {
          "bar": [
           {
            "error_x": {
             "color": "#2a3f5f"
            },
            "error_y": {
             "color": "#2a3f5f"
            },
            "marker": {
             "line": {
              "color": "white",
              "width": 0.5
             },
             "pattern": {
              "fillmode": "overlay",
              "size": 10,
              "solidity": 0.2
             }
            },
            "type": "bar"
           }
          ],
          "barpolar": [
           {
            "marker": {
             "line": {
              "color": "white",
              "width": 0.5
             },
             "pattern": {
              "fillmode": "overlay",
              "size": 10,
              "solidity": 0.2
             }
            },
            "type": "barpolar"
           }
          ],
          "carpet": [
           {
            "aaxis": {
             "endlinecolor": "#2a3f5f",
             "gridcolor": "#C8D4E3",
             "linecolor": "#C8D4E3",
             "minorgridcolor": "#C8D4E3",
             "startlinecolor": "#2a3f5f"
            },
            "baxis": {
             "endlinecolor": "#2a3f5f",
             "gridcolor": "#C8D4E3",
             "linecolor": "#C8D4E3",
             "minorgridcolor": "#C8D4E3",
             "startlinecolor": "#2a3f5f"
            },
            "type": "carpet"
           }
          ],
          "choropleth": [
           {
            "colorbar": {
             "outlinewidth": 0,
             "ticks": ""
            },
            "type": "choropleth"
           }
          ],
          "contour": [
           {
            "colorbar": {
             "outlinewidth": 0,
             "ticks": ""
            },
            "colorscale": [
             [
              0,
              "#0d0887"
             ],
             [
              0.1111111111111111,
              "#46039f"
             ],
             [
              0.2222222222222222,
              "#7201a8"
             ],
             [
              0.3333333333333333,
              "#9c179e"
             ],
             [
              0.4444444444444444,
              "#bd3786"
             ],
             [
              0.5555555555555556,
              "#d8576b"
             ],
             [
              0.6666666666666666,
              "#ed7953"
             ],
             [
              0.7777777777777778,
              "#fb9f3a"
             ],
             [
              0.8888888888888888,
              "#fdca26"
             ],
             [
              1,
              "#f0f921"
             ]
            ],
            "type": "contour"
           }
          ],
          "contourcarpet": [
           {
            "colorbar": {
             "outlinewidth": 0,
             "ticks": ""
            },
            "type": "contourcarpet"
           }
          ],
          "heatmap": [
           {
            "colorbar": {
             "outlinewidth": 0,
             "ticks": ""
            },
            "colorscale": [
             [
              0,
              "#0d0887"
             ],
             [
              0.1111111111111111,
              "#46039f"
             ],
             [
              0.2222222222222222,
              "#7201a8"
             ],
             [
              0.3333333333333333,
              "#9c179e"
             ],
             [
              0.4444444444444444,
              "#bd3786"
             ],
             [
              0.5555555555555556,
              "#d8576b"
             ],
             [
              0.6666666666666666,
              "#ed7953"
             ],
             [
              0.7777777777777778,
              "#fb9f3a"
             ],
             [
              0.8888888888888888,
              "#fdca26"
             ],
             [
              1,
              "#f0f921"
             ]
            ],
            "type": "heatmap"
           }
          ],
          "heatmapgl": [
           {
            "colorbar": {
             "outlinewidth": 0,
             "ticks": ""
            },
            "colorscale": [
             [
              0,
              "#0d0887"
             ],
             [
              0.1111111111111111,
              "#46039f"
             ],
             [
              0.2222222222222222,
              "#7201a8"
             ],
             [
              0.3333333333333333,
              "#9c179e"
             ],
             [
              0.4444444444444444,
              "#bd3786"
             ],
             [
              0.5555555555555556,
              "#d8576b"
             ],
             [
              0.6666666666666666,
              "#ed7953"
             ],
             [
              0.7777777777777778,
              "#fb9f3a"
             ],
             [
              0.8888888888888888,
              "#fdca26"
             ],
             [
              1,
              "#f0f921"
             ]
            ],
            "type": "heatmapgl"
           }
          ],
          "histogram": [
           {
            "marker": {
             "pattern": {
              "fillmode": "overlay",
              "size": 10,
              "solidity": 0.2
             }
            },
            "type": "histogram"
           }
          ],
          "histogram2d": [
           {
            "colorbar": {
             "outlinewidth": 0,
             "ticks": ""
            },
            "colorscale": [
             [
              0,
              "#0d0887"
             ],
             [
              0.1111111111111111,
              "#46039f"
             ],
             [
              0.2222222222222222,
              "#7201a8"
             ],
             [
              0.3333333333333333,
              "#9c179e"
             ],
             [
              0.4444444444444444,
              "#bd3786"
             ],
             [
              0.5555555555555556,
              "#d8576b"
             ],
             [
              0.6666666666666666,
              "#ed7953"
             ],
             [
              0.7777777777777778,
              "#fb9f3a"
             ],
             [
              0.8888888888888888,
              "#fdca26"
             ],
             [
              1,
              "#f0f921"
             ]
            ],
            "type": "histogram2d"
           }
          ],
          "histogram2dcontour": [
           {
            "colorbar": {
             "outlinewidth": 0,
             "ticks": ""
            },
            "colorscale": [
             [
              0,
              "#0d0887"
             ],
             [
              0.1111111111111111,
              "#46039f"
             ],
             [
              0.2222222222222222,
              "#7201a8"
             ],
             [
              0.3333333333333333,
              "#9c179e"
             ],
             [
              0.4444444444444444,
              "#bd3786"
             ],
             [
              0.5555555555555556,
              "#d8576b"
             ],
             [
              0.6666666666666666,
              "#ed7953"
             ],
             [
              0.7777777777777778,
              "#fb9f3a"
             ],
             [
              0.8888888888888888,
              "#fdca26"
             ],
             [
              1,
              "#f0f921"
             ]
            ],
            "type": "histogram2dcontour"
           }
          ],
          "mesh3d": [
           {
            "colorbar": {
             "outlinewidth": 0,
             "ticks": ""
            },
            "type": "mesh3d"
           }
          ],
          "parcoords": [
           {
            "line": {
             "colorbar": {
              "outlinewidth": 0,
              "ticks": ""
             }
            },
            "type": "parcoords"
           }
          ],
          "pie": [
           {
            "automargin": true,
            "type": "pie"
           }
          ],
          "scatter": [
           {
            "fillpattern": {
             "fillmode": "overlay",
             "size": 10,
             "solidity": 0.2
            },
            "type": "scatter"
           }
          ],
          "scatter3d": [
           {
            "line": {
             "colorbar": {
              "outlinewidth": 0,
              "ticks": ""
             }
            },
            "marker": {
             "colorbar": {
              "outlinewidth": 0,
              "ticks": ""
             }
            },
            "type": "scatter3d"
           }
          ],
          "scattercarpet": [
           {
            "marker": {
             "colorbar": {
              "outlinewidth": 0,
              "ticks": ""
             }
            },
            "type": "scattercarpet"
           }
          ],
          "scattergeo": [
           {
            "marker": {
             "colorbar": {
              "outlinewidth": 0,
              "ticks": ""
             }
            },
            "type": "scattergeo"
           }
          ],
          "scattergl": [
           {
            "marker": {
             "colorbar": {
              "outlinewidth": 0,
              "ticks": ""
             }
            },
            "type": "scattergl"
           }
          ],
          "scattermapbox": [
           {
            "marker": {
             "colorbar": {
              "outlinewidth": 0,
              "ticks": ""
             }
            },
            "type": "scattermapbox"
           }
          ],
          "scatterpolar": [
           {
            "marker": {
             "colorbar": {
              "outlinewidth": 0,
              "ticks": ""
             }
            },
            "type": "scatterpolar"
           }
          ],
          "scatterpolargl": [
           {
            "marker": {
             "colorbar": {
              "outlinewidth": 0,
              "ticks": ""
             }
            },
            "type": "scatterpolargl"
           }
          ],
          "scatterternary": [
           {
            "marker": {
             "colorbar": {
              "outlinewidth": 0,
              "ticks": ""
             }
            },
            "type": "scatterternary"
           }
          ],
          "surface": [
           {
            "colorbar": {
             "outlinewidth": 0,
             "ticks": ""
            },
            "colorscale": [
             [
              0,
              "#0d0887"
             ],
             [
              0.1111111111111111,
              "#46039f"
             ],
             [
              0.2222222222222222,
              "#7201a8"
             ],
             [
              0.3333333333333333,
              "#9c179e"
             ],
             [
              0.4444444444444444,
              "#bd3786"
             ],
             [
              0.5555555555555556,
              "#d8576b"
             ],
             [
              0.6666666666666666,
              "#ed7953"
             ],
             [
              0.7777777777777778,
              "#fb9f3a"
             ],
             [
              0.8888888888888888,
              "#fdca26"
             ],
             [
              1,
              "#f0f921"
             ]
            ],
            "type": "surface"
           }
          ],
          "table": [
           {
            "cells": {
             "fill": {
              "color": "#EBF0F8"
             },
             "line": {
              "color": "white"
             }
            },
            "header": {
             "fill": {
              "color": "#C8D4E3"
             },
             "line": {
              "color": "white"
             }
            },
            "type": "table"
           }
          ]
         },
         "layout": {
          "annotationdefaults": {
           "arrowcolor": "#2a3f5f",
           "arrowhead": 0,
           "arrowwidth": 1
          },
          "autotypenumbers": "strict",
          "coloraxis": {
           "colorbar": {
            "outlinewidth": 0,
            "ticks": ""
           }
          },
          "colorscale": {
           "diverging": [
            [
             0,
             "#8e0152"
            ],
            [
             0.1,
             "#c51b7d"
            ],
            [
             0.2,
             "#de77ae"
            ],
            [
             0.3,
             "#f1b6da"
            ],
            [
             0.4,
             "#fde0ef"
            ],
            [
             0.5,
             "#f7f7f7"
            ],
            [
             0.6,
             "#e6f5d0"
            ],
            [
             0.7,
             "#b8e186"
            ],
            [
             0.8,
             "#7fbc41"
            ],
            [
             0.9,
             "#4d9221"
            ],
            [
             1,
             "#276419"
            ]
           ],
           "sequential": [
            [
             0,
             "#0d0887"
            ],
            [
             0.1111111111111111,
             "#46039f"
            ],
            [
             0.2222222222222222,
             "#7201a8"
            ],
            [
             0.3333333333333333,
             "#9c179e"
            ],
            [
             0.4444444444444444,
             "#bd3786"
            ],
            [
             0.5555555555555556,
             "#d8576b"
            ],
            [
             0.6666666666666666,
             "#ed7953"
            ],
            [
             0.7777777777777778,
             "#fb9f3a"
            ],
            [
             0.8888888888888888,
             "#fdca26"
            ],
            [
             1,
             "#f0f921"
            ]
           ],
           "sequentialminus": [
            [
             0,
             "#0d0887"
            ],
            [
             0.1111111111111111,
             "#46039f"
            ],
            [
             0.2222222222222222,
             "#7201a8"
            ],
            [
             0.3333333333333333,
             "#9c179e"
            ],
            [
             0.4444444444444444,
             "#bd3786"
            ],
            [
             0.5555555555555556,
             "#d8576b"
            ],
            [
             0.6666666666666666,
             "#ed7953"
            ],
            [
             0.7777777777777778,
             "#fb9f3a"
            ],
            [
             0.8888888888888888,
             "#fdca26"
            ],
            [
             1,
             "#f0f921"
            ]
           ]
          },
          "colorway": [
           "#636efa",
           "#EF553B",
           "#00cc96",
           "#ab63fa",
           "#FFA15A",
           "#19d3f3",
           "#FF6692",
           "#B6E880",
           "#FF97FF",
           "#FECB52"
          ],
          "font": {
           "color": "#2a3f5f"
          },
          "geo": {
           "bgcolor": "white",
           "lakecolor": "white",
           "landcolor": "white",
           "showlakes": true,
           "showland": true,
           "subunitcolor": "#C8D4E3"
          },
          "hoverlabel": {
           "align": "left"
          },
          "hovermode": "closest",
          "mapbox": {
           "style": "light"
          },
          "paper_bgcolor": "white",
          "plot_bgcolor": "white",
          "polar": {
           "angularaxis": {
            "gridcolor": "#EBF0F8",
            "linecolor": "#EBF0F8",
            "ticks": ""
           },
           "bgcolor": "white",
           "radialaxis": {
            "gridcolor": "#EBF0F8",
            "linecolor": "#EBF0F8",
            "ticks": ""
           }
          },
          "scene": {
           "xaxis": {
            "backgroundcolor": "white",
            "gridcolor": "#DFE8F3",
            "gridwidth": 2,
            "linecolor": "#EBF0F8",
            "showbackground": true,
            "ticks": "",
            "zerolinecolor": "#EBF0F8"
           },
           "yaxis": {
            "backgroundcolor": "white",
            "gridcolor": "#DFE8F3",
            "gridwidth": 2,
            "linecolor": "#EBF0F8",
            "showbackground": true,
            "ticks": "",
            "zerolinecolor": "#EBF0F8"
           },
           "zaxis": {
            "backgroundcolor": "white",
            "gridcolor": "#DFE8F3",
            "gridwidth": 2,
            "linecolor": "#EBF0F8",
            "showbackground": true,
            "ticks": "",
            "zerolinecolor": "#EBF0F8"
           }
          },
          "shapedefaults": {
           "line": {
            "color": "#2a3f5f"
           }
          },
          "ternary": {
           "aaxis": {
            "gridcolor": "#DFE8F3",
            "linecolor": "#A2B1C6",
            "ticks": ""
           },
           "baxis": {
            "gridcolor": "#DFE8F3",
            "linecolor": "#A2B1C6",
            "ticks": ""
           },
           "bgcolor": "white",
           "caxis": {
            "gridcolor": "#DFE8F3",
            "linecolor": "#A2B1C6",
            "ticks": ""
           }
          },
          "title": {
           "x": 0.05
          },
          "xaxis": {
           "automargin": true,
           "gridcolor": "#EBF0F8",
           "linecolor": "#EBF0F8",
           "ticks": "",
           "title": {
            "standoff": 15
           },
           "zerolinecolor": "#EBF0F8",
           "zerolinewidth": 2
          },
          "yaxis": {
           "automargin": true,
           "gridcolor": "#EBF0F8",
           "linecolor": "#EBF0F8",
           "ticks": "",
           "title": {
            "standoff": 15
           },
           "zerolinecolor": "#EBF0F8",
           "zerolinewidth": 2
          }
         }
        },
        "title": {
         "text": "Likes Distribution for Each Hashtags"
        },
        "xaxis": {
         "anchor": "y",
         "domain": [
          0,
          1
         ],
         "title": {
          "text": "Hashtag"
         }
        },
        "yaxis": {
         "anchor": "x",
         "domain": [
          0,
          1
         ],
         "title": {
          "text": "Likes"
         }
        }
       }
      }
     },
     "metadata": {},
     "output_type": "display_data"
    },
    {
     "data": {
      "application/vnd.plotly.v1+json": {
       "config": {
        "plotlyServerURL": "https://plot.ly"
       },
       "data": [
        {
         "alignmentgroup": "True",
         "hovertemplate": "Hashtag=%{x}<br>Impressions=%{y}<extra></extra>",
         "legendgroup": "",
         "marker": {
          "color": "#636efa",
          "pattern": {
           "shape": ""
          }
         },
         "name": "",
         "offsetgroup": "",
         "orientation": "v",
         "showlegend": false,
         "textposition": "auto",
         "type": "bar",
         "x": [
          "#finance",
          "#money",
          "#business",
          "#investing",
          "#investment",
          "#trading",
          "#stockmarket",
          "#data",
          "#datascience",
          "#dataanalysis",
          "#dataanalytics",
          "#datascientist",
          "#machinelearning",
          "#python",
          "#pythonprogramming",
          "#pythonprojects",
          "#pythoncode",
          "#artificialintelligence",
          "#ai",
          "#dataanalyst",
          "#amankharwal",
          "#thecleverprogrammer",
          "#healthcare",
          "#health",
          "#covid",
          "#deeplearning",
          "#machinelearningprojects",
          "#datascienceprojects",
          "#machinelearningmodels",
          "#pythonlearning",
          "#pythondeveloper",
          "#pythoncoding",
          "#pythonprogrammer",
          "#datavisualization",
          "#bigdata",
          "#dataviz",
          "#analytics",
          "#technology",
          "#programming",
          "#statistics",
          "#coding",
          "#businessintelligence",
          "#datamining",
          "#tech",
          "#computerscience",
          "#tableau",
          "#database",
          "#algorithm",
          "#algorithms",
          "#machinelearningalgorithms",
          "#ml",
          "#softskills",
          "#stocks",
          "#forex",
          "#candlestick",
          "#candlestickcharts",
          "#pythonbooks",
          "#bookstagram",
          "#powerbi",
          "#dataanalysisprojects",
          "#businessanalytics",
          "#neuralnetwork",
          "#neuralnetworks",
          "#tensorflow",
          "#artificialintelligenceai",
          "#alexnet",
          "#sentimentanalysis",
          "#sentiment",
          "#nlp",
          "#naturallanguageprocessing",
          "#timeseries",
          "#time",
          "#timeseriesanalysis",
          "#iot",
          "#analysis",
          "#timeseriesmalaysia",
          "#career",
          "#job",
          "#jobs",
          "#jobsearch",
          "#education",
          "#success",
          "#careergoals",
          "#motivation",
          "#work",
          "#careerdevelopment",
          "#careers",
          "#goals",
          "#resume",
          "#students",
          "#careeradvice",
          "#marketing",
          "#digitalmarketing",
          "#media",
          "#socialmedia",
          "#IT",
          "#webdevelopment",
          "#stress",
          "#stressdetection",
          "#zomato",
          "#casestudy",
          "#businessmodel",
          "#boxplots",
          "#programmer",
          "#developer",
          "#javascript",
          "#code",
          "#coder",
          "#java",
          "#html",
          "#css",
          "#webdeveloper",
          "#software",
          "#codinglife",
          "#softwaredeveloper",
          "#linux",
          "#programmingmemes",
          "#webdesign",
          "#programmers",
          "#php",
          "#programminglife",
          "#hacking",
          "#bitcoin",
          "#cryptocurrency",
          "#projects",
          "#casestudies",
          "#amazonfinds",
          "#security",
          "#cybersecurity",
          "#network",
          "#internet",
          "#cloud",
          "#innovation",
          "#google",
          "#facebook",
          "#interview",
          "#datascienceinterview",
          "#otp",
          "#otpverification",
          "#qrcodes",
          "#bigdataanalytics",
          "#recommended",
          "#recommendations",
          "#recommendationsystem",
          "#recommendation",
          "#codinginterview",
          "#flipkart",
          "#news",
          "#pythonprogram",
          "@codergallery",
          "#whatsapp",
          "#roadmap",
          "#ukraine",
          "#instagram",
          "#instagramreach",
          "#datasciencejobs",
          "#datasciencetraining",
          "#datascienceeducation",
          "#datasciencecourse",
          "#sql",
          "#mysql",
          "#python3",
          "#pythonprogramminglanguage",
          "#clustering"
         ],
         "xaxis": "x",
         "y": [
          14224,
          14224,
          51387,
          14224,
          9757,
          9757,
          9757,
          484761,
          524640,
          457923,
          497787,
          483746,
          532627,
          578243,
          525346,
          567608,
          470276,
          506190,
          512027,
          47051,
          672166,
          672166,
          18292,
          18292,
          18292,
          445317,
          297427,
          297427,
          27201,
          135901,
          135901,
          135901,
          135901,
          64864,
          70884,
          15438,
          53464,
          85523,
          90132,
          47283,
          83264,
          17971,
          17971,
          78655,
          75019,
          6506,
          22088,
          57289,
          57289,
          71529,
          30316,
          3884,
          5837,
          5837,
          5837,
          5837,
          3541,
          3541,
          13389,
          9401,
          9401,
          31660,
          18529,
          14240,
          14240,
          2218,
          34102,
          34102,
          42567,
          42567,
          22444,
          22444,
          22444,
          22444,
          22444,
          22444,
          8004,
          14856,
          8004,
          8004,
          8004,
          8004,
          8004,
          8004,
          8004,
          8004,
          8004,
          8004,
          8004,
          8004,
          8004,
          8004,
          8004,
          8004,
          8004,
          8004,
          35456,
          12336,
          12336,
          10844,
          10844,
          10844,
          2064,
          22843,
          22843,
          22843,
          22843,
          22843,
          22843,
          22843,
          22843,
          22843,
          29024,
          22843,
          22843,
          15991,
          15991,
          15991,
          15991,
          15991,
          15991,
          15991,
          14121,
          14121,
          7848,
          7848,
          6030,
          6181,
          6181,
          6181,
          6181,
          6181,
          6181,
          3854,
          2327,
          16139,
          4998,
          8030,
          8030,
          3786,
          3988,
          10036,
          10036,
          10036,
          10036,
          6852,
          3601,
          3525,
          2957,
          2957,
          5538,
          10682,
          8001,
          7231,
          7231,
          86691,
          86691,
          86691,
          86691,
          17713,
          17713,
          15991,
          15991,
          9870
         ],
         "yaxis": "y"
        }
       ],
       "layout": {
        "barmode": "relative",
        "legend": {
         "tracegroupgap": 0
        },
        "template": {
         "data": {
          "bar": [
           {
            "error_x": {
             "color": "#2a3f5f"
            },
            "error_y": {
             "color": "#2a3f5f"
            },
            "marker": {
             "line": {
              "color": "white",
              "width": 0.5
             },
             "pattern": {
              "fillmode": "overlay",
              "size": 10,
              "solidity": 0.2
             }
            },
            "type": "bar"
           }
          ],
          "barpolar": [
           {
            "marker": {
             "line": {
              "color": "white",
              "width": 0.5
             },
             "pattern": {
              "fillmode": "overlay",
              "size": 10,
              "solidity": 0.2
             }
            },
            "type": "barpolar"
           }
          ],
          "carpet": [
           {
            "aaxis": {
             "endlinecolor": "#2a3f5f",
             "gridcolor": "#C8D4E3",
             "linecolor": "#C8D4E3",
             "minorgridcolor": "#C8D4E3",
             "startlinecolor": "#2a3f5f"
            },
            "baxis": {
             "endlinecolor": "#2a3f5f",
             "gridcolor": "#C8D4E3",
             "linecolor": "#C8D4E3",
             "minorgridcolor": "#C8D4E3",
             "startlinecolor": "#2a3f5f"
            },
            "type": "carpet"
           }
          ],
          "choropleth": [
           {
            "colorbar": {
             "outlinewidth": 0,
             "ticks": ""
            },
            "type": "choropleth"
           }
          ],
          "contour": [
           {
            "colorbar": {
             "outlinewidth": 0,
             "ticks": ""
            },
            "colorscale": [
             [
              0,
              "#0d0887"
             ],
             [
              0.1111111111111111,
              "#46039f"
             ],
             [
              0.2222222222222222,
              "#7201a8"
             ],
             [
              0.3333333333333333,
              "#9c179e"
             ],
             [
              0.4444444444444444,
              "#bd3786"
             ],
             [
              0.5555555555555556,
              "#d8576b"
             ],
             [
              0.6666666666666666,
              "#ed7953"
             ],
             [
              0.7777777777777778,
              "#fb9f3a"
             ],
             [
              0.8888888888888888,
              "#fdca26"
             ],
             [
              1,
              "#f0f921"
             ]
            ],
            "type": "contour"
           }
          ],
          "contourcarpet": [
           {
            "colorbar": {
             "outlinewidth": 0,
             "ticks": ""
            },
            "type": "contourcarpet"
           }
          ],
          "heatmap": [
           {
            "colorbar": {
             "outlinewidth": 0,
             "ticks": ""
            },
            "colorscale": [
             [
              0,
              "#0d0887"
             ],
             [
              0.1111111111111111,
              "#46039f"
             ],
             [
              0.2222222222222222,
              "#7201a8"
             ],
             [
              0.3333333333333333,
              "#9c179e"
             ],
             [
              0.4444444444444444,
              "#bd3786"
             ],
             [
              0.5555555555555556,
              "#d8576b"
             ],
             [
              0.6666666666666666,
              "#ed7953"
             ],
             [
              0.7777777777777778,
              "#fb9f3a"
             ],
             [
              0.8888888888888888,
              "#fdca26"
             ],
             [
              1,
              "#f0f921"
             ]
            ],
            "type": "heatmap"
           }
          ],
          "heatmapgl": [
           {
            "colorbar": {
             "outlinewidth": 0,
             "ticks": ""
            },
            "colorscale": [
             [
              0,
              "#0d0887"
             ],
             [
              0.1111111111111111,
              "#46039f"
             ],
             [
              0.2222222222222222,
              "#7201a8"
             ],
             [
              0.3333333333333333,
              "#9c179e"
             ],
             [
              0.4444444444444444,
              "#bd3786"
             ],
             [
              0.5555555555555556,
              "#d8576b"
             ],
             [
              0.6666666666666666,
              "#ed7953"
             ],
             [
              0.7777777777777778,
              "#fb9f3a"
             ],
             [
              0.8888888888888888,
              "#fdca26"
             ],
             [
              1,
              "#f0f921"
             ]
            ],
            "type": "heatmapgl"
           }
          ],
          "histogram": [
           {
            "marker": {
             "pattern": {
              "fillmode": "overlay",
              "size": 10,
              "solidity": 0.2
             }
            },
            "type": "histogram"
           }
          ],
          "histogram2d": [
           {
            "colorbar": {
             "outlinewidth": 0,
             "ticks": ""
            },
            "colorscale": [
             [
              0,
              "#0d0887"
             ],
             [
              0.1111111111111111,
              "#46039f"
             ],
             [
              0.2222222222222222,
              "#7201a8"
             ],
             [
              0.3333333333333333,
              "#9c179e"
             ],
             [
              0.4444444444444444,
              "#bd3786"
             ],
             [
              0.5555555555555556,
              "#d8576b"
             ],
             [
              0.6666666666666666,
              "#ed7953"
             ],
             [
              0.7777777777777778,
              "#fb9f3a"
             ],
             [
              0.8888888888888888,
              "#fdca26"
             ],
             [
              1,
              "#f0f921"
             ]
            ],
            "type": "histogram2d"
           }
          ],
          "histogram2dcontour": [
           {
            "colorbar": {
             "outlinewidth": 0,
             "ticks": ""
            },
            "colorscale": [
             [
              0,
              "#0d0887"
             ],
             [
              0.1111111111111111,
              "#46039f"
             ],
             [
              0.2222222222222222,
              "#7201a8"
             ],
             [
              0.3333333333333333,
              "#9c179e"
             ],
             [
              0.4444444444444444,
              "#bd3786"
             ],
             [
              0.5555555555555556,
              "#d8576b"
             ],
             [
              0.6666666666666666,
              "#ed7953"
             ],
             [
              0.7777777777777778,
              "#fb9f3a"
             ],
             [
              0.8888888888888888,
              "#fdca26"
             ],
             [
              1,
              "#f0f921"
             ]
            ],
            "type": "histogram2dcontour"
           }
          ],
          "mesh3d": [
           {
            "colorbar": {
             "outlinewidth": 0,
             "ticks": ""
            },
            "type": "mesh3d"
           }
          ],
          "parcoords": [
           {
            "line": {
             "colorbar": {
              "outlinewidth": 0,
              "ticks": ""
             }
            },
            "type": "parcoords"
           }
          ],
          "pie": [
           {
            "automargin": true,
            "type": "pie"
           }
          ],
          "scatter": [
           {
            "fillpattern": {
             "fillmode": "overlay",
             "size": 10,
             "solidity": 0.2
            },
            "type": "scatter"
           }
          ],
          "scatter3d": [
           {
            "line": {
             "colorbar": {
              "outlinewidth": 0,
              "ticks": ""
             }
            },
            "marker": {
             "colorbar": {
              "outlinewidth": 0,
              "ticks": ""
             }
            },
            "type": "scatter3d"
           }
          ],
          "scattercarpet": [
           {
            "marker": {
             "colorbar": {
              "outlinewidth": 0,
              "ticks": ""
             }
            },
            "type": "scattercarpet"
           }
          ],
          "scattergeo": [
           {
            "marker": {
             "colorbar": {
              "outlinewidth": 0,
              "ticks": ""
             }
            },
            "type": "scattergeo"
           }
          ],
          "scattergl": [
           {
            "marker": {
             "colorbar": {
              "outlinewidth": 0,
              "ticks": ""
             }
            },
            "type": "scattergl"
           }
          ],
          "scattermapbox": [
           {
            "marker": {
             "colorbar": {
              "outlinewidth": 0,
              "ticks": ""
             }
            },
            "type": "scattermapbox"
           }
          ],
          "scatterpolar": [
           {
            "marker": {
             "colorbar": {
              "outlinewidth": 0,
              "ticks": ""
             }
            },
            "type": "scatterpolar"
           }
          ],
          "scatterpolargl": [
           {
            "marker": {
             "colorbar": {
              "outlinewidth": 0,
              "ticks": ""
             }
            },
            "type": "scatterpolargl"
           }
          ],
          "scatterternary": [
           {
            "marker": {
             "colorbar": {
              "outlinewidth": 0,
              "ticks": ""
             }
            },
            "type": "scatterternary"
           }
          ],
          "surface": [
           {
            "colorbar": {
             "outlinewidth": 0,
             "ticks": ""
            },
            "colorscale": [
             [
              0,
              "#0d0887"
             ],
             [
              0.1111111111111111,
              "#46039f"
             ],
             [
              0.2222222222222222,
              "#7201a8"
             ],
             [
              0.3333333333333333,
              "#9c179e"
             ],
             [
              0.4444444444444444,
              "#bd3786"
             ],
             [
              0.5555555555555556,
              "#d8576b"
             ],
             [
              0.6666666666666666,
              "#ed7953"
             ],
             [
              0.7777777777777778,
              "#fb9f3a"
             ],
             [
              0.8888888888888888,
              "#fdca26"
             ],
             [
              1,
              "#f0f921"
             ]
            ],
            "type": "surface"
           }
          ],
          "table": [
           {
            "cells": {
             "fill": {
              "color": "#EBF0F8"
             },
             "line": {
              "color": "white"
             }
            },
            "header": {
             "fill": {
              "color": "#C8D4E3"
             },
             "line": {
              "color": "white"
             }
            },
            "type": "table"
           }
          ]
         },
         "layout": {
          "annotationdefaults": {
           "arrowcolor": "#2a3f5f",
           "arrowhead": 0,
           "arrowwidth": 1
          },
          "autotypenumbers": "strict",
          "coloraxis": {
           "colorbar": {
            "outlinewidth": 0,
            "ticks": ""
           }
          },
          "colorscale": {
           "diverging": [
            [
             0,
             "#8e0152"
            ],
            [
             0.1,
             "#c51b7d"
            ],
            [
             0.2,
             "#de77ae"
            ],
            [
             0.3,
             "#f1b6da"
            ],
            [
             0.4,
             "#fde0ef"
            ],
            [
             0.5,
             "#f7f7f7"
            ],
            [
             0.6,
             "#e6f5d0"
            ],
            [
             0.7,
             "#b8e186"
            ],
            [
             0.8,
             "#7fbc41"
            ],
            [
             0.9,
             "#4d9221"
            ],
            [
             1,
             "#276419"
            ]
           ],
           "sequential": [
            [
             0,
             "#0d0887"
            ],
            [
             0.1111111111111111,
             "#46039f"
            ],
            [
             0.2222222222222222,
             "#7201a8"
            ],
            [
             0.3333333333333333,
             "#9c179e"
            ],
            [
             0.4444444444444444,
             "#bd3786"
            ],
            [
             0.5555555555555556,
             "#d8576b"
            ],
            [
             0.6666666666666666,
             "#ed7953"
            ],
            [
             0.7777777777777778,
             "#fb9f3a"
            ],
            [
             0.8888888888888888,
             "#fdca26"
            ],
            [
             1,
             "#f0f921"
            ]
           ],
           "sequentialminus": [
            [
             0,
             "#0d0887"
            ],
            [
             0.1111111111111111,
             "#46039f"
            ],
            [
             0.2222222222222222,
             "#7201a8"
            ],
            [
             0.3333333333333333,
             "#9c179e"
            ],
            [
             0.4444444444444444,
             "#bd3786"
            ],
            [
             0.5555555555555556,
             "#d8576b"
            ],
            [
             0.6666666666666666,
             "#ed7953"
            ],
            [
             0.7777777777777778,
             "#fb9f3a"
            ],
            [
             0.8888888888888888,
             "#fdca26"
            ],
            [
             1,
             "#f0f921"
            ]
           ]
          },
          "colorway": [
           "#636efa",
           "#EF553B",
           "#00cc96",
           "#ab63fa",
           "#FFA15A",
           "#19d3f3",
           "#FF6692",
           "#B6E880",
           "#FF97FF",
           "#FECB52"
          ],
          "font": {
           "color": "#2a3f5f"
          },
          "geo": {
           "bgcolor": "white",
           "lakecolor": "white",
           "landcolor": "white",
           "showlakes": true,
           "showland": true,
           "subunitcolor": "#C8D4E3"
          },
          "hoverlabel": {
           "align": "left"
          },
          "hovermode": "closest",
          "mapbox": {
           "style": "light"
          },
          "paper_bgcolor": "white",
          "plot_bgcolor": "white",
          "polar": {
           "angularaxis": {
            "gridcolor": "#EBF0F8",
            "linecolor": "#EBF0F8",
            "ticks": ""
           },
           "bgcolor": "white",
           "radialaxis": {
            "gridcolor": "#EBF0F8",
            "linecolor": "#EBF0F8",
            "ticks": ""
           }
          },
          "scene": {
           "xaxis": {
            "backgroundcolor": "white",
            "gridcolor": "#DFE8F3",
            "gridwidth": 2,
            "linecolor": "#EBF0F8",
            "showbackground": true,
            "ticks": "",
            "zerolinecolor": "#EBF0F8"
           },
           "yaxis": {
            "backgroundcolor": "white",
            "gridcolor": "#DFE8F3",
            "gridwidth": 2,
            "linecolor": "#EBF0F8",
            "showbackground": true,
            "ticks": "",
            "zerolinecolor": "#EBF0F8"
           },
           "zaxis": {
            "backgroundcolor": "white",
            "gridcolor": "#DFE8F3",
            "gridwidth": 2,
            "linecolor": "#EBF0F8",
            "showbackground": true,
            "ticks": "",
            "zerolinecolor": "#EBF0F8"
           }
          },
          "shapedefaults": {
           "line": {
            "color": "#2a3f5f"
           }
          },
          "ternary": {
           "aaxis": {
            "gridcolor": "#DFE8F3",
            "linecolor": "#A2B1C6",
            "ticks": ""
           },
           "baxis": {
            "gridcolor": "#DFE8F3",
            "linecolor": "#A2B1C6",
            "ticks": ""
           },
           "bgcolor": "white",
           "caxis": {
            "gridcolor": "#DFE8F3",
            "linecolor": "#A2B1C6",
            "ticks": ""
           }
          },
          "title": {
           "x": 0.05
          },
          "xaxis": {
           "automargin": true,
           "gridcolor": "#EBF0F8",
           "linecolor": "#EBF0F8",
           "ticks": "",
           "title": {
            "standoff": 15
           },
           "zerolinecolor": "#EBF0F8",
           "zerolinewidth": 2
          },
          "yaxis": {
           "automargin": true,
           "gridcolor": "#EBF0F8",
           "linecolor": "#EBF0F8",
           "ticks": "",
           "title": {
            "standoff": 15
           },
           "zerolinecolor": "#EBF0F8",
           "zerolinewidth": 2
          }
         }
        },
        "title": {
         "text": "Impression Distribution for Each Hashtag"
        },
        "xaxis": {
         "anchor": "y",
         "domain": [
          0,
          1
         ],
         "title": {
          "text": "Hashtag"
         }
        },
        "yaxis": {
         "anchor": "x",
         "domain": [
          0,
          1
         ],
         "title": {
          "text": "Impressions"
         }
        }
       }
      }
     },
     "metadata": {},
     "output_type": "display_data"
    }
   ],
   "source": [
    "# Create a dictionary to store the likes and impressions for each hashtag\n",
    "hashtag_likes = {}\n",
    "hashtag_impressions = {}\n",
    "\n",
    "# Iterate through each row in the dataset\n",
    "for index, row in data.iterrows():\n",
    "    hashtags = str(row['Hashtags']).split()\n",
    "    for hashtag in hashtags:\n",
    "        hashtag = hashtag.strip()\n",
    "        if hashtag not in hashtag_likes:\n",
    "            hashtag_likes[hashtag] = 0\n",
    "            hashtag_impressions[hashtag] = 0\n",
    "        hashtag_likes[hashtag] += row['Likes']\n",
    "        hashtag_impressions[hashtag] += row['Impressions']\n",
    "\n",
    "# Create a DataFrame for like distribution\n",
    "likes_distribution = pd.DataFrame(list(hashtag_likes.items()), columns=['Hashtag', 'Likes'])\n",
    "\n",
    "# Create a DataFrame for impressions distribution\n",
    "impression_distribution = pd.DataFrame(list(hashtag_impressions.items()), columns=['Hashtag', 'Impressions'])\n",
    "\n",
    "fig_likes = px.bar(likes_distribution, \n",
    "                   x='Hashtag',\n",
    "                   y='Likes',\n",
    "                   title='Likes Distribution for Each Hashtags')\n",
    "fig_impressions = px.bar(impression_distribution,\n",
    "                         x='Hashtag',\n",
    "                         y='Impressions',\n",
    "                         title='Impression Distribution for Each Hashtag')\n",
    "\n",
    "fig_likes.show()\n",
    "fig_impressions.show()"
   ]
  },
  {
   "attachments": {},
   "cell_type": "markdown",
   "metadata": {},
   "source": [
    "So this is how you can perform Exploratory Data Analysis using Python. The kind of graphs you should use while exploring your data depends on the kind of data you are dealing with. I hope this article has given you a good idea about how to perform EDA using Python."
   ]
  },
  {
   "attachments": {},
   "cell_type": "markdown",
   "metadata": {},
   "source": [
    "# Summary\n",
    "\n",
    "Exploratory data analysis (EDA) is a Data Science concept where we analyze a dataset to discover patterns, trends, and relationships within the data. It helps us better understand the information contained in the dataset and guides us in making informed decisions and formulating strategies to solve real business problems. I hope you liked this Exploratory Data Analysis using Python."
   ]
  }
 ],
 "metadata": {
  "kernelspec": {
   "display_name": "base",
   "language": "python",
   "name": "python3"
  },
  "language_info": {
   "codemirror_mode": {
    "name": "ipython",
    "version": 3
   },
   "file_extension": ".py",
   "mimetype": "text/x-python",
   "name": "python",
   "nbconvert_exporter": "python",
   "pygments_lexer": "ipython3",
   "version": "3.9.13"
  },
  "orig_nbformat": 4
 },
 "nbformat": 4,
 "nbformat_minor": 2
}
